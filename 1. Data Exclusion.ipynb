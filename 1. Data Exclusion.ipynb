{
 "cells": [
  {
   "cell_type": "markdown",
   "source": [
    "# Data Exclusion\n",
    "Experimental data is excluded below based on the following criteria:\n",
    "1. A subject is excluded if they self-report to have not understood the task instructions in the post-task questionnaire\n",
    "2. A musical set (one of the test conditions each subject interacts with) is excluded from a subject's data if there's insufficient responses to perform statistics on the data (fewer than 10 responses)"
   ],
   "metadata": {
    "collapsed": false
   }
  },
  {
   "cell_type": "markdown",
   "source": [
    "## Imports"
   ],
   "metadata": {
    "collapsed": false
   }
  },
  {
   "cell_type": "code",
   "source": [
    "import math\n",
    "\n",
    "import seaborn as sns\n",
    "import StudyII_All_5_note_Sets.paths as StudyII_paths\n",
    "import StudyI_Pentatonic_vs_Chromatic.paths as StudyI_paths\n",
    "import Study_Likert.paths as Study_likert_paths\n",
    "import Study_Uniform.paths as Study_uniform_paths\n",
    "import Study_Tritave_Uniform.paths as Study_tritave_uniform_paths\n",
    "import Study_Tritave_pentachords.paths as Study_tritave_pentachords_paths\n",
    "import pandas as pd"
   ],
   "metadata": {
    "collapsed": false,
    "ExecuteTime": {
     "end_time": "2024-12-13T21:45:34.356030Z",
     "start_time": "2024-12-13T21:45:34.353031Z"
    }
   },
   "outputs": [],
   "execution_count": 25
  },
  {
   "cell_type": "code",
   "source": [
    "studyI_GL = pd.read_csv(StudyI_paths.processed_dir + 'group_level_results.csv')\n",
    "studyII_GL = pd.read_csv(StudyII_paths.processed_dir + 'group_level_results.csv')\n",
    "study_uniform = pd.read_csv(Study_uniform_paths.processed_dir + 'group_level_results.csv')\n",
    "study_tritave_uniform = pd.read_csv(Study_tritave_uniform_paths.processed_dir + 'group_level_results.csv')\n",
    "study_tritave_pentachords = pd.read_csv(Study_tritave_pentachords_paths.processed_dir + 'group_level_results.csv')\n",
    "decoys = pd.read_csv(StudyII_paths.processed_dir + 'group_level_decoy_results.csv')\n",
    "study_likert = pd.read_csv(Study_likert_paths.processed_dir + 'group_level_results.csv')"
   ],
   "metadata": {
    "collapsed": false,
    "ExecuteTime": {
     "end_time": "2024-12-13T21:45:34.815716Z",
     "start_time": "2024-12-13T21:45:34.720208Z"
    }
   },
   "outputs": [],
   "execution_count": 26
  },
  {
   "cell_type": "markdown",
   "source": [
    "## Statistics scripts (do not change data, but report the impact of the exclusion on the data)"
   ],
   "metadata": {
    "collapsed": false
   }
  },
  {
   "cell_type": "code",
   "source": [
    "# Standard Error of the Mean\n",
    "def get_SEM(pentatonic_only=True):\n",
    "    temp = studyII_GL\n",
    "    if(pentatonic_only):\n",
    "        temp = temp[temp['set']==\"0 2 4 7 9\"]\n",
    "    SEM = temp.groupby(\"set\")['rate shifted - rate swapped (NN)'].sem().reset_index()['rate shifted - rate swapped (NN)'].median()\n",
    "    return SEM\n",
    "\n",
    "# Standard Deviation\n",
    "def get_STD(pentatonic_only=True):\n",
    "    temp = studyII_GL\n",
    "    if(pentatonic_only):\n",
    "        temp = temp[temp['set']==\"0 2 4 7 9\"]\n",
    "    STD = temp.groupby(\"set\")['rate shifted - rate swapped (NN)'].std().reset_index()['rate shifted - rate swapped (NN)'].median()\n",
    "    return STD\n",
    "\n",
    "# Mean\n",
    "def get_MEAN(pentatonic_only=True):\n",
    "    temp = studyII_GL\n",
    "    if(pentatonic_only):\n",
    "        temp = temp[temp['set']==\"0 2 4 7 9\"]\n",
    "    MEAN = temp.groupby(\"set\")['rate shifted - rate swapped (NN)'].mean().reset_index()['rate shifted - rate swapped (NN)'].median()\n",
    "    return MEAN"
   ],
   "metadata": {
    "collapsed": false,
    "ExecuteTime": {
     "end_time": "2024-12-13T21:45:35.274473Z",
     "start_time": "2024-12-13T21:45:35.270472Z"
    }
   },
   "outputs": [],
   "execution_count": 27
  },
  {
   "cell_type": "markdown",
   "source": [
    "## Total number of subjects"
   ],
   "metadata": {
    "collapsed": false
   }
  },
  {
   "cell_type": "code",
   "source": [
    "tasks_before_removal = studyI_GL.groupby('subject').count().shape[0]\n",
    "print(\"There are {} tasks in total prior to exclusion\".format(tasks_before_removal))"
   ],
   "metadata": {
    "collapsed": false,
    "ExecuteTime": {
     "end_time": "2024-12-13T21:45:35.663183Z",
     "start_time": "2024-12-13T21:45:35.658183Z"
    }
   },
   "outputs": [
    {
     "name": "stdout",
     "output_type": "stream",
     "text": [
      "There are 102 tasks in total prior to exclusion\n"
     ]
    }
   ],
   "execution_count": 28
  },
  {
   "cell_type": "markdown",
   "source": [
    "## Exclude subjects who \"didn't understand\" the task\n",
    "### Study I"
   ],
   "metadata": {
    "collapsed": false
   }
  },
  {
   "cell_type": "code",
   "source": [
    "#Study I: remove subjects that selected \"didn't understand the study\"\n",
    "temp = studyI_GL\n",
    "tasks_before_removal = studyI_GL.groupby('subject').count().shape[0]\n",
    "subjects_before_removal = studyI_GL.groupby('sona').count().shape[0]\n",
    "studyI_GL = studyI_GL[studyI_GL['understood task']==True]\n",
    "tasks_after_removal = studyI_GL.groupby('subject').count().shape[0]\n",
    "subjects_after_removal = studyI_GL.groupby('sona').count().shape[0]\n",
    "print(\"Removed {} tasks\".format(tasks_before_removal-tasks_after_removal))\n",
    "print(\"Removed {} subjects\".format(subjects_before_removal-subjects_after_removal))"
   ],
   "metadata": {
    "collapsed": false,
    "ExecuteTime": {
     "end_time": "2024-12-13T21:45:36.028778Z",
     "start_time": "2024-12-13T21:45:36.020777Z"
    }
   },
   "outputs": [
    {
     "name": "stdout",
     "output_type": "stream",
     "text": [
      "Removed 4 tasks\n",
      "Removed 4 subjects\n"
     ]
    }
   ],
   "execution_count": 29
  },
  {
   "cell_type": "markdown",
   "source": [
    "### Study II"
   ],
   "metadata": {
    "collapsed": false
   }
  },
  {
   "cell_type": "code",
   "source": [
    "tasks_before_removal = studyII_GL.groupby('sona').count().shape[0]\n",
    "print(\"There are {} subjects in total prior to exclusion\".format(tasks_before_removal))"
   ],
   "metadata": {
    "collapsed": false,
    "ExecuteTime": {
     "end_time": "2024-12-13T21:45:36.372310Z",
     "start_time": "2024-12-13T21:45:36.365307Z"
    }
   },
   "outputs": [
    {
     "name": "stdout",
     "output_type": "stream",
     "text": [
      "There are 742 subjects in total prior to exclusion\n"
     ]
    }
   ],
   "execution_count": 30
  },
  {
   "cell_type": "code",
   "source": [
    "#Study II: remove subjects that selected \"didn't understand the study\"\n",
    "tasks_before_removal = studyII_GL.groupby('subject').count().shape[0]\n",
    "subjects_before_removal = studyII_GL.groupby('sona').count().shape[0]\n",
    "studyII_GL = studyII_GL[studyII_GL['understood task']==True]\n",
    "tasks_after_removal = studyII_GL.groupby('subject').count().shape[0]\n",
    "subjects_after_removal = studyII_GL.groupby('sona').count().shape[0]\n",
    "print(\"There are {} tasks in total prior to exclusion\".format(tasks_before_removal))\n",
    "print(\"Removed {} tasks\".format(tasks_before_removal-tasks_after_removal))\n",
    "print(\"There are {} subjects in total prior to exclusion\".format(subjects_before_removal))\n",
    "print(\"Removed {} subjects\".format(subjects_before_removal-subjects_after_removal))\n"
   ],
   "metadata": {
    "collapsed": false,
    "ExecuteTime": {
     "end_time": "2024-12-13T21:45:36.580846Z",
     "start_time": "2024-12-13T21:45:36.553842Z"
    }
   },
   "outputs": [
    {
     "name": "stdout",
     "output_type": "stream",
     "text": [
      "There are 843 tasks in total prior to exclusion\n",
      "Removed 51 tasks\n",
      "There are 742 subjects in total prior to exclusion\n",
      "Removed 44 subjects\n"
     ]
    }
   ],
   "execution_count": 31
  },
  {
   "cell_type": "markdown",
   "source": [
    "### Likert Experiment"
   ],
   "metadata": {
    "collapsed": false
   }
  },
  {
   "cell_type": "code",
   "source": [
    "#Likert: remove subjects that selected \"didn't understand the study\"\n",
    "subjects_before_removal = study_likert.drop_duplicates(subset=['sona','subject'], keep='last').count()[0]\n",
    "study_likert = study_likert[study_likert['understood task']==True]\n",
    "subjects_after_removal = study_likert.drop_duplicates(subset=['sona','subject'], keep='last').count()[0]\n",
    "print(\"There are {} subjects in total prior to exclusion\".format(subjects_before_removal))\n",
    "print(\"Removed {} subjects\".format(subjects_before_removal-subjects_after_removal))"
   ],
   "metadata": {
    "collapsed": false,
    "ExecuteTime": {
     "end_time": "2024-12-13T21:45:36.934430Z",
     "start_time": "2024-12-13T21:45:36.927430Z"
    }
   },
   "outputs": [
    {
     "name": "stdout",
     "output_type": "stream",
     "text": [
      "There are 157 subjects in total prior to exclusion\n",
      "Removed 10 subjects\n"
     ]
    }
   ],
   "execution_count": 32
  },
  {
   "cell_type": "markdown",
   "source": [
    "### Uniform Set Experiment"
   ],
   "metadata": {
    "collapsed": false
   }
  },
  {
   "cell_type": "code",
   "source": [
    "#Uniform: remove subjects that selected \"didn't understand the study\"\n",
    "tasks_before_removal = study_uniform.groupby('subject').count().shape[0]\n",
    "subjects_before_removal = study_uniform.groupby('sona').count().shape[0]\n",
    "study_uniform = study_uniform[study_uniform['understood task']==True]\n",
    "tasks_after_removal = study_uniform.groupby('subject').count().shape[0]\n",
    "subjects_after_removal = study_uniform.groupby('sona').count().shape[0]\n",
    "print(\"There are {} tasks in total prior to exclusion\".format(tasks_before_removal))\n",
    "print(\"There are {} subjects in total prior to exclusion\".format(subjects_before_removal))\n",
    "print(\"Removed {} tasks\".format(tasks_before_removal-tasks_after_removal))\n",
    "print(\"Removed {} subjects\".format(subjects_before_removal-subjects_after_removal))"
   ],
   "metadata": {
    "collapsed": false,
    "ExecuteTime": {
     "end_time": "2024-12-13T21:45:37.312302Z",
     "start_time": "2024-12-13T21:45:37.303302Z"
    }
   },
   "outputs": [
    {
     "name": "stdout",
     "output_type": "stream",
     "text": [
      "There are 57 tasks in total prior to exclusion\n",
      "There are 57 subjects in total prior to exclusion\n",
      "Removed 9 tasks\n",
      "Removed 9 subjects\n"
     ]
    }
   ],
   "execution_count": 33
  },
  {
   "metadata": {},
   "cell_type": "markdown",
   "source": "### Tritave Uniform Set Experiment"
  },
  {
   "metadata": {
    "ExecuteTime": {
     "end_time": "2024-12-13T21:45:37.707273Z",
     "start_time": "2024-12-13T21:45:37.699273Z"
    }
   },
   "cell_type": "code",
   "source": [
    "#Tritave-Uniform: remove subjects that selected \"didn't understand the study\"\n",
    "tasks_before_removal = study_tritave_uniform.groupby('subject').count().shape[0]\n",
    "subjects_before_removal = study_tritave_uniform.groupby('sona').count().shape[0]\n",
    "study_tritave_uniform = study_tritave_uniform[study_tritave_uniform['understood task']==True]\n",
    "tasks_after_removal = study_tritave_uniform.groupby('subject').count().shape[0]\n",
    "subjects_after_removal = study_tritave_uniform.groupby('sona').count().shape[0]\n",
    "print(\"There are {} tasks in total prior to exclusion\".format(tasks_before_removal))\n",
    "print(\"There are {} subjects in total prior to exclusion\".format(subjects_before_removal))\n",
    "print(\"Removed {} tasks\".format(tasks_before_removal-tasks_after_removal))\n",
    "print(\"Removed {} subjects\".format(subjects_before_removal-subjects_after_removal))"
   ],
   "outputs": [
    {
     "name": "stdout",
     "output_type": "stream",
     "text": [
      "There are 29 tasks in total prior to exclusion\n",
      "There are 29 subjects in total prior to exclusion\n",
      "Removed 2 tasks\n",
      "Removed 2 subjects\n"
     ]
    }
   ],
   "execution_count": 34
  },
  {
   "metadata": {},
   "cell_type": "markdown",
   "source": "### Tritave Pentachord Set Experiment"
  },
  {
   "metadata": {
    "ExecuteTime": {
     "end_time": "2024-12-13T21:45:38.114772Z",
     "start_time": "2024-12-13T21:45:38.106707Z"
    }
   },
   "cell_type": "code",
   "source": [
    "#Tritave-Pentachord: remove subjects that selected \"didn't understand the study\"\n",
    "tasks_before_removal = study_tritave_pentachords.groupby('subject').count().shape[0]\n",
    "subjects_before_removal = study_tritave_pentachords.groupby('sona').count().shape[0]\n",
    "study_tritave_pentachords = study_tritave_pentachords[study_tritave_pentachords['understood task']==True]\n",
    "tasks_after_removal = study_tritave_pentachords.groupby('subject').count().shape[0]\n",
    "subjects_after_removal = study_tritave_pentachords.groupby('sona').count().shape[0]\n",
    "print(\"There are {} tasks in total prior to exclusion\".format(tasks_before_removal))\n",
    "print(\"There are {} subjects in total prior to exclusion\".format(subjects_before_removal))\n",
    "print(\"Removed {} tasks\".format(tasks_before_removal-tasks_after_removal))\n",
    "print(\"Removed {} subjects\".format(subjects_before_removal-subjects_after_removal))"
   ],
   "outputs": [
    {
     "name": "stdout",
     "output_type": "stream",
     "text": [
      "There are 40 tasks in total prior to exclusion\n",
      "There are 40 subjects in total prior to exclusion\n",
      "Removed 5 tasks\n",
      "Removed 5 subjects\n"
     ]
    }
   ],
   "execution_count": 35
  },
  {
   "cell_type": "markdown",
   "source": [
    "## Exclude sets with too few responses\n",
    "### Study I"
   ],
   "metadata": {
    "collapsed": false
   }
  },
  {
   "cell_type": "code",
   "source": [
    "min_responses = 15"
   ],
   "metadata": {
    "collapsed": false,
    "ExecuteTime": {
     "end_time": "2024-12-13T21:45:38.492124Z",
     "start_time": "2024-12-13T21:45:38.489689Z"
    }
   },
   "outputs": [],
   "execution_count": 36
  },
  {
   "cell_type": "code",
   "source": [
    "#Study I: remove sets with fewer than 15 no-neither responses\n",
    "tasks_before_removal = studyI_GL.groupby('subject').count().shape[0]\n",
    "subjects_before_removal = studyI_GL.groupby('sona').count().shape[0]\n",
    "studyI_GL = studyI_GL[studyI_GL['# no_neither_trials']>=min_responses].reset_index()\n",
    "tasks_after_removal = studyI_GL.groupby('subject').count().shape[0]\n",
    "subjects_after_removal = studyI_GL.groupby('sona').count().shape[0]\n",
    "print(\"Removed {} tasks\".format(tasks_before_removal-tasks_after_removal))\n",
    "print(\"Removed {} subjects\".format(subjects_before_removal-subjects_after_removal))"
   ],
   "metadata": {
    "collapsed": false,
    "ExecuteTime": {
     "end_time": "2024-12-13T21:45:38.691145Z",
     "start_time": "2024-12-13T21:45:38.682641Z"
    }
   },
   "outputs": [
    {
     "name": "stdout",
     "output_type": "stream",
     "text": [
      "Removed 0 tasks\n",
      "Removed 0 subjects\n"
     ]
    }
   ],
   "execution_count": 37
  },
  {
   "cell_type": "markdown",
   "source": [
    "### Study II"
   ],
   "metadata": {
    "collapsed": false
   }
  },
  {
   "cell_type": "code",
   "source": [
    "#Study II: remove sets with fewer than 15 no-neither responses\n",
    "tasks_before_removal = studyII_GL.groupby('subject').count().shape[0]\n",
    "subjects_before_removal = studyII_GL.groupby('sona').count().shape[0]\n",
    "studyII_GL = studyII_GL[studyII_GL['# no_neither_trials']>=min_responses].reset_index()\n",
    "print(\"There are {} tasks in total prior to exclusion\".format(tasks_before_removal))\n",
    "print(\"Removed {} tasks\".format(tasks_before_removal-tasks_after_removal))\n",
    "tasks_after_removal = studyII_GL.groupby('subject').count().shape[0]\n",
    "subjects_after_removal = studyII_GL.groupby('sona').count().shape[0]\n",
    "print(\"There are {} subjects in total prior to exclusion\".format(subjects_before_removal))\n",
    "print(\"Removed {} subjects\".format(subjects_before_removal-subjects_after_removal))"
   ],
   "metadata": {
    "collapsed": false,
    "ExecuteTime": {
     "end_time": "2024-12-13T21:45:39.088184Z",
     "start_time": "2024-12-13T21:45:39.066676Z"
    }
   },
   "outputs": [
    {
     "name": "stdout",
     "output_type": "stream",
     "text": [
      "There are 792 tasks in total prior to exclusion\n",
      "Removed 694 tasks\n",
      "There are 698 subjects in total prior to exclusion\n",
      "Removed 130 subjects\n"
     ]
    }
   ],
   "execution_count": 38
  },
  {
   "cell_type": "markdown",
   "source": [
    "### Uniform Set Experiment"
   ],
   "metadata": {
    "collapsed": false
   }
  },
  {
   "cell_type": "code",
   "source": [
    "#Study Uniform Sets: remove sets with fewer than 15 no-neither responses\n",
    "tasks_before_removal = study_uniform.groupby('subject').count().shape[0]\n",
    "subjects_before_removal = study_uniform.groupby('sona').count().shape[0]\n",
    "study_uniform = study_uniform[study_uniform['# no_neither_trials']>=min_responses].reset_index()\n",
    "tasks_after_removal = study_uniform.groupby('subject').count().shape[0]\n",
    "print(\"There are {} tasks in total prior to exclusion\".format(tasks_before_removal))\n",
    "print(\"Removed {} tasks\".format(tasks_before_removal-tasks_after_removal))\n",
    "subjects_after_removal = study_uniform.groupby('sona').count().shape[0]\n",
    "print(\"There are {} subjects in total prior to exclusion\".format(subjects_before_removal))\n",
    "print(\"Removed {} subjects\".format(subjects_before_removal-subjects_after_removal))"
   ],
   "metadata": {
    "collapsed": false,
    "ExecuteTime": {
     "end_time": "2024-12-13T21:45:39.450272Z",
     "start_time": "2024-12-13T21:45:39.440272Z"
    }
   },
   "outputs": [
    {
     "name": "stdout",
     "output_type": "stream",
     "text": [
      "There are 48 tasks in total prior to exclusion\n",
      "Removed 1 tasks\n",
      "There are 48 subjects in total prior to exclusion\n",
      "Removed 1 subjects\n"
     ]
    }
   ],
   "execution_count": 39
  },
  {
   "metadata": {},
   "cell_type": "markdown",
   "source": "### Tritave Uniform Set Experiment"
  },
  {
   "metadata": {
    "ExecuteTime": {
     "end_time": "2024-12-13T21:45:39.854982Z",
     "start_time": "2024-12-13T21:45:39.848302Z"
    }
   },
   "cell_type": "code",
   "source": [
    "#Study Tritave Uniform Sets: remove sets with fewer than 15 no-neither responses\n",
    "tasks_before_removal = study_tritave_uniform.groupby('subject').count().shape[0]\n",
    "subjects_before_removal = study_tritave_uniform.groupby('sona').count().shape[0]\n",
    "study_tritave_uniform = study_tritave_uniform[study_tritave_uniform['# no_neither_trials']>=min_responses].reset_index()\n",
    "tasks_after_removal = study_tritave_uniform.groupby('subject').count().shape[0]\n",
    "print(\"There are {} tasks in total prior to exclusion\".format(tasks_before_removal))\n",
    "print(\"Removed {} tasks\".format(tasks_before_removal-tasks_after_removal))\n",
    "subjects_after_removal = study_tritave_uniform.groupby('sona').count().shape[0]\n",
    "print(\"There are {} subjects in total prior to exclusion\".format(subjects_before_removal))\n",
    "print(\"Removed {} subjects\".format(subjects_before_removal-subjects_after_removal))"
   ],
   "outputs": [
    {
     "name": "stdout",
     "output_type": "stream",
     "text": [
      "There are 27 tasks in total prior to exclusion\n",
      "Removed 0 tasks\n",
      "There are 27 subjects in total prior to exclusion\n",
      "Removed 0 subjects\n"
     ]
    }
   ],
   "execution_count": 40
  },
  {
   "metadata": {},
   "cell_type": "markdown",
   "source": "### Tritave Pentachord Set Experiment"
  },
  {
   "metadata": {
    "ExecuteTime": {
     "end_time": "2024-12-13T21:45:40.273576Z",
     "start_time": "2024-12-13T21:45:40.264573Z"
    }
   },
   "cell_type": "code",
   "source": [
    "#Study Tritave Pentachord Sets: remove sets with fewer than 15 no-neither responses\n",
    "tasks_before_removal = study_tritave_pentachords.groupby('subject').count().shape[0]\n",
    "subjects_before_removal = study_tritave_pentachords.groupby('sona').count().shape[0]\n",
    "study_tritave_pentachords = study_tritave_pentachords[study_tritave_pentachords['# no_neither_trials']>=min_responses].reset_index()\n",
    "tasks_after_removal = study_tritave_pentachords.groupby('subject').count().shape[0]\n",
    "print(\"There are {} tasks in total prior to exclusion\".format(tasks_before_removal))\n",
    "print(\"Removed {} tasks\".format(tasks_before_removal-tasks_after_removal))\n",
    "subjects_after_removal = study_tritave_pentachords.groupby('sona').count().shape[0]\n",
    "print(\"There are {} subjects in total prior to exclusion\".format(subjects_before_removal))\n",
    "print(\"Removed {} subjects\".format(subjects_before_removal-subjects_after_removal))"
   ],
   "outputs": [
    {
     "name": "stdout",
     "output_type": "stream",
     "text": [
      "There are 35 tasks in total prior to exclusion\n",
      "Removed 0 tasks\n",
      "There are 35 subjects in total prior to exclusion\n",
      "Removed 0 subjects\n"
     ]
    }
   ],
   "execution_count": 41
  },
  {
   "cell_type": "code",
   "source": [
    "study1_subject_counts = studyI_GL.groupby('sona').count()\n",
    "study1_task_counts = studyI_GL.groupby('subject').count()\n",
    "study2_subject_counts = studyII_GL.groupby('sona').count()\n",
    "study2_task_counts = studyII_GL.groupby('subject').count()\n",
    "study_likert_subject_counts = study_likert.groupby('sona').count()\n",
    "study_likert_task_counts = study_likert.groupby('subject').count()\n",
    "study_uniform_subject_counts = study_uniform.groupby('sona').count()\n",
    "study_uniform_task_counts = study_uniform.groupby('subject').count()\n",
    "study_tritave_uniform_subject_counts = study_tritave_uniform.groupby('sona').count()\n",
    "study_tritave_uniform_task_counts = study_tritave_uniform.groupby('subject').count()\n",
    "study_tritave_pentachords_subject_counts = study_tritave_pentachords.groupby('sona').count()\n",
    "study_tritave_pentachords_task_counts = study_tritave_pentachords.groupby('subject').count()\n",
    "print(\"Post exclusion counts:\")\n",
    "print(\"Study I: {} subjects, {} tasks\".format(study1_subject_counts.shape[0], study1_task_counts.shape[0]))\n",
    "print(\"Study II: {} subjects, {} tasks\".format(study2_subject_counts.shape[0], study2_task_counts.shape[0]))\n",
    "print(\"Likert: {} subjects, {} tasks\".format(study_likert_subject_counts.shape[0], study_likert_task_counts.shape[0]))\n",
    "print(\"Uniform: {} subjects, {} tasks\".format(study_uniform_subject_counts.shape[0], study_uniform_task_counts.shape[0]))\n",
    "print(\"Tritave Uniform: {} subjects, {} tasks\".format(study_tritave_uniform_subject_counts.shape[0], study_tritave_uniform_task_counts.shape[0]))\n",
    "print(\"Tritave Pentachord: {} subjects, {} tasks\".format(study_tritave_pentachords_subject_counts.shape[0], study_tritave_pentachords_task_counts.shape[0]))"
   ],
   "metadata": {
    "collapsed": false,
    "ExecuteTime": {
     "end_time": "2024-12-13T21:45:40.496822Z",
     "start_time": "2024-12-13T21:45:40.478315Z"
    }
   },
   "outputs": [
    {
     "name": "stdout",
     "output_type": "stream",
     "text": [
      "Post exclusion counts:\n",
      "Study I: 98 subjects, 98 tasks\n",
      "Study II: 568 subjects, 630 tasks\n",
      "Likert: 147 subjects, 145 tasks\n",
      "Uniform: 47 subjects, 47 tasks\n",
      "Tritave Uniform: 27 subjects, 27 tasks\n",
      "Tritave Pentachord: 35 subjects, 35 tasks\n"
     ]
    }
   ],
   "execution_count": 42
  },
  {
   "cell_type": "markdown",
   "source": [],
   "metadata": {
    "collapsed": false
   }
  },
  {
   "cell_type": "code",
   "source": [],
   "metadata": {
    "collapsed": false,
    "ExecuteTime": {
     "end_time": "2024-12-13T21:45:40.966858Z",
     "start_time": "2024-12-13T21:45:40.963858Z"
    }
   },
   "outputs": [],
   "execution_count": 42
  },
  {
   "cell_type": "markdown",
   "source": [
    "## Save data post-exlusion\n",
    "### Study I"
   ],
   "metadata": {
    "collapsed": false
   }
  },
  {
   "cell_type": "code",
   "source": [
    "# Save Study I post-exclusion\n",
    "studyI_GL.to_pickle(StudyI_paths.processed_dir + StudyI_paths.post_exclusion_data_pickle_filename)"
   ],
   "metadata": {
    "collapsed": false,
    "ExecuteTime": {
     "end_time": "2024-12-13T21:45:41.429596Z",
     "start_time": "2024-12-13T21:45:41.426981Z"
    }
   },
   "outputs": [],
   "execution_count": 43
  },
  {
   "cell_type": "markdown",
   "source": [
    "### Study II"
   ],
   "metadata": {
    "collapsed": false
   }
  },
  {
   "cell_type": "code",
   "source": [
    "# Save Study II post-exclusion\n",
    "studyII_GL.to_pickle(StudyII_paths.processed_dir + StudyII_paths.post_exclusion_data_pickle_filename)"
   ],
   "metadata": {
    "collapsed": false,
    "ExecuteTime": {
     "end_time": "2024-12-13T21:45:41.808490Z",
     "start_time": "2024-12-13T21:45:41.801490Z"
    }
   },
   "outputs": [],
   "execution_count": 44
  },
  {
   "cell_type": "markdown",
   "source": [
    "### Likert Experiment"
   ],
   "metadata": {
    "collapsed": false
   }
  },
  {
   "cell_type": "code",
   "source": [
    "# Save Likert post-exclusion\n",
    "study_likert.to_pickle(Study_likert_paths.processed_dir + Study_likert_paths.post_exclusion_data_pickle_filename)"
   ],
   "metadata": {
    "collapsed": false,
    "ExecuteTime": {
     "end_time": "2024-12-13T21:45:42.201301Z",
     "start_time": "2024-12-13T21:45:42.197301Z"
    }
   },
   "outputs": [],
   "execution_count": 45
  },
  {
   "cell_type": "code",
   "source": [],
   "metadata": {
    "collapsed": false,
    "ExecuteTime": {
     "end_time": "2024-12-13T21:45:42.451096Z",
     "start_time": "2024-12-13T21:45:42.448096Z"
    }
   },
   "outputs": [],
   "execution_count": 45
  },
  {
   "cell_type": "markdown",
   "source": [
    "### Uniform Sets Experiment\n"
   ],
   "metadata": {
    "collapsed": false
   }
  },
  {
   "cell_type": "code",
   "source": [
    "# Save Uniform post-exclusion\n",
    "study_uniform.to_pickle(Study_uniform_paths.processed_dir + Study_uniform_paths.post_exclusion_data_pickle_filename)"
   ],
   "metadata": {
    "collapsed": false,
    "ExecuteTime": {
     "end_time": "2024-12-13T21:45:42.872142Z",
     "start_time": "2024-12-13T21:45:42.869539Z"
    }
   },
   "outputs": [],
   "execution_count": 46
  },
  {
   "metadata": {},
   "cell_type": "markdown",
   "source": "### Tritave Uniform Sets Experiment\n"
  },
  {
   "metadata": {
    "ExecuteTime": {
     "end_time": "2024-12-13T21:45:43.555002Z",
     "start_time": "2024-12-13T21:45:43.551500Z"
    }
   },
   "cell_type": "code",
   "source": [
    "# Save Tritave Uniform post-exclusion\n",
    "study_tritave_uniform.to_pickle(Study_tritave_uniform_paths.processed_dir + Study_tritave_uniform_paths.post_exclusion_data_pickle_filename)"
   ],
   "outputs": [],
   "execution_count": 47
  },
  {
   "metadata": {},
   "cell_type": "markdown",
   "source": "### Tritave Pentachord Sets Experiment\n"
  },
  {
   "metadata": {
    "ExecuteTime": {
     "end_time": "2024-12-13T21:45:44.331357Z",
     "start_time": "2024-12-13T21:45:44.328356Z"
    }
   },
   "cell_type": "code",
   "source": [
    "# Save Tritave Pentachord post-exclusion\n",
    "study_tritave_pentachords.to_pickle(Study_tritave_pentachords_paths.processed_dir + Study_tritave_pentachords_paths.post_exclusion_data_pickle_filename)"
   ],
   "outputs": [],
   "execution_count": 48
  },
  {
   "cell_type": "code",
   "source": "",
   "metadata": {
    "collapsed": false,
    "ExecuteTime": {
     "end_time": "2024-12-13T21:12:47.935783Z",
     "start_time": "2024-12-13T21:12:47.933782Z"
    }
   },
   "outputs": [],
   "execution_count": 66
  },
  {
   "metadata": {},
   "cell_type": "code",
   "outputs": [],
   "execution_count": null,
   "source": ""
  }
 ],
 "metadata": {
  "kernelspec": {
   "display_name": "Python 3",
   "language": "python",
   "name": "python3"
  },
  "language_info": {
   "codemirror_mode": {
    "name": "ipython",
    "version": 2
   },
   "file_extension": ".py",
   "mimetype": "text/x-python",
   "name": "python",
   "nbconvert_exporter": "python",
   "pygments_lexer": "ipython2",
   "version": "2.7.6"
  }
 },
 "nbformat": 4,
 "nbformat_minor": 0
}
