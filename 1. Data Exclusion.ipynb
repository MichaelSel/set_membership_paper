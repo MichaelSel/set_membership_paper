{
 "cells": [
  {
   "cell_type": "markdown",
   "source": [
    "# Data Exclusion\n",
    "Experimental data is excluded below based on the following criteria:\n",
    "1. A subject is excluded if they self-report to have not understood the task instructions in the post-task questionnaire\n",
    "2. A musical set (one of the test conditions each subject interacts with) is excluded from a subject's data if there's insufficient responses to perform statistics on the data (fewer than 10 responses)"
   ],
   "metadata": {
    "collapsed": false
   }
  },
  {
   "cell_type": "markdown",
   "source": [
    "## Imports"
   ],
   "metadata": {
    "collapsed": false
   }
  },
  {
   "cell_type": "code",
   "execution_count": 97,
   "outputs": [],
   "source": [
    "import math\n",
    "\n",
    "import seaborn as sns\n",
    "import StudyII_All_5_note_Sets.paths as StudyII_paths\n",
    "import StudyI_Pentatonic_vs_Chromatic.paths as StudyI_paths\n",
    "import Study_Likert.paths as Study_likert_paths\n",
    "import Study_Uniform.paths as Study_uniform_paths\n",
    "import pandas as pd"
   ],
   "metadata": {
    "collapsed": false,
    "ExecuteTime": {
     "end_time": "2024-02-01T17:15:03.177749100Z",
     "start_time": "2024-02-01T17:15:03.173442100Z"
    }
   }
  },
  {
   "cell_type": "code",
   "execution_count": 98,
   "outputs": [],
   "source": [
    "studyI_GL = pd.read_csv(StudyI_paths.processed_dir + 'group_level_results.csv')\n",
    "studyII_GL = pd.read_csv(StudyII_paths.processed_dir + 'group_level_results.csv')\n",
    "study_uniform = pd.read_csv(Study_uniform_paths.processed_dir + 'group_level_results.csv')\n",
    "decoys = pd.read_csv(StudyII_paths.processed_dir + 'group_level_decoy_results.csv')\n",
    "study_likert = pd.read_csv(Study_likert_paths.processed_dir + 'group_level_results.csv')"
   ],
   "metadata": {
    "collapsed": false,
    "ExecuteTime": {
     "end_time": "2024-02-01T17:15:03.504000700Z",
     "start_time": "2024-02-01T17:15:03.439315Z"
    }
   }
  },
  {
   "cell_type": "markdown",
   "source": [
    "## Statistics scripts (do not change data, but report the impact of the exclusion on the data)"
   ],
   "metadata": {
    "collapsed": false
   }
  },
  {
   "cell_type": "code",
   "execution_count": 99,
   "outputs": [],
   "source": [
    "# Standard Error of the Mean\n",
    "def get_SEM(pentatonic_only=True):\n",
    "    temp = studyII_GL\n",
    "    if(pentatonic_only):\n",
    "        temp = temp[temp['set']==\"0 2 4 7 9\"]\n",
    "    SEM = temp.groupby(\"set\")['rate shifted - rate swapped (NN)'].sem().reset_index()['rate shifted - rate swapped (NN)'].median()\n",
    "    return SEM\n",
    "\n",
    "# Standard Deviation\n",
    "def get_STD(pentatonic_only=True):\n",
    "    temp = studyII_GL\n",
    "    if(pentatonic_only):\n",
    "        temp = temp[temp['set']==\"0 2 4 7 9\"]\n",
    "    STD = temp.groupby(\"set\")['rate shifted - rate swapped (NN)'].std().reset_index()['rate shifted - rate swapped (NN)'].median()\n",
    "    return STD\n",
    "\n",
    "# Mean\n",
    "def get_MEAN(pentatonic_only=True):\n",
    "    temp = studyII_GL\n",
    "    if(pentatonic_only):\n",
    "        temp = temp[temp['set']==\"0 2 4 7 9\"]\n",
    "    MEAN = temp.groupby(\"set\")['rate shifted - rate swapped (NN)'].mean().reset_index()['rate shifted - rate swapped (NN)'].median()\n",
    "    return MEAN"
   ],
   "metadata": {
    "collapsed": false,
    "ExecuteTime": {
     "end_time": "2024-02-01T17:15:04.307642100Z",
     "start_time": "2024-02-01T17:15:04.304136600Z"
    }
   }
  },
  {
   "cell_type": "markdown",
   "source": [
    "## Total number of subjects"
   ],
   "metadata": {
    "collapsed": false
   }
  },
  {
   "cell_type": "code",
   "execution_count": 100,
   "outputs": [
    {
     "name": "stdout",
     "output_type": "stream",
     "text": [
      "There are 102 tasks in total prior to exclusion\n"
     ]
    }
   ],
   "source": [
    "tasks_before_removal = studyI_GL.groupby('subject').count().shape[0]\n",
    "print(\"There are {} tasks in total prior to exclusion\".format(tasks_before_removal))"
   ],
   "metadata": {
    "collapsed": false,
    "ExecuteTime": {
     "end_time": "2024-02-01T17:15:05.026994100Z",
     "start_time": "2024-02-01T17:15:05.021487200Z"
    }
   }
  },
  {
   "cell_type": "markdown",
   "source": [
    "## Exclude subjects who \"didn't understand\" the task\n",
    "### Study I"
   ],
   "metadata": {
    "collapsed": false
   }
  },
  {
   "cell_type": "code",
   "execution_count": 64,
   "outputs": [
    {
     "name": "stdout",
     "output_type": "stream",
     "text": [
      "Removed 4 tasks\n",
      "Removed 4 subjects\n"
     ]
    }
   ],
   "source": [
    "#Study I: remove subjects that selected \"didn't understand the study\"\n",
    "temp = studyI_GL\n",
    "tasks_before_removal = studyI_GL.groupby('subject').count().shape[0]\n",
    "subjects_before_removal = studyI_GL.groupby('sona').count().shape[0]\n",
    "studyI_GL = studyI_GL[studyI_GL['understood task']==True]\n",
    "tasks_after_removal = studyI_GL.groupby('subject').count().shape[0]\n",
    "subjects_after_removal = studyI_GL.groupby('sona').count().shape[0]\n",
    "print(\"Removed {} tasks\".format(tasks_before_removal-tasks_after_removal))\n",
    "print(\"Removed {} subjects\".format(subjects_before_removal-subjects_after_removal))"
   ],
   "metadata": {
    "collapsed": false,
    "ExecuteTime": {
     "end_time": "2024-02-01T17:03:51.181467200Z",
     "start_time": "2024-02-01T17:03:51.172960500Z"
    }
   }
  },
  {
   "cell_type": "markdown",
   "source": [
    "### Study II"
   ],
   "metadata": {
    "collapsed": false
   }
  },
  {
   "cell_type": "code",
   "execution_count": 44,
   "outputs": [
    {
     "name": "stdout",
     "output_type": "stream",
     "text": [
      "There are 742 subjects in total prior to exclusion\n"
     ]
    }
   ],
   "source": [
    "tasks_before_removal = studyII_GL.groupby('sona').count().shape[0]\n",
    "print(\"There are {} subjects in total prior to exclusion\".format(tasks_before_removal))"
   ],
   "metadata": {
    "collapsed": false,
    "ExecuteTime": {
     "end_time": "2024-02-01T16:59:45.115872100Z",
     "start_time": "2024-02-01T16:59:45.110355900Z"
    }
   }
  },
  {
   "cell_type": "code",
   "execution_count": 45,
   "outputs": [
    {
     "name": "stdout",
     "output_type": "stream",
     "text": [
      "There are 843 tasks in total prior to exclusion\n",
      "Removed 51 tasks\n",
      "There are 742 subjects in total prior to exclusion\n",
      "Removed 44 subjects\n"
     ]
    }
   ],
   "source": [
    "#Study II: remove subjects that selected \"didn't understand the study\"\n",
    "tasks_before_removal = studyII_GL.groupby('subject').count().shape[0]\n",
    "subjects_before_removal = studyII_GL.groupby('sona').count().shape[0]\n",
    "studyII_GL = studyII_GL[studyII_GL['understood task']==True]\n",
    "tasks_after_removal = studyII_GL.groupby('subject').count().shape[0]\n",
    "subjects_after_removal = studyII_GL.groupby('sona').count().shape[0]\n",
    "print(\"There are {} tasks in total prior to exclusion\".format(tasks_before_removal))\n",
    "print(\"Removed {} tasks\".format(tasks_before_removal-tasks_after_removal))\n",
    "print(\"There are {} subjects in total prior to exclusion\".format(subjects_before_removal))\n",
    "print(\"Removed {} subjects\".format(subjects_before_removal-subjects_after_removal))\n"
   ],
   "metadata": {
    "collapsed": false,
    "ExecuteTime": {
     "end_time": "2024-02-01T16:59:46.355570800Z",
     "start_time": "2024-02-01T16:59:46.337544800Z"
    }
   }
  },
  {
   "cell_type": "markdown",
   "source": [
    "### Likert Experiment"
   ],
   "metadata": {
    "collapsed": false
   }
  },
  {
   "cell_type": "code",
   "execution_count": 86,
   "outputs": [
    {
     "name": "stdout",
     "output_type": "stream",
     "text": [
      "There are 157 subjects in total prior to exclusion\n",
      "Removed 10 subjects\n"
     ]
    }
   ],
   "source": [
    "#Likert: remove subjects that selected \"didn't understand the study\"\n",
    "subjects_before_removal = study_likert.drop_duplicates(subset=['sona','subject'], keep='last').count()[0]\n",
    "study_likert = study_likert[study_likert['understood task']==True]\n",
    "subjects_after_removal = study_likert.drop_duplicates(subset=['sona','subject'], keep='last').count()[0]\n",
    "print(\"There are {} subjects in total prior to exclusion\".format(subjects_before_removal))\n",
    "print(\"Removed {} subjects\".format(subjects_before_removal-subjects_after_removal))"
   ],
   "metadata": {
    "collapsed": false,
    "ExecuteTime": {
     "end_time": "2024-02-01T17:10:11.100752200Z",
     "start_time": "2024-02-01T17:10:11.093742Z"
    }
   }
  },
  {
   "cell_type": "markdown",
   "source": [
    "### Uniform Set Experiment"
   ],
   "metadata": {
    "collapsed": false
   }
  },
  {
   "cell_type": "code",
   "execution_count": 101,
   "outputs": [
    {
     "name": "stdout",
     "output_type": "stream",
     "text": [
      "There are 51 tasks in total prior to exclusion\n",
      "There are 51 subjects in total prior to exclusion\n",
      "Removed 4 tasks\n",
      "Removed 4 subjects\n"
     ]
    }
   ],
   "source": [
    "#Uniform: remove subjects that selected \"didn't understand the study\"\n",
    "tasks_before_removal = study_uniform.groupby('subject').count().shape[0]\n",
    "subjects_before_removal = study_uniform.groupby('sona').count().shape[0]\n",
    "study_uniform = study_uniform[study_uniform['understood task']==True]\n",
    "tasks_after_removal = study_uniform.groupby('subject').count().shape[0]\n",
    "subjects_after_removal = study_uniform.groupby('sona').count().shape[0]\n",
    "print(\"There are {} tasks in total prior to exclusion\".format(tasks_before_removal))\n",
    "print(\"There are {} subjects in total prior to exclusion\".format(subjects_before_removal))\n",
    "print(\"Removed {} tasks\".format(tasks_before_removal-tasks_after_removal))\n",
    "print(\"Removed {} subjects\".format(subjects_before_removal-subjects_after_removal))"
   ],
   "metadata": {
    "collapsed": false,
    "ExecuteTime": {
     "end_time": "2024-02-01T17:15:09.978427900Z",
     "start_time": "2024-02-01T17:15:09.970916200Z"
    }
   }
  },
  {
   "cell_type": "markdown",
   "source": [
    "## Exclude sets with too few responses\n",
    "### Study I"
   ],
   "metadata": {
    "collapsed": false
   }
  },
  {
   "cell_type": "code",
   "execution_count": 95,
   "outputs": [],
   "source": [
    "min_responses = 15"
   ],
   "metadata": {
    "collapsed": false,
    "ExecuteTime": {
     "end_time": "2024-02-01T17:14:34.419096900Z",
     "start_time": "2024-02-01T17:14:34.413588900Z"
    }
   }
  },
  {
   "cell_type": "code",
   "execution_count": 8,
   "outputs": [
    {
     "name": "stdout",
     "output_type": "stream",
     "text": [
      "Removed 0 tasks\n",
      "Removed 0 subjects\n"
     ]
    }
   ],
   "source": [
    "#Study I: remove sets with fewer than 15 no-neither responses\n",
    "tasks_before_removal = studyI_GL.groupby('subject').count().shape[0]\n",
    "subjects_before_removal = studyI_GL.groupby('sona').count().shape[0]\n",
    "studyI_GL = studyI_GL[studyI_GL['# no_neither_trials']>=min_responses].reset_index()\n",
    "tasks_after_removal = studyI_GL.groupby('subject').count().shape[0]\n",
    "subjects_after_removal = studyI_GL.groupby('sona').count().shape[0]\n",
    "print(\"Removed {} tasks\".format(tasks_before_removal-tasks_after_removal))\n",
    "print(\"Removed {} subjects\".format(subjects_before_removal-subjects_after_removal))"
   ],
   "metadata": {
    "collapsed": false,
    "ExecuteTime": {
     "end_time": "2024-02-01T16:37:52.372090600Z",
     "start_time": "2024-02-01T16:37:52.361528400Z"
    }
   }
  },
  {
   "cell_type": "markdown",
   "source": [
    "### Study II"
   ],
   "metadata": {
    "collapsed": false
   }
  },
  {
   "cell_type": "code",
   "execution_count": 17,
   "outputs": [
    {
     "name": "stdout",
     "output_type": "stream",
     "text": [
      "There are 792 tasks in total prior to exclusion\n",
      "Removed 0 tasks\n",
      "There are 698 subjects in total prior to exclusion\n",
      "Removed 130 subjects\n"
     ]
    }
   ],
   "source": [
    "#Study II: remove sets with fewer than 15 no-neither responses\n",
    "tasks_before_removal = studyII_GL.groupby('subject').count().shape[0]\n",
    "subjects_before_removal = studyII_GL.groupby('sona').count().shape[0]\n",
    "studyII_GL = studyII_GL[studyII_GL['# no_neither_trials']>=min_responses].reset_index()\n",
    "print(\"There are {} tasks in total prior to exclusion\".format(tasks_before_removal))\n",
    "print(\"Removed {} tasks\".format(tasks_before_removal-tasks_after_removal))\n",
    "tasks_after_removal = studyII_GL.groupby('subject').count().shape[0]\n",
    "subjects_after_removal = studyII_GL.groupby('sona').count().shape[0]\n",
    "print(\"There are {} subjects in total prior to exclusion\".format(subjects_before_removal))\n",
    "print(\"Removed {} subjects\".format(subjects_before_removal-subjects_after_removal))"
   ],
   "metadata": {
    "collapsed": false,
    "ExecuteTime": {
     "end_time": "2024-02-01T16:47:09.841479700Z",
     "start_time": "2024-02-01T16:47:09.826456800Z"
    }
   }
  },
  {
   "cell_type": "markdown",
   "source": [
    "### Uniform Set Experiment"
   ],
   "metadata": {
    "collapsed": false
   }
  },
  {
   "cell_type": "code",
   "execution_count": 102,
   "outputs": [
    {
     "name": "stdout",
     "output_type": "stream",
     "text": [
      "There are 47 tasks in total prior to exclusion\n",
      "Removed 1 tasks\n",
      "There are 47 subjects in total prior to exclusion\n",
      "Removed 1 subjects\n"
     ]
    }
   ],
   "source": [
    "#Study Uniform Sets: remove sets with fewer than 15 no-neither responses\n",
    "tasks_before_removal = study_uniform.groupby('subject').count().shape[0]\n",
    "subjects_before_removal = study_uniform.groupby('sona').count().shape[0]\n",
    "study_uniform = study_uniform[study_uniform['# no_neither_trials']>=min_responses].reset_index()\n",
    "tasks_after_removal = study_uniform.groupby('subject').count().shape[0]\n",
    "print(\"There are {} tasks in total prior to exclusion\".format(tasks_before_removal))\n",
    "print(\"Removed {} tasks\".format(tasks_before_removal-tasks_after_removal))\n",
    "subjects_after_removal = study_uniform.groupby('sona').count().shape[0]\n",
    "print(\"There are {} subjects in total prior to exclusion\".format(subjects_before_removal))\n",
    "print(\"Removed {} subjects\".format(subjects_before_removal-subjects_after_removal))"
   ],
   "metadata": {
    "collapsed": false,
    "ExecuteTime": {
     "end_time": "2024-02-01T17:15:16.530166500Z",
     "start_time": "2024-02-01T17:15:16.519631Z"
    }
   }
  },
  {
   "cell_type": "code",
   "execution_count": 18,
   "outputs": [
    {
     "name": "stdout",
     "output_type": "stream",
     "text": [
      "Post exclusion counts:\n",
      "Study I: 98 subjects, 98 tasks\n",
      "Study II: 568 subjects, 630 tasks\n",
      "Likert: 147 subjects, 145 tasks\n",
      "Uniform: 46 subjects, 46 tasks\n"
     ]
    }
   ],
   "source": [
    "study1_subject_counts = studyI_GL.groupby('sona').count()\n",
    "study1_task_counts = studyI_GL.groupby('subject').count()\n",
    "study2_subject_counts = studyII_GL.groupby('sona').count()\n",
    "study2_task_counts = studyII_GL.groupby('subject').count()\n",
    "study_likert_subject_counts = study_likert.groupby('sona').count()\n",
    "study_likert_task_counts = study_likert.groupby('subject').count()\n",
    "study_uniform_subject_counts = study_uniform.groupby('sona').count()\n",
    "study_uniform_task_counts = study_uniform.groupby('subject').count()\n",
    "\n",
    "print(\"Post exclusion counts:\")\n",
    "print(\"Study I: {} subjects, {} tasks\".format(study1_subject_counts.shape[0], study1_task_counts.shape[0]))\n",
    "print(\"Study II: {} subjects, {} tasks\".format(study2_subject_counts.shape[0], study2_task_counts.shape[0]))\n",
    "print(\"Likert: {} subjects, {} tasks\".format(study_likert_subject_counts.shape[0], study_likert_task_counts.shape[0]))\n",
    "print(\"Uniform: {} subjects, {} tasks\".format(study_uniform_subject_counts.shape[0], study_uniform_task_counts.shape[0]))"
   ],
   "metadata": {
    "collapsed": false,
    "ExecuteTime": {
     "end_time": "2023-11-01T18:32:27.392081200Z",
     "start_time": "2023-11-01T18:32:27.371944100Z"
    }
   }
  },
  {
   "cell_type": "markdown",
   "source": [],
   "metadata": {
    "collapsed": false
   }
  },
  {
   "cell_type": "code",
   "execution_count": null,
   "outputs": [],
   "source": [],
   "metadata": {
    "collapsed": false
   }
  },
  {
   "cell_type": "markdown",
   "source": [
    "## Save data post-exlusion\n",
    "### Study I"
   ],
   "metadata": {
    "collapsed": false
   }
  },
  {
   "cell_type": "code",
   "execution_count": 56,
   "outputs": [],
   "source": [
    "# Save Study I post-exclusion\n",
    "studyI_GL.to_pickle(StudyI_paths.processed_dir + StudyI_paths.post_exclusion_data_pickle_filename)"
   ],
   "metadata": {
    "collapsed": false,
    "ExecuteTime": {
     "end_time": "2023-08-01T20:47:54.751006400Z",
     "start_time": "2023-08-01T20:47:54.746995600Z"
    }
   }
  },
  {
   "cell_type": "markdown",
   "source": [
    "### Study II"
   ],
   "metadata": {
    "collapsed": false
   }
  },
  {
   "cell_type": "code",
   "execution_count": 57,
   "outputs": [],
   "source": [
    "# Save Study II post-exclusion\n",
    "studyII_GL.to_pickle(StudyII_paths.processed_dir + StudyII_paths.post_exclusion_data_pickle_filename)"
   ],
   "metadata": {
    "collapsed": false,
    "ExecuteTime": {
     "end_time": "2023-08-01T20:47:55.567720Z",
     "start_time": "2023-08-01T20:47:55.561718100Z"
    }
   }
  },
  {
   "cell_type": "markdown",
   "source": [
    "### Likert Experiment"
   ],
   "metadata": {
    "collapsed": false
   }
  },
  {
   "cell_type": "code",
   "execution_count": 81,
   "outputs": [],
   "source": [
    "# Save Likert post-exclusion\n",
    "study_likert.to_pickle(Study_likert_paths.processed_dir + Study_likert_paths.post_exclusion_data_pickle_filename)"
   ],
   "metadata": {
    "collapsed": false,
    "ExecuteTime": {
     "end_time": "2024-02-01T17:07:01.262131900Z",
     "start_time": "2024-02-01T17:07:01.256056200Z"
    }
   }
  },
  {
   "cell_type": "code",
   "execution_count": null,
   "outputs": [],
   "source": [],
   "metadata": {
    "collapsed": false
   }
  },
  {
   "cell_type": "markdown",
   "source": [
    "### Uniform Sets Experiment\n"
   ],
   "metadata": {
    "collapsed": false
   }
  },
  {
   "cell_type": "code",
   "execution_count": 28,
   "outputs": [],
   "source": [
    "# Save Uniform post-exclusion\n",
    "study_uniform.to_pickle(Study_uniform_paths.processed_dir + Study_uniform_paths.post_exclusion_data_pickle_filename)"
   ],
   "metadata": {
    "collapsed": false,
    "ExecuteTime": {
     "end_time": "2023-10-17T21:24:04.172000400Z",
     "start_time": "2023-10-17T21:24:04.155457900Z"
    }
   }
  },
  {
   "cell_type": "code",
   "execution_count": null,
   "outputs": [],
   "source": [],
   "metadata": {
    "collapsed": false
   }
  }
 ],
 "metadata": {
  "kernelspec": {
   "display_name": "Python 3",
   "language": "python",
   "name": "python3"
  },
  "language_info": {
   "codemirror_mode": {
    "name": "ipython",
    "version": 2
   },
   "file_extension": ".py",
   "mimetype": "text/x-python",
   "name": "python",
   "nbconvert_exporter": "python",
   "pygments_lexer": "ipython2",
   "version": "2.7.6"
  }
 },
 "nbformat": 4,
 "nbformat_minor": 0
}
