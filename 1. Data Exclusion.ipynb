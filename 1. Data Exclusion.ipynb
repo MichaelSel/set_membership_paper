{
 "cells": [
  {
   "cell_type": "markdown",
   "source": [
    "# Data Exclusion\n",
    "Experimental data is excluded below based on the following criteria:\n",
    "1. A subject is excluded if they self-report to have not understood the task instructions in the post-task questionnaire\n",
    "2. A musical set (one of the test conditions each subject interacts with) is excluded from a subject's data if there's insufficient responses to perform statistics on the data (fewer than 10 responses)"
   ],
   "metadata": {
    "collapsed": false
   }
  },
  {
   "cell_type": "markdown",
   "source": [
    "## Imports"
   ],
   "metadata": {
    "collapsed": false
   }
  },
  {
   "cell_type": "code",
   "source": [
    "import math\n",
    "\n",
    "import seaborn as sns\n",
    "import StudyII_All_5_note_Sets.paths as StudyII_paths\n",
    "import StudyI_Pentatonic_vs_Chromatic.paths as StudyI_paths\n",
    "import Study_Likert.paths as Study_likert_paths\n",
    "import Study_Uniform.paths as Study_uniform_paths\n",
    "import Study_Tritave_Uniform.paths as Study_tritave_uniform_paths\n",
    "import Study_Tritave_pentachords.paths as Study_tritave_pentachords_paths\n",
    "import pandas as pd"
   ],
   "metadata": {
    "collapsed": false,
    "ExecuteTime": {
     "end_time": "2025-01-26T20:06:58.127620Z",
     "start_time": "2025-01-26T20:06:58.116890Z"
    }
   },
   "outputs": [],
   "execution_count": 1
  },
  {
   "cell_type": "code",
   "source": [
    "studyI_GL = pd.read_csv(StudyI_paths.processed_dir + 'group_level_results.csv')\n",
    "studyII_GL = pd.read_csv(StudyII_paths.processed_dir + 'group_level_results.csv')\n",
    "study_uniform = pd.read_csv(Study_uniform_paths.processed_dir + 'group_level_results.csv')\n",
    "study_tritave_uniform = pd.read_csv(Study_tritave_uniform_paths.processed_dir + 'group_level_results.csv')\n",
    "study_tritave_pentachords = pd.read_csv(Study_tritave_pentachords_paths.processed_dir + 'group_level_results.csv')\n",
    "decoys = pd.read_csv(StudyII_paths.processed_dir + 'group_level_decoy_results.csv')\n",
    "study_likert = pd.read_csv(Study_likert_paths.processed_dir + 'group_level_results.csv')"
   ],
   "metadata": {
    "collapsed": false,
    "ExecuteTime": {
     "end_time": "2025-01-26T20:06:58.978148Z",
     "start_time": "2025-01-26T20:06:58.832127Z"
    }
   },
   "outputs": [],
   "execution_count": 2
  },
  {
   "cell_type": "markdown",
   "source": [
    "## Statistics scripts (do not change data, but report the impact of the exclusion on the data)"
   ],
   "metadata": {
    "collapsed": false
   }
  },
  {
   "cell_type": "code",
   "source": [
    "# Standard Error of the Mean\n",
    "def get_SEM(pentatonic_only=True):\n",
    "    temp = studyII_GL\n",
    "    if(pentatonic_only):\n",
    "        temp = temp[temp['set']==\"0 2 4 7 9\"]\n",
    "    SEM = temp.groupby(\"set\")['rate shifted - rate swapped (NN)'].sem().reset_index()['rate shifted - rate swapped (NN)'].median()\n",
    "    return SEM\n",
    "\n",
    "# Standard Deviation\n",
    "def get_STD(pentatonic_only=True):\n",
    "    temp = studyII_GL\n",
    "    if(pentatonic_only):\n",
    "        temp = temp[temp['set']==\"0 2 4 7 9\"]\n",
    "    STD = temp.groupby(\"set\")['rate shifted - rate swapped (NN)'].std().reset_index()['rate shifted - rate swapped (NN)'].median()\n",
    "    return STD\n",
    "\n",
    "# Mean\n",
    "def get_MEAN(pentatonic_only=True):\n",
    "    temp = studyII_GL\n",
    "    if(pentatonic_only):\n",
    "        temp = temp[temp['set']==\"0 2 4 7 9\"]\n",
    "    MEAN = temp.groupby(\"set\")['rate shifted - rate swapped (NN)'].mean().reset_index()['rate shifted - rate swapped (NN)'].median()\n",
    "    return MEAN"
   ],
   "metadata": {
    "collapsed": false,
    "ExecuteTime": {
     "end_time": "2025-01-26T20:07:00.445104Z",
     "start_time": "2025-01-26T20:07:00.440100Z"
    }
   },
   "outputs": [],
   "execution_count": 3
  },
  {
   "cell_type": "markdown",
   "source": [
    "## Total number of subjects"
   ],
   "metadata": {
    "collapsed": false
   }
  },
  {
   "cell_type": "code",
   "source": [
    "tasks_before_removal = studyI_GL.groupby('subject').count().shape[0]\n",
    "print(\"There are {} tasks in total prior to exclusion\".format(tasks_before_removal))"
   ],
   "metadata": {
    "collapsed": false,
    "ExecuteTime": {
     "end_time": "2025-01-12T23:32:39.574412Z",
     "start_time": "2025-01-12T23:32:39.547926Z"
    }
   },
   "outputs": [
    {
     "name": "stdout",
     "output_type": "stream",
     "text": [
      "There are 102 tasks in total prior to exclusion\n"
     ]
    }
   ],
   "execution_count": 4
  },
  {
   "cell_type": "markdown",
   "source": [
    "## Exclude subjects who \"didn't understand\" the task\n",
    "### Study I"
   ],
   "metadata": {
    "collapsed": false
   }
  },
  {
   "cell_type": "code",
   "source": [
    "#Study I: remove subjects that selected \"didn't understand the study\"\n",
    "temp = studyI_GL\n",
    "tasks_before_removal = studyI_GL.groupby('subject').count().shape[0]\n",
    "subjects_before_removal = studyI_GL.groupby('sona').count().shape[0]\n",
    "studyI_GL = studyI_GL[studyI_GL['understood task']==True]\n",
    "tasks_after_removal = studyI_GL.groupby('subject').count().shape[0]\n",
    "subjects_after_removal = studyI_GL.groupby('sona').count().shape[0]\n",
    "print(\"Removed {} tasks\".format(tasks_before_removal-tasks_after_removal))\n",
    "print(\"Removed {} subjects\".format(subjects_before_removal-subjects_after_removal))"
   ],
   "metadata": {
    "collapsed": false,
    "ExecuteTime": {
     "end_time": "2025-01-12T23:32:45.521329Z",
     "start_time": "2025-01-12T23:32:45.494811Z"
    }
   },
   "outputs": [
    {
     "name": "stdout",
     "output_type": "stream",
     "text": [
      "Removed 4 tasks\n",
      "Removed 4 subjects\n"
     ]
    }
   ],
   "execution_count": 5
  },
  {
   "cell_type": "markdown",
   "source": [
    "### Study II"
   ],
   "metadata": {
    "collapsed": false
   }
  },
  {
   "cell_type": "code",
   "source": [
    "tasks_before_removal = studyII_GL.groupby('sona').count().shape[0]\n",
    "print(\"There are {} subjects in total prior to exclusion\".format(tasks_before_removal))"
   ],
   "metadata": {
    "collapsed": false,
    "ExecuteTime": {
     "end_time": "2025-01-12T23:32:46.052483Z",
     "start_time": "2025-01-12T23:32:46.036483Z"
    }
   },
   "outputs": [
    {
     "name": "stdout",
     "output_type": "stream",
     "text": [
      "There are 742 subjects in total prior to exclusion\n"
     ]
    }
   ],
   "execution_count": 6
  },
  {
   "cell_type": "code",
   "source": [
    "#Study II: remove subjects that selected \"didn't understand the study\"\n",
    "tasks_before_removal = studyII_GL.groupby('subject').count().shape[0]\n",
    "subjects_before_removal = studyII_GL.groupby('sona').count().shape[0]\n",
    "studyII_GL = studyII_GL[studyII_GL['understood task']==True]\n",
    "tasks_after_removal = studyII_GL.groupby('subject').count().shape[0]\n",
    "subjects_after_removal = studyII_GL.groupby('sona').count().shape[0]\n",
    "print(\"There are {} tasks in total prior to exclusion\".format(tasks_before_removal))\n",
    "print(\"Removed {} tasks\".format(tasks_before_removal-tasks_after_removal))\n",
    "print(\"There are {} subjects in total prior to exclusion\".format(subjects_before_removal))\n",
    "print(\"Removed {} subjects\".format(subjects_before_removal-subjects_after_removal))\n"
   ],
   "metadata": {
    "collapsed": false,
    "ExecuteTime": {
     "end_time": "2025-01-12T23:32:46.352011Z",
     "start_time": "2025-01-12T23:32:46.321011Z"
    }
   },
   "outputs": [
    {
     "name": "stdout",
     "output_type": "stream",
     "text": [
      "There are 843 tasks in total prior to exclusion\n",
      "Removed 51 tasks\n",
      "There are 742 subjects in total prior to exclusion\n",
      "Removed 44 subjects\n"
     ]
    }
   ],
   "execution_count": 7
  },
  {
   "cell_type": "markdown",
   "source": [
    "### Likert Experiment"
   ],
   "metadata": {
    "collapsed": false
   }
  },
  {
   "cell_type": "code",
   "source": [
    "#Likert: remove subjects that selected \"didn't understand the study\"\n",
    "subjects_before_removal = study_likert.drop_duplicates(subset=['sona','subject'], keep='last').count()[0]\n",
    "study_likert = study_likert[study_likert['understood task']==True]\n",
    "subjects_after_removal = study_likert.drop_duplicates(subset=['sona','subject'], keep='last').count()[0]\n",
    "print(\"There are {} subjects in total prior to exclusion\".format(subjects_before_removal))\n",
    "print(\"Removed {} subjects\".format(subjects_before_removal-subjects_after_removal))"
   ],
   "metadata": {
    "collapsed": false,
    "ExecuteTime": {
     "end_time": "2025-01-12T23:32:46.931377Z",
     "start_time": "2025-01-12T23:32:46.908867Z"
    }
   },
   "outputs": [
    {
     "name": "stdout",
     "output_type": "stream",
     "text": [
      "There are 157 subjects in total prior to exclusion\n",
      "Removed 10 subjects\n"
     ]
    }
   ],
   "execution_count": 8
  },
  {
   "cell_type": "markdown",
   "source": [
    "### Uniform Set Experiment"
   ],
   "metadata": {
    "collapsed": false
   }
  },
  {
   "cell_type": "code",
   "source": [
    "#Uniform: remove subjects that selected \"didn't understand the study\"\n",
    "tasks_before_removal = study_uniform.groupby('subject').count().shape[0]\n",
    "subjects_before_removal = study_uniform.groupby('sona').count().shape[0]\n",
    "study_uniform = study_uniform[study_uniform['understood task']==True]\n",
    "tasks_after_removal = study_uniform.groupby('subject').count().shape[0]\n",
    "subjects_after_removal = study_uniform.groupby('sona').count().shape[0]\n",
    "print(\"There are {} tasks in total prior to exclusion\".format(tasks_before_removal))\n",
    "print(\"There are {} subjects in total prior to exclusion\".format(subjects_before_removal))\n",
    "print(\"Removed {} tasks\".format(tasks_before_removal-tasks_after_removal))\n",
    "print(\"Removed {} subjects\".format(subjects_before_removal-subjects_after_removal))"
   ],
   "metadata": {
    "collapsed": false,
    "ExecuteTime": {
     "end_time": "2025-01-12T23:32:50.790103Z",
     "start_time": "2025-01-12T23:32:50.778102Z"
    }
   },
   "outputs": [
    {
     "name": "stdout",
     "output_type": "stream",
     "text": [
      "There are 128 tasks in total prior to exclusion\n",
      "There are 128 subjects in total prior to exclusion\n",
      "Removed 13 tasks\n",
      "Removed 13 subjects\n"
     ]
    }
   ],
   "execution_count": 9
  },
  {
   "metadata": {},
   "cell_type": "markdown",
   "source": "### Tritave Uniform Set Experiment"
  },
  {
   "metadata": {
    "ExecuteTime": {
     "end_time": "2025-01-12T23:32:55.920171Z",
     "start_time": "2025-01-12T23:32:55.904375Z"
    }
   },
   "cell_type": "code",
   "source": [
    "#Tritave-Uniform: remove subjects that selected \"didn't understand the study\"\n",
    "tasks_before_removal = study_tritave_uniform.groupby('subject').count().shape[0]\n",
    "subjects_before_removal = study_tritave_uniform.groupby('sona').count().shape[0]\n",
    "study_tritave_uniform = study_tritave_uniform[study_tritave_uniform['understood task']==True]\n",
    "tasks_after_removal = study_tritave_uniform.groupby('subject').count().shape[0]\n",
    "subjects_after_removal = study_tritave_uniform.groupby('sona').count().shape[0]\n",
    "print(\"There are {} tasks in total prior to exclusion\".format(tasks_before_removal))\n",
    "print(\"There are {} subjects in total prior to exclusion\".format(subjects_before_removal))\n",
    "print(\"Removed {} tasks\".format(tasks_before_removal-tasks_after_removal))\n",
    "print(\"Removed {} subjects\".format(subjects_before_removal-subjects_after_removal))"
   ],
   "outputs": [
    {
     "name": "stdout",
     "output_type": "stream",
     "text": [
      "There are 29 tasks in total prior to exclusion\n",
      "There are 29 subjects in total prior to exclusion\n",
      "Removed 2 tasks\n",
      "Removed 2 subjects\n"
     ]
    }
   ],
   "execution_count": 10
  },
  {
   "metadata": {},
   "cell_type": "markdown",
   "source": "### Tritave Pentachord Set Experiment"
  },
  {
   "metadata": {
    "ExecuteTime": {
     "end_time": "2025-01-26T20:07:11.226622Z",
     "start_time": "2025-01-26T20:07:11.219622Z"
    }
   },
   "cell_type": "code",
   "source": [
    "#Tritave-Pentachord: remove subjects that selected \"didn't understand the study\"\n",
    "tasks_before_removal = study_tritave_pentachords.groupby('subject').count().shape[0]\n",
    "subjects_before_removal = study_tritave_pentachords.groupby('sona').count().shape[0]\n",
    "study_tritave_pentachords = study_tritave_pentachords[study_tritave_pentachords['understood task']==True]\n",
    "tasks_after_removal = study_tritave_pentachords.groupby('subject').count().shape[0]\n",
    "subjects_after_removal = study_tritave_pentachords.groupby('sona').count().shape[0]\n",
    "print(\"There are {} tasks in total prior to exclusion\".format(tasks_before_removal))\n",
    "print(\"There are {} subjects in total prior to exclusion\".format(subjects_before_removal))\n",
    "print(\"Removed {} tasks\".format(tasks_before_removal-tasks_after_removal))\n",
    "print(\"Removed {} subjects\".format(subjects_before_removal-subjects_after_removal))"
   ],
   "outputs": [
    {
     "name": "stdout",
     "output_type": "stream",
     "text": [
      "There are 40 tasks in total prior to exclusion\n",
      "There are 40 subjects in total prior to exclusion\n",
      "Removed 5 tasks\n",
      "Removed 5 subjects\n"
     ]
    }
   ],
   "execution_count": 4
  },
  {
   "cell_type": "markdown",
   "source": [
    "## Exclude sets with too few responses\n",
    "### Study I"
   ],
   "metadata": {
    "collapsed": false
   }
  },
  {
   "cell_type": "code",
   "source": [
    "min_responses = 15"
   ],
   "metadata": {
    "collapsed": false,
    "ExecuteTime": {
     "end_time": "2025-01-26T20:07:29.833087Z",
     "start_time": "2025-01-26T20:07:29.830087Z"
    }
   },
   "outputs": [],
   "execution_count": 5
  },
  {
   "cell_type": "code",
   "source": [
    "#Study I: remove sets with fewer than 15 no-neither responses\n",
    "tasks_before_removal = studyI_GL.groupby('subject').count().shape[0]\n",
    "subjects_before_removal = studyI_GL.groupby('sona').count().shape[0]\n",
    "studyI_GL = studyI_GL[studyI_GL['# no_neither_trials']>=min_responses].reset_index()\n",
    "tasks_after_removal = studyI_GL.groupby('subject').count().shape[0]\n",
    "subjects_after_removal = studyI_GL.groupby('sona').count().shape[0]\n",
    "print(\"Removed {} tasks\".format(tasks_before_removal-tasks_after_removal))\n",
    "print(\"Removed {} subjects\".format(subjects_before_removal-subjects_after_removal))"
   ],
   "metadata": {
    "collapsed": false,
    "ExecuteTime": {
     "end_time": "2025-01-12T23:32:59.642821Z",
     "start_time": "2025-01-12T23:32:59.623190Z"
    }
   },
   "outputs": [
    {
     "name": "stdout",
     "output_type": "stream",
     "text": [
      "Removed 0 tasks\n",
      "Removed 0 subjects\n"
     ]
    }
   ],
   "execution_count": 13
  },
  {
   "cell_type": "markdown",
   "source": [
    "### Study II"
   ],
   "metadata": {
    "collapsed": false
   }
  },
  {
   "cell_type": "code",
   "source": [
    "#Study II: remove sets with fewer than 15 no-neither responses\n",
    "tasks_before_removal = studyII_GL.groupby('subject').count().shape[0]\n",
    "subjects_before_removal = studyII_GL.groupby('sona').count().shape[0]\n",
    "studyII_GL = studyII_GL[studyII_GL['# no_neither_trials']>=min_responses].reset_index()\n",
    "print(\"There are {} tasks in total prior to exclusion\".format(tasks_before_removal))\n",
    "print(\"Removed {} tasks\".format(tasks_before_removal-tasks_after_removal))\n",
    "tasks_after_removal = studyII_GL.groupby('subject').count().shape[0]\n",
    "subjects_after_removal = studyII_GL.groupby('sona').count().shape[0]\n",
    "print(\"There are {} subjects in total prior to exclusion\".format(subjects_before_removal))\n",
    "print(\"Removed {} subjects\".format(subjects_before_removal-subjects_after_removal))"
   ],
   "metadata": {
    "collapsed": false,
    "ExecuteTime": {
     "end_time": "2025-01-12T23:33:00.428309Z",
     "start_time": "2025-01-12T23:33:00.405802Z"
    }
   },
   "outputs": [
    {
     "name": "stdout",
     "output_type": "stream",
     "text": [
      "There are 792 tasks in total prior to exclusion\n",
      "Removed 694 tasks\n",
      "There are 698 subjects in total prior to exclusion\n",
      "Removed 130 subjects\n"
     ]
    }
   ],
   "execution_count": 14
  },
  {
   "cell_type": "markdown",
   "source": [
    "### Uniform Set Experiment"
   ],
   "metadata": {
    "collapsed": false
   }
  },
  {
   "cell_type": "code",
   "source": [
    "#Study Uniform Sets: remove sets with fewer than 15 no-neither responses\n",
    "tasks_before_removal = study_uniform.groupby('subject').count().shape[0]\n",
    "subjects_before_removal = study_uniform.groupby('sona').count().shape[0]\n",
    "study_uniform = study_uniform[study_uniform['# no_neither_trials']>=min_responses].reset_index()\n",
    "tasks_after_removal = study_uniform.groupby('subject').count().shape[0]\n",
    "print(\"There are {} tasks in total prior to exclusion\".format(tasks_before_removal))\n",
    "print(\"Removed {} tasks\".format(tasks_before_removal-tasks_after_removal))\n",
    "subjects_after_removal = study_uniform.groupby('sona').count().shape[0]\n",
    "print(\"There are {} subjects in total prior to exclusion\".format(subjects_before_removal))\n",
    "print(\"Removed {} subjects\".format(subjects_before_removal-subjects_after_removal))"
   ],
   "metadata": {
    "collapsed": false,
    "ExecuteTime": {
     "end_time": "2025-01-12T23:33:03.990203Z",
     "start_time": "2025-01-12T23:33:03.969204Z"
    }
   },
   "outputs": [
    {
     "name": "stdout",
     "output_type": "stream",
     "text": [
      "There are 115 tasks in total prior to exclusion\n",
      "Removed 2 tasks\n",
      "There are 115 subjects in total prior to exclusion\n",
      "Removed 2 subjects\n"
     ]
    }
   ],
   "execution_count": 15
  },
  {
   "metadata": {},
   "cell_type": "markdown",
   "source": "### Tritave Uniform Set Experiment"
  },
  {
   "metadata": {
    "ExecuteTime": {
     "end_time": "2025-01-26T20:07:32.903008Z",
     "start_time": "2025-01-26T20:07:32.895008Z"
    }
   },
   "cell_type": "code",
   "source": [
    "#Study Tritave Uniform Sets: remove sets with fewer than 15 no-neither responses\n",
    "tasks_before_removal = study_tritave_uniform.groupby('subject').count().shape[0]\n",
    "subjects_before_removal = study_tritave_uniform.groupby('sona').count().shape[0]\n",
    "study_tritave_uniform = study_tritave_uniform[study_tritave_uniform['# no_neither_trials']>=min_responses].reset_index()\n",
    "tasks_after_removal = study_tritave_uniform.groupby('subject').count().shape[0]\n",
    "print(\"There are {} tasks in total prior to exclusion\".format(tasks_before_removal))\n",
    "print(\"Removed {} tasks\".format(tasks_before_removal-tasks_after_removal))\n",
    "subjects_after_removal = study_tritave_uniform.groupby('sona').count().shape[0]\n",
    "print(\"There are {} subjects in total prior to exclusion\".format(subjects_before_removal))\n",
    "print(\"Removed {} subjects\".format(subjects_before_removal-subjects_after_removal))"
   ],
   "outputs": [
    {
     "name": "stdout",
     "output_type": "stream",
     "text": [
      "There are 29 tasks in total prior to exclusion\n",
      "Removed 1 tasks\n",
      "There are 29 subjects in total prior to exclusion\n",
      "Removed 1 subjects\n"
     ]
    }
   ],
   "execution_count": 6
  },
  {
   "metadata": {},
   "cell_type": "markdown",
   "source": "### Tritave Pentachord Set Experiment"
  },
  {
   "metadata": {
    "ExecuteTime": {
     "end_time": "2025-01-12T23:33:08.560715Z",
     "start_time": "2025-01-12T23:33:08.544717Z"
    }
   },
   "cell_type": "code",
   "source": [
    "#Study Tritave Pentachord Sets: remove sets with fewer than 15 no-neither responses\n",
    "tasks_before_removal = study_tritave_pentachords.groupby('subject').count().shape[0]\n",
    "subjects_before_removal = study_tritave_pentachords.groupby('sona').count().shape[0]\n",
    "study_tritave_pentachords = study_tritave_pentachords[study_tritave_pentachords['# no_neither_trials']>=min_responses].reset_index()\n",
    "tasks_after_removal = study_tritave_pentachords.groupby('subject').count().shape[0]\n",
    "print(\"There are {} tasks in total prior to exclusion\".format(tasks_before_removal))\n",
    "print(\"Removed {} tasks\".format(tasks_before_removal-tasks_after_removal))\n",
    "subjects_after_removal = study_tritave_pentachords.groupby('sona').count().shape[0]\n",
    "print(\"There are {} subjects in total prior to exclusion\".format(subjects_before_removal))\n",
    "print(\"Removed {} subjects\".format(subjects_before_removal-subjects_after_removal))"
   ],
   "outputs": [
    {
     "name": "stdout",
     "output_type": "stream",
     "text": [
      "There are 35 tasks in total prior to exclusion\n",
      "Removed 0 tasks\n",
      "There are 35 subjects in total prior to exclusion\n",
      "Removed 0 subjects\n"
     ]
    }
   ],
   "execution_count": 17
  },
  {
   "cell_type": "code",
   "source": [
    "study1_subject_counts = studyI_GL.groupby('sona').count()\n",
    "study1_task_counts = studyI_GL.groupby('subject').count()\n",
    "study2_subject_counts = studyII_GL.groupby('sona').count()\n",
    "study2_task_counts = studyII_GL.groupby('subject').count()\n",
    "study_likert_subject_counts = study_likert.groupby('sona').count()\n",
    "study_likert_task_counts = study_likert.groupby('subject').count()\n",
    "study_uniform_subject_counts = study_uniform.groupby('sona').count()\n",
    "study_uniform_task_counts = study_uniform.groupby('subject').count()\n",
    "study_tritave_uniform_subject_counts = study_tritave_uniform.groupby('sona').count()\n",
    "study_tritave_uniform_task_counts = study_tritave_uniform.groupby('subject').count()\n",
    "study_tritave_pentachords_subject_counts = study_tritave_pentachords.groupby('sona').count()\n",
    "study_tritave_pentachords_task_counts = study_tritave_pentachords.groupby('subject').count()\n",
    "print(\"Post exclusion counts:\")\n",
    "print(\"Study I: {} subjects, {} tasks\".format(study1_subject_counts.shape[0], study1_task_counts.shape[0]))\n",
    "print(\"Study II: {} subjects, {} tasks\".format(study2_subject_counts.shape[0], study2_task_counts.shape[0]))\n",
    "print(\"Likert: {} subjects, {} tasks\".format(study_likert_subject_counts.shape[0], study_likert_task_counts.shape[0]))\n",
    "print(\"Uniform: {} subjects, {} tasks\".format(study_uniform_subject_counts.shape[0], study_uniform_task_counts.shape[0]))\n",
    "print(\"Tritave Uniform: {} subjects, {} tasks\".format(study_tritave_uniform_subject_counts.shape[0], study_tritave_uniform_task_counts.shape[0]))\n",
    "print(\"Tritave Pentachord: {} subjects, {} tasks\".format(study_tritave_pentachords_subject_counts.shape[0], study_tritave_pentachords_task_counts.shape[0]))"
   ],
   "metadata": {
    "collapsed": false,
    "ExecuteTime": {
     "end_time": "2025-01-26T20:07:37.266346Z",
     "start_time": "2025-01-26T20:07:37.244346Z"
    }
   },
   "outputs": [
    {
     "name": "stdout",
     "output_type": "stream",
     "text": [
      "Post exclusion counts:\n",
      "Study I: 102 subjects, 102 tasks\n",
      "Study II: 742 subjects, 843 tasks\n",
      "Likert: 157 subjects, 155 tasks\n",
      "Uniform: 128 subjects, 128 tasks\n",
      "Tritave Uniform: 28 subjects, 28 tasks\n",
      "Tritave Pentachord: 35 subjects, 35 tasks\n"
     ]
    }
   ],
   "execution_count": 7
  },
  {
   "cell_type": "markdown",
   "source": [],
   "metadata": {
    "collapsed": false
   }
  },
  {
   "cell_type": "code",
   "source": [],
   "metadata": {
    "collapsed": false,
    "ExecuteTime": {
     "end_time": "2025-01-12T23:33:14.821537Z",
     "start_time": "2025-01-12T23:33:14.809536Z"
    }
   },
   "outputs": [],
   "execution_count": 18
  },
  {
   "cell_type": "markdown",
   "source": [
    "## Save data post-exlusion\n",
    "### Study I"
   ],
   "metadata": {
    "collapsed": false
   }
  },
  {
   "cell_type": "code",
   "source": [
    "# Save Study I post-exclusion\n",
    "studyI_GL.to_pickle(StudyI_paths.processed_dir + StudyI_paths.post_exclusion_data_pickle_filename)"
   ],
   "metadata": {
    "collapsed": false,
    "ExecuteTime": {
     "end_time": "2025-01-12T23:33:15.242086Z",
     "start_time": "2025-01-12T23:33:15.232087Z"
    }
   },
   "outputs": [],
   "execution_count": 19
  },
  {
   "cell_type": "markdown",
   "source": [
    "### Study II"
   ],
   "metadata": {
    "collapsed": false
   }
  },
  {
   "cell_type": "code",
   "source": [
    "# Save Study II post-exclusion\n",
    "studyII_GL.to_pickle(StudyII_paths.processed_dir + StudyII_paths.post_exclusion_data_pickle_filename)"
   ],
   "metadata": {
    "collapsed": false,
    "ExecuteTime": {
     "end_time": "2025-01-12T23:33:15.664620Z",
     "start_time": "2025-01-12T23:33:15.643264Z"
    }
   },
   "outputs": [],
   "execution_count": 20
  },
  {
   "cell_type": "markdown",
   "source": [
    "### Likert Experiment"
   ],
   "metadata": {
    "collapsed": false
   }
  },
  {
   "cell_type": "code",
   "source": [
    "# Save Likert post-exclusion\n",
    "study_likert.to_pickle(Study_likert_paths.processed_dir + Study_likert_paths.post_exclusion_data_pickle_filename)"
   ],
   "metadata": {
    "collapsed": false,
    "ExecuteTime": {
     "end_time": "2025-01-12T23:33:16.060211Z",
     "start_time": "2025-01-12T23:33:16.050212Z"
    }
   },
   "outputs": [],
   "execution_count": 21
  },
  {
   "cell_type": "code",
   "source": [],
   "metadata": {
    "collapsed": false,
    "ExecuteTime": {
     "end_time": "2025-01-12T23:33:16.391050Z",
     "start_time": "2025-01-12T23:33:16.386051Z"
    }
   },
   "outputs": [],
   "execution_count": 21
  },
  {
   "cell_type": "markdown",
   "source": [
    "### Uniform Sets Experiment\n"
   ],
   "metadata": {
    "collapsed": false
   }
  },
  {
   "cell_type": "code",
   "source": [
    "# Save Uniform post-exclusion\n",
    "study_uniform.to_pickle(Study_uniform_paths.processed_dir + Study_uniform_paths.post_exclusion_data_pickle_filename)"
   ],
   "metadata": {
    "collapsed": false,
    "ExecuteTime": {
     "end_time": "2025-01-12T23:33:17.048017Z",
     "start_time": "2025-01-12T23:33:17.034018Z"
    }
   },
   "outputs": [],
   "execution_count": 22
  },
  {
   "metadata": {},
   "cell_type": "markdown",
   "source": "### Tritave Uniform Sets Experiment\n"
  },
  {
   "metadata": {
    "ExecuteTime": {
     "end_time": "2025-01-12T23:33:17.721072Z",
     "start_time": "2025-01-12T23:33:17.711073Z"
    }
   },
   "cell_type": "code",
   "source": [
    "# Save Tritave Uniform post-exclusion\n",
    "study_tritave_uniform.to_pickle(Study_tritave_uniform_paths.processed_dir + Study_tritave_uniform_paths.post_exclusion_data_pickle_filename)"
   ],
   "outputs": [],
   "execution_count": 23
  },
  {
   "metadata": {},
   "cell_type": "markdown",
   "source": "### Tritave Pentachord Sets Experiment\n"
  },
  {
   "metadata": {
    "ExecuteTime": {
     "end_time": "2025-01-12T23:33:18.555157Z",
     "start_time": "2025-01-12T23:33:18.548157Z"
    }
   },
   "cell_type": "code",
   "source": [
    "# Save Tritave Pentachord post-exclusion\n",
    "study_tritave_pentachords.to_pickle(Study_tritave_pentachords_paths.processed_dir + Study_tritave_pentachords_paths.post_exclusion_data_pickle_filename)"
   ],
   "outputs": [],
   "execution_count": 24
  },
  {
   "cell_type": "code",
   "source": "",
   "metadata": {
    "collapsed": false,
    "ExecuteTime": {
     "end_time": "2024-12-13T21:12:47.935783Z",
     "start_time": "2024-12-13T21:12:47.933782Z"
    }
   },
   "outputs": [],
   "execution_count": 66
  },
  {
   "metadata": {},
   "cell_type": "code",
   "outputs": [],
   "execution_count": null,
   "source": ""
  }
 ],
 "metadata": {
  "kernelspec": {
   "display_name": "Python 3",
   "language": "python",
   "name": "python3"
  },
  "language_info": {
   "codemirror_mode": {
    "name": "ipython",
    "version": 2
   },
   "file_extension": ".py",
   "mimetype": "text/x-python",
   "name": "python",
   "nbconvert_exporter": "python",
   "pygments_lexer": "ipython2",
   "version": "2.7.6"
  }
 },
 "nbformat": 4,
 "nbformat_minor": 0
}
