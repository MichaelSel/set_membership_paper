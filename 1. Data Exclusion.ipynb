{
 "cells": [
  {
   "cell_type": "markdown",
   "source": [
    "# Data Exclusion\n",
    "Experimental data is excluded below based on the following criteria:\n",
    "1. A subject is excluded if they self-report to have not understood the task instructions in the post-task questionnaire\n",
    "2. A musical set (one of the test conditions each subject interacts with) is excluded from a subject's data if there's insufficient responses to perform statistics on the data (fewer than 10 responses)"
   ],
   "metadata": {
    "collapsed": false
   }
  },
  {
   "cell_type": "markdown",
   "source": [
    "## Imports"
   ],
   "metadata": {
    "collapsed": false
   }
  },
  {
   "cell_type": "code",
   "execution_count": 1,
   "outputs": [],
   "source": [
    "import math\n",
    "\n",
    "import seaborn as sns\n",
    "import StudyII_All_5_note_Sets.paths as StudyII_paths\n",
    "import StudyI_Pentatonic_vs_Chromatic.paths as StudyI_paths\n",
    "import Study_Likert.paths as Study_likert_paths\n",
    "import pandas as pd"
   ],
   "metadata": {
    "collapsed": false
   }
  },
  {
   "cell_type": "code",
   "execution_count": 2,
   "outputs": [],
   "source": [
    "studyI_GL = pd.read_csv(StudyI_paths.processed_dir + 'group_level_results.csv')\n",
    "studyII_GL = pd.read_csv(StudyII_paths.processed_dir + 'group_level_results.csv')\n",
    "decoys = pd.read_csv(StudyII_paths.processed_dir + 'group_level_decoy_results.csv')\n",
    "study_likert = pd.read_csv(Study_likert_paths.processed_dir + 'set_level_results.csv')"
   ],
   "metadata": {
    "collapsed": false
   }
  },
  {
   "cell_type": "markdown",
   "source": [
    "## Statistics scripts (do not change data, but report the impact of the exclusion on the data)"
   ],
   "metadata": {
    "collapsed": false
   }
  },
  {
   "cell_type": "code",
   "execution_count": 3,
   "outputs": [],
   "source": [
    "# Standard Error of the Mean\n",
    "def get_SEM(pentatonic_only=True):\n",
    "    temp = studyII_GL\n",
    "    if(pentatonic_only):\n",
    "        temp = temp[temp['set']==\"0 2 4 7 9\"]\n",
    "    SEM = temp.groupby(\"set\")['rate shifted - rate swapped (NN)'].sem().reset_index()['rate shifted - rate swapped (NN)'].median()\n",
    "    return SEM\n",
    "\n",
    "# Standard Deviation\n",
    "def get_STD(pentatonic_only=True):\n",
    "    temp = studyII_GL\n",
    "    if(pentatonic_only):\n",
    "        temp = temp[temp['set']==\"0 2 4 7 9\"]\n",
    "    STD = temp.groupby(\"set\")['rate shifted - rate swapped (NN)'].std().reset_index()['rate shifted - rate swapped (NN)'].median()\n",
    "    return STD\n",
    "\n",
    "# Mean\n",
    "def get_MEAN(pentatonic_only=True):\n",
    "    temp = studyII_GL\n",
    "    if(pentatonic_only):\n",
    "        temp = temp[temp['set']==\"0 2 4 7 9\"]\n",
    "    MEAN = temp.groupby(\"set\")['rate shifted - rate swapped (NN)'].mean().reset_index()['rate shifted - rate swapped (NN)'].median()\n",
    "    return MEAN"
   ],
   "metadata": {
    "collapsed": false
   }
  },
  {
   "cell_type": "markdown",
   "source": [
    "## Exclude subjects who \"didn't understand\" the task\n",
    "### Study I"
   ],
   "metadata": {
    "collapsed": false
   }
  },
  {
   "cell_type": "code",
   "execution_count": 4,
   "outputs": [
    {
     "name": "stdout",
     "output_type": "stream",
     "text": [
      "Removed 4 subjects\n"
     ]
    }
   ],
   "source": [
    "#Study I: remove subjects that selected \"didn't understand the study\"\n",
    "temp = studyI_GL\n",
    "before_removal = studyI_GL.groupby('subject').count().shape[0]\n",
    "studyI_GL = studyI_GL[studyI_GL['understood task']==True]\n",
    "after_removal = studyI_GL.groupby('subject').count().shape[0]\n",
    "print(\"Removed {} subjects\".format(before_removal-after_removal))"
   ],
   "metadata": {
    "collapsed": false
   }
  },
  {
   "cell_type": "markdown",
   "source": [
    "### Study II"
   ],
   "metadata": {
    "collapsed": false
   }
  },
  {
   "cell_type": "code",
   "execution_count": 5,
   "outputs": [
    {
     "name": "stdout",
     "output_type": "stream",
     "text": [
      "There are 843 subjects in total prior to exclusion\n",
      "Removed 51 subjects\n",
      "SEM changed from 0.035818657571183396 to 0.038105163956511666 (a 0.9399948419605859 % diff)\n",
      "STD changed from 0.3101986738610064 to 0.3165252642215655 (a 0.9800123684404208 % diff)\n",
      "MEAN changed from 0.3263694705707089 to 0.33173443630099975 (a 0.9838275284588697 % diff)\n"
     ]
    }
   ],
   "source": [
    "#Study II: remove subjects that selected \"didn't understand the study\"\n",
    "before_removal = studyII_GL.groupby('subject').count().shape[0]\n",
    "SEM_before = get_SEM()\n",
    "STD_before = get_STD()\n",
    "MEAN_before = get_MEAN()\n",
    "studyII_GL = studyII_GL[studyII_GL['understood task']==True]\n",
    "after_removal = studyII_GL.groupby('subject').count().shape[0]\n",
    "SEM_after = get_SEM()\n",
    "STD_after = get_STD()\n",
    "MEAN_after = get_MEAN()\n",
    "print(\"There are {} subjects in total prior to exclusion\".format(before_removal))\n",
    "print(\"Removed {} subjects\".format(before_removal-after_removal))\n",
    "print(\"SEM changed from {} to {} (a {} % diff)\".format(SEM_before,SEM_after,SEM_before/SEM_after))\n",
    "print(\"STD changed from {} to {} (a {} % diff)\".format(STD_before,STD_after,STD_before/STD_after))\n",
    "print(\"MEAN changed from {} to {} (a {} % diff)\".format(MEAN_before,MEAN_after,MEAN_before/MEAN_after))"
   ],
   "metadata": {
    "collapsed": false
   }
  },
  {
   "cell_type": "markdown",
   "source": [
    "## Exclude sets with too few responses\n",
    "### Study I"
   ],
   "metadata": {
    "collapsed": false
   }
  },
  {
   "cell_type": "code",
   "execution_count": 6,
   "outputs": [],
   "source": [
    "min_responses = 15"
   ],
   "metadata": {
    "collapsed": false
   }
  },
  {
   "cell_type": "code",
   "execution_count": 7,
   "outputs": [
    {
     "name": "stdout",
     "output_type": "stream",
     "text": [
      "Removed 1 sets\n"
     ]
    }
   ],
   "source": [
    "#Study I: remove sets with fewer than 15 no-neither responses\n",
    "before_removal = studyI_GL.groupby(['subject','set']).count().shape[0]\n",
    "studyI_GL = studyI_GL[studyI_GL['# no_neither_trials']>=min_responses].reset_index()\n",
    "after_removal = studyI_GL.groupby(['subject','set']).count().shape[0]\n",
    "print(\"Removed {} sets\".format(before_removal-after_removal))"
   ],
   "metadata": {
    "collapsed": false
   }
  },
  {
   "cell_type": "markdown",
   "source": [
    "### Study II"
   ],
   "metadata": {
    "collapsed": false
   }
  },
  {
   "cell_type": "code",
   "execution_count": 8,
   "outputs": [
    {
     "name": "stdout",
     "output_type": "stream",
     "text": [
      "Removed 2339 musical sets\n",
      "Resulting in the removal of 162 task-sets\n",
      "There are 630 subjects left after exclusion\n",
      "SEM changed from 0.038105163956511666 to 0.05184918713043115 (a 0.7349230733483787 % diff)\n",
      "STD changed from 0.3165252642215655 to 0.32379806984812654 (a 0.9775390704769419 % diff)\n",
      "MEAN changed from 0.33173443630099975 to 0.32046982085681774 (a 1.035150315914505 % diff)\n"
     ]
    }
   ],
   "source": [
    "#Study II: remove sets with fewer than 15 no-neither responses\n",
    "before_removal_sets = studyII_GL.groupby(['subject','set']).count().shape[0]\n",
    "before_removal_subs = studyII_GL.groupby(['subject']).count().shape[0]\n",
    "SEM_before = get_SEM()\n",
    "STD_before = get_STD()\n",
    "MEAN_before = get_MEAN()\n",
    "studyII_GL = studyII_GL[studyII_GL['# no_neither_trials']>=min_responses].reset_index()\n",
    "SEM_after = get_SEM()\n",
    "STD_after = get_STD()\n",
    "MEAN_after = get_MEAN()\n",
    "after_removal_sets = studyII_GL.groupby(['subject','set']).count().shape[0]\n",
    "after_removal_subs = studyII_GL.groupby(['subject']).count().shape[0]\n",
    "print(\"Removed {} musical sets\".format(before_removal_sets-after_removal_sets))\n",
    "print(\"Resulting in the removal of {} task-sets\".format(before_removal_subs-after_removal_subs))\n",
    "print(\"There are {} subjects left after exclusion\".format(after_removal_subs))\n",
    "print(\"SEM changed from {} to {} (a {} % diff)\".format(SEM_before,SEM_after,SEM_before/SEM_after))\n",
    "print(\"STD changed from {} to {} (a {} % diff)\".format(STD_before,STD_after,STD_before/STD_after))\n",
    "print(\"MEAN changed from {} to {} (a {} % diff)\".format(MEAN_before,MEAN_after,MEAN_before/MEAN_after))"
   ],
   "metadata": {
    "collapsed": false
   }
  },
  {
   "cell_type": "markdown",
   "source": [
    "## Save data post-exlusion\n",
    "### Study I"
   ],
   "metadata": {
    "collapsed": false
   }
  },
  {
   "cell_type": "code",
   "execution_count": 9,
   "outputs": [],
   "source": [
    "# Save Study I post-exclusion\n",
    "studyI_GL.to_pickle(StudyI_paths.processed_dir + StudyI_paths.post_exclusion_data_pickle_filename)"
   ],
   "metadata": {
    "collapsed": false
   }
  },
  {
   "cell_type": "markdown",
   "source": [
    "### Study II"
   ],
   "metadata": {
    "collapsed": false
   }
  },
  {
   "cell_type": "code",
   "execution_count": 10,
   "outputs": [],
   "source": [
    "# Save Study II post-exclusion\n",
    "studyII_GL.to_pickle(StudyII_paths.processed_dir + StudyII_paths.post_exclusion_data_pickle_filename)"
   ],
   "metadata": {
    "collapsed": false
   }
  },
  {
   "cell_type": "code",
   "execution_count": null,
   "outputs": [],
   "source": [],
   "metadata": {
    "collapsed": false
   }
  }
 ],
 "metadata": {
  "kernelspec": {
   "display_name": "Python 3",
   "language": "python",
   "name": "python3"
  },
  "language_info": {
   "codemirror_mode": {
    "name": "ipython",
    "version": 2
   },
   "file_extension": ".py",
   "mimetype": "text/x-python",
   "name": "python",
   "nbconvert_exporter": "python",
   "pygments_lexer": "ipython2",
   "version": "2.7.6"
  }
 },
 "nbformat": 4,
 "nbformat_minor": 0
}
