{
 "cells": [
  {
   "cell_type": "markdown",
   "source": [
    "# Data Exclusion\n",
    "Experimental data is excluded below based on the following criteria:\n",
    "1. A subject is excluded if they self-report to have not understood the task instructions in the post-task questionnaire\n",
    "2. A musical set (one of the test conditions each subject interacts with) is excluded from a subject's data if there's insufficient responses to perform statistics on the data (fewer than 10 responses)"
   ],
   "metadata": {
    "collapsed": false
   }
  },
  {
   "cell_type": "markdown",
   "source": [
    "## Imports"
   ],
   "metadata": {
    "collapsed": false
   }
  },
  {
   "cell_type": "code",
   "execution_count": 15,
   "outputs": [],
   "source": [
    "import math\n",
    "\n",
    "import seaborn as sns\n",
    "import StudyII_All_5_note_Sets.paths as StudyII_paths\n",
    "import StudyI_Pentatonic_vs_Chromatic.paths as StudyI_paths\n",
    "import Study_Likert.paths as Study_likert_paths\n",
    "import Study_Uniform.paths as Study_uniform_paths\n",
    "import pandas as pd"
   ],
   "metadata": {
    "collapsed": false,
    "ExecuteTime": {
     "end_time": "2023-10-17T21:20:30.902378400Z",
     "start_time": "2023-10-17T21:20:30.897008200Z"
    }
   }
  },
  {
   "cell_type": "code",
   "execution_count": 16,
   "outputs": [],
   "source": [
    "studyI_GL = pd.read_csv(StudyI_paths.processed_dir + 'group_level_results.csv')\n",
    "studyII_GL = pd.read_csv(StudyII_paths.processed_dir + 'group_level_results.csv')\n",
    "study_uniform = pd.read_csv(Study_uniform_paths.processed_dir + 'group_level_results.csv')\n",
    "decoys = pd.read_csv(StudyII_paths.processed_dir + 'group_level_decoy_results.csv')\n",
    "study_likert = pd.read_csv(Study_likert_paths.processed_dir + 'group_level_results.csv')"
   ],
   "metadata": {
    "collapsed": false,
    "ExecuteTime": {
     "end_time": "2023-10-17T21:20:31.395619800Z",
     "start_time": "2023-10-17T21:20:31.335797700Z"
    }
   }
  },
  {
   "cell_type": "markdown",
   "source": [
    "## Statistics scripts (do not change data, but report the impact of the exclusion on the data)"
   ],
   "metadata": {
    "collapsed": false
   }
  },
  {
   "cell_type": "code",
   "execution_count": 17,
   "outputs": [],
   "source": [
    "# Standard Error of the Mean\n",
    "def get_SEM(pentatonic_only=True):\n",
    "    temp = studyII_GL\n",
    "    if(pentatonic_only):\n",
    "        temp = temp[temp['set']==\"0 2 4 7 9\"]\n",
    "    SEM = temp.groupby(\"set\")['rate shifted - rate swapped (NN)'].sem().reset_index()['rate shifted - rate swapped (NN)'].median()\n",
    "    return SEM\n",
    "\n",
    "# Standard Deviation\n",
    "def get_STD(pentatonic_only=True):\n",
    "    temp = studyII_GL\n",
    "    if(pentatonic_only):\n",
    "        temp = temp[temp['set']==\"0 2 4 7 9\"]\n",
    "    STD = temp.groupby(\"set\")['rate shifted - rate swapped (NN)'].std().reset_index()['rate shifted - rate swapped (NN)'].median()\n",
    "    return STD\n",
    "\n",
    "# Mean\n",
    "def get_MEAN(pentatonic_only=True):\n",
    "    temp = studyII_GL\n",
    "    if(pentatonic_only):\n",
    "        temp = temp[temp['set']==\"0 2 4 7 9\"]\n",
    "    MEAN = temp.groupby(\"set\")['rate shifted - rate swapped (NN)'].mean().reset_index()['rate shifted - rate swapped (NN)'].median()\n",
    "    return MEAN"
   ],
   "metadata": {
    "collapsed": false,
    "ExecuteTime": {
     "end_time": "2023-10-17T21:20:33.092994700Z",
     "start_time": "2023-10-17T21:20:33.086480800Z"
    }
   }
  },
  {
   "cell_type": "markdown",
   "source": [
    "## Exclude subjects who \"didn't understand\" the task\n",
    "### Study I"
   ],
   "metadata": {
    "collapsed": false
   }
  },
  {
   "cell_type": "code",
   "execution_count": 18,
   "outputs": [
    {
     "name": "stdout",
     "output_type": "stream",
     "text": [
      "Removed 4 tasks\n",
      "Removed 4 subjects\n"
     ]
    }
   ],
   "source": [
    "#Study I: remove subjects that selected \"didn't understand the study\"\n",
    "temp = studyI_GL\n",
    "tasks_before_removal = studyI_GL.groupby('subject').count().shape[0]\n",
    "subjects_before_removal = studyI_GL.groupby('sona').count().shape[0]\n",
    "studyI_GL = studyI_GL[studyI_GL['understood task']==True]\n",
    "tasks_after_removal = studyI_GL.groupby('subject').count().shape[0]\n",
    "subjects_after_removal = studyI_GL.groupby('sona').count().shape[0]\n",
    "print(\"Removed {} tasks\".format(tasks_before_removal-tasks_after_removal))\n",
    "print(\"Removed {} subjects\".format(subjects_before_removal-subjects_after_removal))"
   ],
   "metadata": {
    "collapsed": false,
    "ExecuteTime": {
     "end_time": "2023-10-17T21:20:34.103117500Z",
     "start_time": "2023-10-17T21:20:34.095105900Z"
    }
   }
  },
  {
   "cell_type": "markdown",
   "source": [
    "### Study II"
   ],
   "metadata": {
    "collapsed": false
   }
  },
  {
   "cell_type": "code",
   "execution_count": 19,
   "outputs": [
    {
     "name": "stdout",
     "output_type": "stream",
     "text": [
      "There are 843 tasks in total prior to exclusion\n",
      "Removed 51 tasks\n",
      "There are 742 subjects in total prior to exclusion\n",
      "Removed 44 subjects\n"
     ]
    }
   ],
   "source": [
    "#Study II: remove subjects that selected \"didn't understand the study\"\n",
    "tasks_before_removal = studyII_GL.groupby('subject').count().shape[0]\n",
    "subjects_before_removal = studyII_GL.groupby('sona').count().shape[0]\n",
    "studyII_GL = studyII_GL[studyII_GL['understood task']==True]\n",
    "tasks_after_removal = studyII_GL.groupby('subject').count().shape[0]\n",
    "subjects_after_removal = studyII_GL.groupby('sona').count().shape[0]\n",
    "print(\"There are {} tasks in total prior to exclusion\".format(tasks_before_removal))\n",
    "print(\"Removed {} tasks\".format(tasks_before_removal-tasks_after_removal))\n",
    "print(\"There are {} subjects in total prior to exclusion\".format(subjects_before_removal))\n",
    "print(\"Removed {} subjects\".format(subjects_before_removal-subjects_after_removal))\n"
   ],
   "metadata": {
    "collapsed": false,
    "ExecuteTime": {
     "end_time": "2023-10-17T21:20:35.094665600Z",
     "start_time": "2023-10-17T21:20:35.061031200Z"
    }
   }
  },
  {
   "cell_type": "markdown",
   "source": [
    "### Likert Experiment"
   ],
   "metadata": {
    "collapsed": false
   }
  },
  {
   "cell_type": "code",
   "execution_count": 20,
   "outputs": [
    {
     "name": "stdout",
     "output_type": "stream",
     "text": [
      "There are 155 tasks in total prior to exclusion\n",
      "There are 157 subjects in total prior to exclusion\n",
      "Removed 10 tasks\n",
      "Removed 10 subjects\n"
     ]
    }
   ],
   "source": [
    "#Likert: remove subjects that selected \"didn't understand the study\"\n",
    "tasks_before_removal = study_likert.groupby('subject').count().shape[0]\n",
    "subjects_before_removal = study_likert.groupby('sona').count().shape[0]\n",
    "study_likert = study_likert[study_likert['understood task']==True]\n",
    "tasks_after_removal = study_likert.groupby('subject').count().shape[0]\n",
    "subjects_after_removal = study_likert.groupby('sona').count().shape[0]\n",
    "print(\"There are {} tasks in total prior to exclusion\".format(tasks_before_removal))\n",
    "print(\"There are {} subjects in total prior to exclusion\".format(subjects_before_removal))\n",
    "print(\"Removed {} tasks\".format(tasks_before_removal-tasks_after_removal))\n",
    "print(\"Removed {} subjects\".format(subjects_before_removal-subjects_after_removal))"
   ],
   "metadata": {
    "collapsed": false,
    "ExecuteTime": {
     "end_time": "2023-10-17T21:20:36.056102800Z",
     "start_time": "2023-10-17T21:20:36.045598100Z"
    }
   }
  },
  {
   "cell_type": "markdown",
   "source": [
    "### Uniform Set Experiment"
   ],
   "metadata": {
    "collapsed": false
   }
  },
  {
   "cell_type": "code",
   "execution_count": 21,
   "outputs": [
    {
     "name": "stdout",
     "output_type": "stream",
     "text": [
      "There are 51 tasks in total prior to exclusion\n",
      "There are 51 subjects in total prior to exclusion\n",
      "Removed 4 tasks\n",
      "Removed 4 subjects\n"
     ]
    }
   ],
   "source": [
    "#Uniform: remove subjects that selected \"didn't understand the study\"\n",
    "tasks_before_removal = study_uniform.groupby('subject').count().shape[0]\n",
    "subjects_before_removal = study_uniform.groupby('sona').count().shape[0]\n",
    "study_uniform = study_uniform[study_uniform['understood task']==True]\n",
    "tasks_after_removal = study_uniform.groupby('subject').count().shape[0]\n",
    "subjects_after_removal = study_uniform.groupby('sona').count().shape[0]\n",
    "print(\"There are {} tasks in total prior to exclusion\".format(tasks_before_removal))\n",
    "print(\"There are {} subjects in total prior to exclusion\".format(subjects_before_removal))\n",
    "print(\"Removed {} tasks\".format(tasks_before_removal-tasks_after_removal))\n",
    "print(\"Removed {} subjects\".format(subjects_before_removal-subjects_after_removal))"
   ],
   "metadata": {
    "collapsed": false,
    "ExecuteTime": {
     "end_time": "2023-10-17T21:20:37.492794400Z",
     "start_time": "2023-10-17T21:20:37.484711900Z"
    }
   }
  },
  {
   "cell_type": "markdown",
   "source": [
    "## Exclude sets with too few responses\n",
    "### Study I"
   ],
   "metadata": {
    "collapsed": false
   }
  },
  {
   "cell_type": "code",
   "execution_count": 22,
   "outputs": [],
   "source": [
    "min_responses = 15"
   ],
   "metadata": {
    "collapsed": false,
    "ExecuteTime": {
     "end_time": "2023-10-17T21:20:40.266831400Z",
     "start_time": "2023-10-17T21:20:40.263833800Z"
    }
   }
  },
  {
   "cell_type": "code",
   "execution_count": 23,
   "outputs": [
    {
     "name": "stdout",
     "output_type": "stream",
     "text": [
      "Removed 0 tasks\n",
      "Removed 0 subjects\n"
     ]
    }
   ],
   "source": [
    "#Study I: remove sets with fewer than 15 no-neither responses\n",
    "tasks_before_removal = studyI_GL.groupby('subject').count().shape[0]\n",
    "subjects_before_removal = studyI_GL.groupby('sona').count().shape[0]\n",
    "studyI_GL = studyI_GL[studyI_GL['# no_neither_trials']>=min_responses].reset_index()\n",
    "tasks_after_removal = studyI_GL.groupby('subject').count().shape[0]\n",
    "subjects_after_removal = studyI_GL.groupby('sona').count().shape[0]\n",
    "print(\"Removed {} tasks\".format(tasks_before_removal-tasks_after_removal))\n",
    "print(\"Removed {} subjects\".format(subjects_before_removal-subjects_after_removal))"
   ],
   "metadata": {
    "collapsed": false,
    "ExecuteTime": {
     "end_time": "2023-10-17T21:20:40.688745400Z",
     "start_time": "2023-10-17T21:20:40.680231100Z"
    }
   }
  },
  {
   "cell_type": "markdown",
   "source": [
    "### Study II"
   ],
   "metadata": {
    "collapsed": false
   }
  },
  {
   "cell_type": "code",
   "execution_count": 24,
   "outputs": [
    {
     "name": "stdout",
     "output_type": "stream",
     "text": [
      "There are 792 tasks in total prior to exclusion\n",
      "Removed 694 tasks\n",
      "There are 698 subjects in total prior to exclusion\n",
      "Removed 130 subjects\n"
     ]
    }
   ],
   "source": [
    "#Study II: remove sets with fewer than 15 no-neither responses\n",
    "tasks_before_removal = studyII_GL.groupby('subject').count().shape[0]\n",
    "subjects_before_removal = studyII_GL.groupby('sona').count().shape[0]\n",
    "studyII_GL = studyII_GL[studyII_GL['# no_neither_trials']>=min_responses].reset_index()\n",
    "print(\"There are {} tasks in total prior to exclusion\".format(tasks_before_removal))\n",
    "print(\"Removed {} tasks\".format(tasks_before_removal-tasks_after_removal))\n",
    "tasks_after_removal = studyII_GL.groupby('subject').count().shape[0]\n",
    "subjects_after_removal = studyII_GL.groupby('sona').count().shape[0]\n",
    "print(\"There are {} subjects in total prior to exclusion\".format(subjects_before_removal))\n",
    "print(\"Removed {} subjects\".format(subjects_before_removal-subjects_after_removal))"
   ],
   "metadata": {
    "collapsed": false,
    "ExecuteTime": {
     "end_time": "2023-10-17T21:20:42.000164900Z",
     "start_time": "2023-10-17T21:20:41.970799400Z"
    }
   }
  },
  {
   "cell_type": "markdown",
   "source": [
    "### Uniform Set Experiment"
   ],
   "metadata": {
    "collapsed": false
   }
  },
  {
   "cell_type": "code",
   "execution_count": 26,
   "outputs": [
    {
     "name": "stdout",
     "output_type": "stream",
     "text": [
      "There are 46 tasks in total prior to exclusion\n",
      "Removed 0 tasks\n",
      "There are 46 subjects in total prior to exclusion\n",
      "Removed 0 subjects\n"
     ]
    }
   ],
   "source": [
    "#Study Uniform Sets: remove sets with fewer than 15 no-neither responses\n",
    "tasks_before_removal = study_uniform.groupby('subject').count().shape[0]\n",
    "subjects_before_removal = study_uniform.groupby('sona').count().shape[0]\n",
    "study_uniform = study_uniform[study_uniform['# no_neither_trials']>=min_responses].reset_index()\n",
    "tasks_after_removal = study_uniform.groupby('subject').count().shape[0]\n",
    "print(\"There are {} tasks in total prior to exclusion\".format(tasks_before_removal))\n",
    "print(\"Removed {} tasks\".format(tasks_before_removal-tasks_after_removal))\n",
    "subjects_after_removal = study_uniform.groupby('sona').count().shape[0]\n",
    "print(\"There are {} subjects in total prior to exclusion\".format(subjects_before_removal))\n",
    "print(\"Removed {} subjects\".format(subjects_before_removal-subjects_after_removal))"
   ],
   "metadata": {
    "collapsed": false,
    "ExecuteTime": {
     "end_time": "2023-10-17T21:23:20.722821800Z",
     "start_time": "2023-10-17T21:23:20.704137Z"
    }
   }
  },
  {
   "cell_type": "code",
   "execution_count": 27,
   "outputs": [
    {
     "name": "stdout",
     "output_type": "stream",
     "text": [
      "Post exclusion counts:\n",
      "Study I: 98 subjects, 98 tasks\n",
      "Study II: 568 subjects, 630 tasks\n",
      "Likert: 147 subjects, 145 tasks\n",
      "Uniform: 46 subjects, 46 tasks\n"
     ]
    }
   ],
   "source": [
    "study1_subject_counts = studyI_GL.groupby('sona').count()\n",
    "study1_task_counts = studyI_GL.groupby('subject').count()\n",
    "study2_subject_counts = studyII_GL.groupby('sona').count()\n",
    "study2_task_counts = studyII_GL.groupby('subject').count()\n",
    "study_likert_subject_counts = study_likert.groupby('sona').count()\n",
    "study_likert_task_counts = study_likert.groupby('subject').count()\n",
    "study_uniform_subject_counts = study_uniform.groupby('sona').count()\n",
    "study_uniform_task_counts = study_uniform.groupby('subject').count()\n",
    "\n",
    "print(\"Post exclusion counts:\")\n",
    "print(\"Study I: {} subjects, {} tasks\".format(study1_subject_counts.shape[0], study1_task_counts.shape[0]))\n",
    "print(\"Study II: {} subjects, {} tasks\".format(study2_subject_counts.shape[0], study2_task_counts.shape[0]))\n",
    "print(\"Likert: {} subjects, {} tasks\".format(study_likert_subject_counts.shape[0], study_likert_task_counts.shape[0]))\n",
    "print(\"Uniform: {} subjects, {} tasks\".format(study_uniform_subject_counts.shape[0], study_uniform_task_counts.shape[0]))"
   ],
   "metadata": {
    "collapsed": false,
    "ExecuteTime": {
     "end_time": "2023-10-17T21:23:25.234038800Z",
     "start_time": "2023-10-17T21:23:25.212026800Z"
    }
   }
  },
  {
   "cell_type": "markdown",
   "source": [],
   "metadata": {
    "collapsed": false
   }
  },
  {
   "cell_type": "code",
   "execution_count": null,
   "outputs": [],
   "source": [],
   "metadata": {
    "collapsed": false
   }
  },
  {
   "cell_type": "markdown",
   "source": [
    "## Save data post-exlusion\n",
    "### Study I"
   ],
   "metadata": {
    "collapsed": false
   }
  },
  {
   "cell_type": "code",
   "execution_count": 56,
   "outputs": [],
   "source": [
    "# Save Study I post-exclusion\n",
    "studyI_GL.to_pickle(StudyI_paths.processed_dir + StudyI_paths.post_exclusion_data_pickle_filename)"
   ],
   "metadata": {
    "collapsed": false,
    "ExecuteTime": {
     "end_time": "2023-08-01T20:47:54.751006400Z",
     "start_time": "2023-08-01T20:47:54.746995600Z"
    }
   }
  },
  {
   "cell_type": "markdown",
   "source": [
    "### Study II"
   ],
   "metadata": {
    "collapsed": false
   }
  },
  {
   "cell_type": "code",
   "execution_count": 57,
   "outputs": [],
   "source": [
    "# Save Study II post-exclusion\n",
    "studyII_GL.to_pickle(StudyII_paths.processed_dir + StudyII_paths.post_exclusion_data_pickle_filename)"
   ],
   "metadata": {
    "collapsed": false,
    "ExecuteTime": {
     "end_time": "2023-08-01T20:47:55.567720Z",
     "start_time": "2023-08-01T20:47:55.561718100Z"
    }
   }
  },
  {
   "cell_type": "markdown",
   "source": [
    "### Likert Experiment"
   ],
   "metadata": {
    "collapsed": false
   }
  },
  {
   "cell_type": "code",
   "execution_count": 58,
   "outputs": [],
   "source": [
    "# Save Likert post-exclusion\n",
    "study_likert.to_pickle(Study_likert_paths.processed_dir + Study_likert_paths.post_exclusion_data_pickle_filename)"
   ],
   "metadata": {
    "collapsed": false,
    "ExecuteTime": {
     "end_time": "2023-08-01T20:47:56.740332100Z",
     "start_time": "2023-08-01T20:47:56.738323800Z"
    }
   }
  },
  {
   "cell_type": "code",
   "execution_count": null,
   "outputs": [],
   "source": [],
   "metadata": {
    "collapsed": false
   }
  },
  {
   "cell_type": "markdown",
   "source": [
    "### Uniform Sets Experiment\n"
   ],
   "metadata": {
    "collapsed": false
   }
  },
  {
   "cell_type": "code",
   "execution_count": 28,
   "outputs": [],
   "source": [
    "# Save Uniform post-exclusion\n",
    "study_uniform.to_pickle(Study_uniform_paths.processed_dir + Study_uniform_paths.post_exclusion_data_pickle_filename)"
   ],
   "metadata": {
    "collapsed": false,
    "ExecuteTime": {
     "end_time": "2023-10-17T21:24:04.172000400Z",
     "start_time": "2023-10-17T21:24:04.155457900Z"
    }
   }
  },
  {
   "cell_type": "code",
   "execution_count": null,
   "outputs": [],
   "source": [],
   "metadata": {
    "collapsed": false
   }
  }
 ],
 "metadata": {
  "kernelspec": {
   "display_name": "Python 3",
   "language": "python",
   "name": "python3"
  },
  "language_info": {
   "codemirror_mode": {
    "name": "ipython",
    "version": 2
   },
   "file_extension": ".py",
   "mimetype": "text/x-python",
   "name": "python",
   "nbconvert_exporter": "python",
   "pygments_lexer": "ipython2",
   "version": "2.7.6"
  }
 },
 "nbformat": 4,
 "nbformat_minor": 0
}
