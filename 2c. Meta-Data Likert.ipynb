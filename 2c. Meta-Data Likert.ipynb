{
 "cells": [
  {
   "cell_type": "markdown",
   "source": [
    "# Meta-Data - Likert Experiment\n",
    "## Imports"
   ],
   "metadata": {
    "collapsed": false
   }
  },
  {
   "cell_type": "code",
   "execution_count": 1,
   "metadata": {
    "collapsed": true,
    "ExecuteTime": {
     "end_time": "2023-08-08T15:33:22.778979800Z",
     "start_time": "2023-08-08T15:33:22.762980200Z"
    }
   },
   "outputs": [],
   "source": [
    "# Load Dependencies\n",
    "import seaborn as sns\n",
    "import Study_Likert.paths as Likert_paths\n",
    "import pandas as pd\n",
    "import matplotlib.pyplot as plt"
   ]
  },
  {
   "cell_type": "code",
   "execution_count": 2,
   "outputs": [],
   "source": [
    "# Load Data\n",
    "likert_GL = pd.read_pickle(Likert_paths.processed_dir + Likert_paths.post_exclusion_data_pickle_filename) # Likert: Post-exclusion group-level data"
   ],
   "metadata": {
    "collapsed": false,
    "ExecuteTime": {
     "end_time": "2023-08-08T15:33:23.798283100Z",
     "start_time": "2023-08-08T15:33:23.792283500Z"
    }
   }
  },
  {
   "cell_type": "markdown",
   "source": [
    "## Demographics\n"
   ],
   "metadata": {
    "collapsed": false
   }
  },
  {
   "cell_type": "code",
   "execution_count": 3,
   "outputs": [
    {
     "name": "stdout",
     "output_type": "stream",
     "text": [
      "   sona subject_gender\n",
      "0    93         Female\n",
      "1    52           Male\n"
     ]
    },
    {
     "data": {
      "text/plain": "<Figure size 500x500 with 1 Axes>",
      "image/png": "[encoded data removed]"
     },
     "metadata": {},
     "output_type": "display_data"
    }
   ],
   "source": [
    "temp = likert_GL\n",
    "\n",
    "# Only keep the most recent 'subject'\n",
    "temp = temp.drop_duplicates(subset=['subject'], keep='last')\n",
    "temp = temp.drop_duplicates(subset=['sona'], keep='last')\n",
    "\n",
    "# group total subjects by length\n",
    "temp = temp.groupby(['subject_gender']).count().reset_index()\n",
    "# plot\n",
    "sns.catplot(y=\"sona\", x=\"subject_gender\", kind=\"bar\", data=temp)\n",
    "\n",
    "# Print number of subjects\n",
    "print(temp[['sona','subject_gender']])"
   ],
   "metadata": {
    "collapsed": false,
    "ExecuteTime": {
     "end_time": "2023-08-08T15:33:32.278325900Z",
     "start_time": "2023-08-08T15:33:32.165875100Z"
    }
   }
  },
  {
   "cell_type": "code",
   "execution_count": 4,
   "outputs": [
    {
     "name": "stdout",
     "output_type": "stream",
     "text": [
      "Average age and range of ages for each melody length:\n",
      "  index  subject_age\n",
      "0  mean    19.496552\n",
      "1   min    18.000000\n",
      "2   max    27.000000\n"
     ]
    }
   ],
   "source": [
    "temp = likert_GL\n",
    "# Only keep the most recent 'subject'\n",
    "temp = temp.drop_duplicates(subset=['subject'], keep='last')\n",
    "temp = temp.drop_duplicates(subset=['sona'], keep='last')\n",
    "\n",
    "# Get average age and range of ages for each melody length\n",
    "temp = temp.agg({'subject_age': ['mean', 'min', 'max']}).reset_index()\n",
    "print(\"Average age and range of ages for each melody length:\")\n",
    "print(temp)\n",
    "\n"
   ],
   "metadata": {
    "collapsed": false,
    "ExecuteTime": {
     "end_time": "2023-08-08T15:34:41.797664600Z",
     "start_time": "2023-08-08T15:34:41.779664400Z"
    }
   }
  },
  {
   "cell_type": "code",
   "execution_count": null,
   "outputs": [],
   "source": [],
   "metadata": {
    "collapsed": false
   }
  }
 ],
 "metadata": {
  "kernelspec": {
   "display_name": "Python 3",
   "language": "python",
   "name": "python3"
  },
  "language_info": {
   "codemirror_mode": {
    "name": "ipython",
    "version": 2
   },
   "file_extension": ".py",
   "mimetype": "text/x-python",
   "name": "python",
   "nbconvert_exporter": "python",
   "pygments_lexer": "ipython2",
   "version": "2.7.6"
  }
 },
 "nbformat": 4,
 "nbformat_minor": 0
}
