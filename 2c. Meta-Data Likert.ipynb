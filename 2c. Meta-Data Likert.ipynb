{
 "cells": [
  {
   "cell_type": "markdown",
   "source": [
    "# Meta-Data - Likert Experiment\n",
    "## Imports"
   ],
   "metadata": {
    "collapsed": false
   }
  },
  {
   "cell_type": "code",
   "execution_count": 17,
   "metadata": {
    "collapsed": true,
    "ExecuteTime": {
     "end_time": "2024-02-01T17:11:26.952638400Z",
     "start_time": "2024-02-01T17:11:26.949639700Z"
    }
   },
   "outputs": [],
   "source": [
    "# Load Dependencies\n",
    "import seaborn as sns\n",
    "import Study_Likert.paths as Likert_paths\n",
    "import pandas as pd\n",
    "import matplotlib.pyplot as plt"
   ]
  },
  {
   "cell_type": "code",
   "execution_count": 18,
   "outputs": [],
   "source": [
    "# Load Data\n",
    "likert_GL = pd.read_pickle(Likert_paths.processed_dir + Likert_paths.post_exclusion_data_pickle_filename) # Likert: Post-exclusion group-level data"
   ],
   "metadata": {
    "collapsed": false,
    "ExecuteTime": {
     "end_time": "2024-02-01T17:11:27.238772Z",
     "start_time": "2024-02-01T17:11:27.232756700Z"
    }
   }
  },
  {
   "cell_type": "markdown",
   "source": [
    "## Demographics\n"
   ],
   "metadata": {
    "collapsed": false
   }
  },
  {
   "cell_type": "code",
   "execution_count": 19,
   "outputs": [
    {
     "name": "stdout",
     "output_type": "stream",
     "text": [
      "   sona subject_gender\n",
      "0    95         Female\n",
      "1    52           Male\n"
     ]
    },
    {
     "name": "stderr",
     "output_type": "stream",
     "text": [
      "D:\\Users\\selte\\anaconda3\\envs\\Scale_Studies\\lib\\site-packages\\seaborn\\axisgrid.py:118: UserWarning: The figure layout has changed to tight\n",
      "  self._figure.tight_layout(*args, **kwargs)\n"
     ]
    },
    {
     "data": {
      "text/plain": "<Figure size 500x500 with 1 Axes>",
      "image/png": "[encoded data removed]"
     },
     "metadata": {},
     "output_type": "display_data"
    }
   ],
   "source": [
    "temp = likert_GL\n",
    "\n",
    "# Only keep the most recent 'subject'\n",
    "temp = temp.drop_duplicates(subset=['subject','sona'], keep='last')\n",
    "\n",
    "# group total subjects by length\n",
    "temp = temp.groupby(['subject_gender']).count().reset_index()\n",
    "# plot\n",
    "sns.catplot(y=\"sona\", x=\"subject_gender\", kind=\"bar\", data=temp)\n",
    "\n",
    "# Print number of subjects\n",
    "print(temp[['sona','subject_gender']])"
   ],
   "metadata": {
    "collapsed": false,
    "ExecuteTime": {
     "end_time": "2024-02-01T17:11:28.480575500Z",
     "start_time": "2024-02-01T17:11:28.358746300Z"
    }
   }
  },
  {
   "cell_type": "code",
   "execution_count": 20,
   "outputs": [
    {
     "name": "stdout",
     "output_type": "stream",
     "text": [
      "Average age and range of ages for each melody length:\n",
      "  index  subject_age\n",
      "0  mean    19.489796\n",
      "1   min    18.000000\n",
      "2   max    27.000000\n"
     ]
    }
   ],
   "source": [
    "temp = likert_GL\n",
    "# Only keep the most recent 'subject'\n",
    "temp = temp.drop_duplicates(subset=['subject','sona'], keep='last')\n",
    "\n",
    "# Get average age and range of ages for each melody length\n",
    "temp = temp.agg({'subject_age': ['mean', 'min', 'max']}).reset_index()\n",
    "print(\"Average age and range of ages for each melody length:\")\n",
    "print(temp)\n",
    "\n"
   ],
   "metadata": {
    "collapsed": false,
    "ExecuteTime": {
     "end_time": "2024-02-01T17:11:41.728402900Z",
     "start_time": "2024-02-01T17:11:41.721392300Z"
    }
   }
  },
  {
   "cell_type": "code",
   "execution_count": null,
   "outputs": [],
   "source": [],
   "metadata": {
    "collapsed": false
   }
  }
 ],
 "metadata": {
  "kernelspec": {
   "display_name": "Python 3",
   "language": "python",
   "name": "python3"
  },
  "language_info": {
   "codemirror_mode": {
    "name": "ipython",
    "version": 2
   },
   "file_extension": ".py",
   "mimetype": "text/x-python",
   "name": "python",
   "nbconvert_exporter": "python",
   "pygments_lexer": "ipython2",
   "version": "2.7.6"
  }
 },
 "nbformat": 4,
 "nbformat_minor": 0
}
