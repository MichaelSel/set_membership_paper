{
 "cells": [
  {
   "cell_type": "markdown",
   "source": [
    "# Pre-processes the behavioral data for analysis"
   ],
   "metadata": {
    "collapsed": false
   }
  },
  {
   "cell_type": "markdown",
   "source": [
    "Imports"
   ],
   "metadata": {
    "collapsed": false
   }
  },
  {
   "cell_type": "code",
   "source": [
    "from IPython.utils.py3compat import execfile"
   ],
   "metadata": {
    "collapsed": false,
    "ExecuteTime": {
     "end_time": "2024-12-13T21:36:50.260608Z",
     "start_time": "2024-12-13T21:36:50.257607Z"
    }
   },
   "outputs": [],
   "execution_count": 1
  },
  {
   "cell_type": "markdown",
   "source": [
    "## Study 1 - Preprocessing"
   ],
   "metadata": {
    "collapsed": false
   }
  },
  {
   "cell_type": "markdown",
   "source": [],
   "metadata": {
    "collapsed": false
   }
  },
  {
   "cell_type": "code",
   "metadata": {
    "collapsed": true,
    "ExecuteTime": {
     "end_time": "2024-12-13T21:37:00.064841Z",
     "start_time": "2024-12-13T21:36:52.091634Z"
    }
   },
   "source": [
    "%run \"StudyI_Pentatonic_vs_Chromatic/Scripts/a_Preprocessing/c_Preprocess_Raw.py\""
   ],
   "outputs": [
    {
     "name": "stdout",
     "output_type": "stream",
     "text": [
      "Processing: S1C0804\n",
      "Processing: S1C0805\n",
      "Processing: S1C0806\n",
      "Processing: S1C0807\n",
      "Processing: S1C0808\n",
      "Processing: S1C0809\n",
      "Processing: S1C0810\n",
      "Processing: S1C0811\n",
      "Processing: S1C0812\n",
      "Processing: S1C0813\n",
      "Processing: S1C0814\n",
      "Processing: S1C0816\n",
      "Processing: S1C0817\n",
      "Processing: S1C0819\n",
      "Processing: S1C0820\n",
      "Processing: S1C0822\n",
      "Processing: S1C0823\n",
      "Processing: S1C0824\n",
      "Processing: S1C0825\n",
      "Processing: S1C0826\n",
      "Processing: S1C0827\n",
      "Processing: S1C0828\n",
      "Processing: S1C0829\n",
      "Processing: S1C0830\n",
      "Processing: S1C0831\n",
      "Processing: S1C0835\n",
      "Processing: S1C0836\n",
      "Processing: S1C0837\n",
      "Processing: S1C0838\n",
      "Processing: S1C0839\n",
      "Processing: S1C1201\n",
      "Processing: S1C1202\n",
      "Processing: S1C1204\n",
      "Processing: S1C1205\n",
      "Processing: S1C1206\n",
      "Processing: S1C1207\n",
      "Processing: S1C1208\n",
      "Processing: S1C1209\n",
      "Processing: S1C1210\n",
      "Processing: S1C1211\n",
      "Processing: S1C1212\n",
      "Processing: S1C1213\n",
      "Processing: S1C1214\n",
      "Processing: S1C1216\n",
      "Processing: S1C1217\n",
      "Processing: S1C1218\n",
      "Processing: S1C1219\n",
      "Processing: S1C1220\n",
      "Processing: S1C1221\n",
      "Processing: S1C1222\n",
      "Processing: S1C1225\n",
      "Processing: S1C1226\n",
      "Processing: S1C1228\n",
      "Processing: S1C1230\n",
      "Processing: S1C1234\n",
      "Processing: S1C1236\n",
      "Processing: S1C1238\n",
      "Processing: S1C1239\n",
      "Processing: S1C1251\n",
      "Processing: S1C1254\n",
      "Processing: S1C1600\n",
      "Processing: S1C1601\n",
      "Processing: S1C1602\n",
      "Processing: S1C1604\n",
      "Processing: S1C1605\n",
      "Processing: S1C1608\n",
      "Processing: S1C1609\n",
      "Processing: S1C1610\n",
      "Processing: S1C1611\n",
      "Processing: S1C1612\n",
      "Processing: S1C1613\n",
      "Processing: S1C1614\n",
      "Processing: S1C1616\n",
      "Processing: S1C1617\n",
      "Processing: S1C1619\n",
      "Processing: S1C1622\n",
      "Processing: S1C1623\n",
      "Processing: S1C1624\n",
      "Processing: S1C1627\n",
      "Processing: S1C1628\n",
      "Processing: S1C1629\n",
      "Processing: S1C1632\n",
      "Processing: S1C1634\n",
      "Processing: S1C1635\n",
      "Processing: S1C1638\n",
      "Processing: S1C1651\n",
      "Processing: S1C1654\n",
      "Processing: S1C1655\n",
      "Processing: S1C1656\n",
      "Processing: S1C1657\n",
      "Processing: S1C1658\n",
      "Processing: S1C1659\n",
      "Processing: S1C1660\n",
      "Processing: S1C1663\n",
      "Processing: S1C1664\n",
      "Processing: S1C1669\n",
      "Processing: S1C1670\n",
      "Processing: S1C1673\n",
      "Processing: S1C1674\n",
      "Processing: S1C1675\n",
      "Processing: S1C1676\n",
      "Processing: S1C1677\n",
      "Data saved to D:\\Users\\selte\\Documents\\PycharmProjects\\Membership_Set_Paper\\StudyI_Pentatonic_vs_Chromatic/Data/Experimental/Processed/single_trial_results.pickle\n",
      "Preprocessing complete.\n"
     ]
    }
   ],
   "execution_count": 2
  },
  {
   "cell_type": "markdown",
   "source": [
    "### Consolidating individual responses into a group-level representation"
   ],
   "metadata": {
    "collapsed": false
   }
  },
  {
   "cell_type": "code",
   "source": [
    "%run \"StudyI_Pentatonic_vs_Chromatic/Scripts/b_Analysis/Group_Level_Set.py\""
   ],
   "metadata": {
    "collapsed": false,
    "ExecuteTime": {
     "end_time": "2024-12-13T21:37:01.250769Z",
     "start_time": "2024-12-13T21:37:01.070695Z"
    }
   },
   "outputs": [
    {
     "name": "stderr",
     "output_type": "stream",
     "text": [
      "D:\\Users\\selte\\Documents\\PycharmProjects\\Membership_Set_Paper\\Shared_Scripts\\Group_Level_Set.py:74: SettingWithCopyWarning: \n",
      "A value is trying to be set on a copy of a slice from a DataFrame.\n",
      "Try using .loc[row_indexer,col_indexer] = value instead\n",
      "\n",
      "See the caveats in the documentation: https://pandas.pydata.org/pandas-docs/stable/user_guide/indexing.html#returning-a-view-versus-a-copy\n",
      "  choices['response'] = choices['response'].str.replace('1st','A')\n",
      "D:\\Users\\selte\\Documents\\PycharmProjects\\Membership_Set_Paper\\Shared_Scripts\\Group_Level_Set.py:75: SettingWithCopyWarning: \n",
      "A value is trying to be set on a copy of a slice from a DataFrame.\n",
      "Try using .loc[row_indexer,col_indexer] = value instead\n",
      "\n",
      "See the caveats in the documentation: https://pandas.pydata.org/pandas-docs/stable/user_guide/indexing.html#returning-a-view-versus-a-copy\n",
      "  choices['response'] = choices['response'].str.replace('2nd','B')\n"
     ]
    }
   ],
   "execution_count": 3
  },
  {
   "cell_type": "markdown",
   "source": [],
   "metadata": {
    "collapsed": false
   }
  },
  {
   "cell_type": "markdown",
   "source": [
    "## Study 2 - Preprocessing"
   ],
   "metadata": {
    "collapsed": false
   }
  },
  {
   "cell_type": "markdown",
   "source": [
    "### Processing the pre-downloaded subject data files"
   ],
   "metadata": {
    "collapsed": false
   }
  },
  {
   "cell_type": "code",
   "source": [
    "%run \"StudyII_All_5_note_Sets/Scripts/a_Preprocessing/c_Preprocess_Raw.py\""
   ],
   "metadata": {
    "collapsed": false,
    "ExecuteTime": {
     "end_time": "2024-12-13T21:37:07.265179Z",
     "start_time": "2024-12-13T21:37:06.686352Z"
    }
   },
   "outputs": [
    {
     "name": "stdout",
     "output_type": "stream",
     "text": [
      "Processing: SSS0002\n",
      "Processing: SSS0003\n"
     ]
    },
    {
     "ename": "KeyError",
     "evalue": "'transposition'",
     "output_type": "error",
     "traceback": [
      "\u001B[1;31m---------------------------------------------------------------------------\u001B[0m",
      "\u001B[1;31mKeyError\u001B[0m                                  Traceback (most recent call last)",
      "File \u001B[1;32mD:\\Users\\selte\\Documents\\PycharmProjects\\Membership_Set_Paper\\StudyII_All_5_note_Sets\\Scripts\\a_Preprocessing\\c_Preprocess_Raw.py:10\u001B[0m\n\u001B[0;32m      7\u001B[0m \u001B[38;5;28;01mfrom\u001B[39;00m \u001B[38;5;21;01mShared_Scripts\u001B[39;00m\u001B[38;5;21;01m.\u001B[39;00m\u001B[38;5;21;01mPreprocess_Raw\u001B[39;00m \u001B[38;5;28;01mimport\u001B[39;00m preprocess_raw\n\u001B[0;32m      8\u001B[0m \u001B[38;5;28;01mfrom\u001B[39;00m \u001B[38;5;21;01mShared_Scripts\u001B[39;00m\u001B[38;5;21;01m.\u001B[39;00m\u001B[38;5;21;01mkey_finder\u001B[39;00m \u001B[38;5;28;01mimport\u001B[39;00m get_key_r\n\u001B[1;32m---> 10\u001B[0m \u001B[43mpreprocess_raw\u001B[49m\u001B[43m(\u001B[49m\u001B[43mSUBJECT_PATTERN\u001B[49m\u001B[43m,\u001B[49m\u001B[43m \u001B[49m\u001B[43mraw_data_dir\u001B[49m\u001B[43m,\u001B[49m\u001B[43m \u001B[49m\u001B[43mqualtrics_processed_path\u001B[49m\u001B[43m,\u001B[49m\u001B[43m \u001B[49m\u001B[43mprocessed_dir\u001B[49m\u001B[43m,\u001B[49m\u001B[43m \u001B[49m\u001B[43mprocessed_data_pickle_filename\u001B[49m\u001B[43m,\u001B[49m\n\u001B[0;32m     11\u001B[0m \u001B[43m               \u001B[49m\u001B[43mprocessed_data_csv_filename\u001B[49m\u001B[43m)\u001B[49m\n\u001B[0;32m     13\u001B[0m \u001B[38;5;28;01mdef\u001B[39;00m \u001B[38;5;21mcountInterval\u001B[39m(entry, size):\n\u001B[0;32m     14\u001B[0m     entry_as_list \u001B[38;5;241m=\u001B[39m [\u001B[38;5;28mint\u001B[39m(el) \u001B[38;5;28;01mfor\u001B[39;00m el \u001B[38;5;129;01min\u001B[39;00m entry\u001B[38;5;241m.\u001B[39msplit(\u001B[38;5;124m\"\u001B[39m\u001B[38;5;124m \u001B[39m\u001B[38;5;124m\"\u001B[39m)]\n",
      "File \u001B[1;32mD:\\Users\\selte\\Documents\\PycharmProjects\\Membership_Set_Paper\\Shared_Scripts\\Preprocess_Raw.py:49\u001B[0m, in \u001B[0;36mpreprocess_raw\u001B[1;34m(subject_pattern, raw_data_dir, qualtrics_processed_path, processed_dir, processed_data_pickle_filename, processed_data_csv_filename)\u001B[0m\n\u001B[0;32m     45\u001B[0m         \u001B[38;5;28;01mcontinue\u001B[39;00m\n\u001B[0;32m     48\u001B[0m \u001B[38;5;66;03m# The transposition of the trial\u001B[39;00m\n\u001B[1;32m---> 49\u001B[0m transposition \u001B[38;5;241m=\u001B[39m \u001B[43mresponse\u001B[49m\u001B[43m[\u001B[49m\u001B[38;5;124;43m'\u001B[39;49m\u001B[38;5;124;43mtransposition\u001B[39;49m\u001B[38;5;124;43m'\u001B[39;49m\u001B[43m]\u001B[49m\n\u001B[0;32m     51\u001B[0m \u001B[38;5;66;03m# Extracts the set from the probe\u001B[39;00m\n\u001B[0;32m     52\u001B[0m probe \u001B[38;5;241m=\u001B[39m response[\u001B[38;5;124m'\u001B[39m\u001B[38;5;124mprobe_pitches\u001B[39m\u001B[38;5;124m'\u001B[39m]\n",
      "\u001B[1;31mKeyError\u001B[0m: 'transposition'"
     ]
    }
   ],
   "execution_count": 4
  },
  {
   "cell_type": "markdown",
   "source": [
    "### Consolidating individual responses into a group-level representation"
   ],
   "metadata": {
    "collapsed": false
   }
  },
  {
   "cell_type": "code",
   "source": [
    "%run \"StudyII_All_5_note_Sets/Scripts/b_Analysis/Group_Level_Set.py\""
   ],
   "metadata": {
    "collapsed": false,
    "ExecuteTime": {
     "end_time": "2024-12-13T21:37:16.359044Z",
     "start_time": "2024-12-13T21:37:13.765982Z"
    }
   },
   "outputs": [
    {
     "name": "stderr",
     "output_type": "stream",
     "text": [
      "D:\\Users\\selte\\Documents\\PycharmProjects\\Membership_Set_Paper\\Shared_Scripts\\Group_Level_Set.py:74: SettingWithCopyWarning: \n",
      "A value is trying to be set on a copy of a slice from a DataFrame.\n",
      "Try using .loc[row_indexer,col_indexer] = value instead\n",
      "\n",
      "See the caveats in the documentation: https://pandas.pydata.org/pandas-docs/stable/user_guide/indexing.html#returning-a-view-versus-a-copy\n",
      "  choices['response'] = choices['response'].str.replace('1st','A')\n",
      "D:\\Users\\selte\\Documents\\PycharmProjects\\Membership_Set_Paper\\Shared_Scripts\\Group_Level_Set.py:75: SettingWithCopyWarning: \n",
      "A value is trying to be set on a copy of a slice from a DataFrame.\n",
      "Try using .loc[row_indexer,col_indexer] = value instead\n",
      "\n",
      "See the caveats in the documentation: https://pandas.pydata.org/pandas-docs/stable/user_guide/indexing.html#returning-a-view-versus-a-copy\n",
      "  choices['response'] = choices['response'].str.replace('2nd','B')\n",
      "D:\\Users\\selte\\Documents\\PycharmProjects\\Membership_Set_Paper\\Shared_Scripts\\Group_Level_Set.py:74: SettingWithCopyWarning: \n",
      "A value is trying to be set on a copy of a slice from a DataFrame.\n",
      "Try using .loc[row_indexer,col_indexer] = value instead\n",
      "\n",
      "See the caveats in the documentation: https://pandas.pydata.org/pandas-docs/stable/user_guide/indexing.html#returning-a-view-versus-a-copy\n",
      "  choices['response'] = choices['response'].str.replace('1st','A')\n",
      "D:\\Users\\selte\\Documents\\PycharmProjects\\Membership_Set_Paper\\Shared_Scripts\\Group_Level_Set.py:75: SettingWithCopyWarning: \n",
      "A value is trying to be set on a copy of a slice from a DataFrame.\n",
      "Try using .loc[row_indexer,col_indexer] = value instead\n",
      "\n",
      "See the caveats in the documentation: https://pandas.pydata.org/pandas-docs/stable/user_guide/indexing.html#returning-a-view-versus-a-copy\n",
      "  choices['response'] = choices['response'].str.replace('2nd','B')\n"
     ]
    }
   ],
   "execution_count": 5
  },
  {
   "cell_type": "markdown",
   "source": [
    "## Study 2b (Likert) - Preprocessing\n",
    "### Processing the pre-downloaded subject data files"
   ],
   "metadata": {
    "collapsed": false
   }
  },
  {
   "cell_type": "code",
   "source": [
    "%run \"Study_Likert/Scripts/a_Preprocessing/c_Preprocess_Raw.py\""
   ],
   "metadata": {
    "collapsed": false,
    "ExecuteTime": {
     "end_time": "2024-12-13T21:37:24.023395Z",
     "start_time": "2024-12-13T21:37:19.608058Z"
    }
   },
   "outputs": [
    {
     "name": "stdout",
     "output_type": "stream",
     "text": [
      "Processing: SSSQ0003\n",
      "Processing: SSSQ0004\n",
      "Processing: SSSQ0005\n",
      "Processing: SSSQ0006\n",
      "Processing: SSSQ0007\n",
      "Processing: SSSQ0008\n",
      "Processing: SSSQ0009\n",
      "Processing: SSSQ0010\n",
      "Processing: SSSQ0012\n",
      "Processing: SSSQ0013\n",
      "Processing: SSSQ0014\n",
      "Processing: SSSQ0015\n",
      "Processing: SSSQ0016\n",
      "Processing: SSSQ0020\n",
      "Processing: SSSQ0021\n",
      "Processing: SSSQ0022\n",
      "Processing: SSSQ0023\n",
      "Processing: SSSQ0025\n",
      "Processing: SSSQ0026\n",
      "Processing: SSSQ0028\n",
      "Processing: SSSQ0050\n",
      "Processing: SSSQ0056\n",
      "Processing: SSSQ0057\n",
      "Processing: SSSQ0060\n",
      "Processing: SSSQ0061\n",
      "Processing: SSSQ0062\n",
      "Processing: SSSQ0064\n",
      "Processing: SSSQ0067\n",
      "Processing: SSSQ0068\n",
      "Processing: SSSQ0069\n",
      "Processing: SSSQ0070\n",
      "Processing: SSSQ0071\n",
      "Processing: SSSQ0072\n",
      "Processing: SSSQ0076\n",
      "Processing: SSSQ0077\n",
      "Processing: SSSQ0082\n",
      "Processing: SSSQ0083\n",
      "Processing: SSSQ0084\n",
      "Processing: SSSQ0088\n",
      "Processing: SSSQ0089\n",
      "Processing: SSSQ0090\n",
      "Processing: SSSQ0091\n",
      "Processing: SSSQ0092\n",
      "Processing: SSSQ0094\n",
      "Processing: SSSQ0095\n",
      "Processing: SSSQ0101\n",
      "Processing: SSSQ0102\n",
      "Processing: SSSQ0103\n",
      "Processing: SSSQ0104\n",
      "Processing: SSSQ0105\n",
      "Processing: SSSQ0106\n",
      "Processing: SSSQ0107\n",
      "Processing: SSSQ0108\n",
      "Processing: SSSQ0109\n",
      "Processing: SSSQ0110\n",
      "Processing: SSSQ0111\n",
      "Processing: SSSQ0112\n",
      "Processing: SSSQ0113\n",
      "Processing: SSSQ0114\n",
      "Processing: SSSQ0116\n",
      "Processing: SSSQ0117\n",
      "Processing: SSSQ0118\n",
      "Processing: SSSQ0120\n",
      "Processing: SSSQ0122\n",
      "Processing: SSSQ0123\n",
      "Processing: SSSQ0124\n",
      "Processing: SSSQ0134\n",
      "Processing: SSSQ0136\n",
      "Processing: SSSQ0138\n",
      "Processing: SSSQ0139\n",
      "Processing: SSSQ0142\n",
      "Processing: SSSQ0143\n",
      "Processing: SSSQ0151\n",
      "Processing: SSSQ0152\n",
      "Processing: SSSQ0153\n",
      "Processing: SSSQ0156\n",
      "Processing: SSSQ0159\n",
      "Processing: SSSQ0163\n",
      "Processing: SSSQ0165\n",
      "Processing: SSSQ0172\n",
      "Processing: SSSQ0173\n",
      "Processing: SSSQ0178\n",
      "Processing: SSSQ0180\n",
      "Processing: SSSQ0182\n",
      "Processing: SSSQ0183\n",
      "Processing: SSSQ0184\n",
      "Processing: SSSQ0185\n",
      "Processing: SSSQ0186\n",
      "Processing: SSSQ0188\n",
      "Processing: SSSQ0189\n",
      "Processing: SSSQ0190\n",
      "Processing: SSSQ0191\n",
      "Processing: SSSQ0192\n",
      "Processing: SSSQ0193\n",
      "Processing: SSSQ0194\n",
      "Processing: SSSQ0195\n",
      "Processing: SSSQ0196\n",
      "Processing: SSSQ0197\n",
      "Processing: SSSQ0203\n",
      "Processing: SSSQ0204\n",
      "Processing: SSSQ0205\n",
      "Processing: SSSQ0207\n",
      "Processing: SSSQ0208\n",
      "Processing: SSSQ0209\n",
      "Processing: SSSQ0210\n",
      "Processing: SSSQ0212\n",
      "Processing: SSSQ0213\n",
      "Processing: SSSQ0214\n",
      "Processing: SSSQ0215\n",
      "Processing: SSSQ0216\n",
      "Processing: SSSQ0217\n",
      "Processing: SSSQ0219\n",
      "Processing: SSSQ0220\n",
      "Processing: SSSQ0222\n",
      "Processing: SSSQ0225\n",
      "Processing: SSSQ0226\n",
      "Processing: SSSQ0227\n",
      "Processing: SSSQ0228\n",
      "Processing: SSSQ0229\n",
      "Processing: SSSQ0231\n",
      "Processing: SSSQ0232\n",
      "Processing: SSSQ0233\n",
      "Processing: SSSQ0234\n",
      "Processing: SSSQ0236\n",
      "Processing: SSSQ0237\n",
      "Processing: SSSQ0238\n",
      "Processing: SSSQ0239\n",
      "Processing: SSSQ0242\n",
      "Processing: SSSQ0243\n",
      "Processing: SSSQ0245\n",
      "Processing: SSSQ0247\n",
      "Processing: SSSQ0248\n",
      "Processing: SSSQ0249\n",
      "Processing: SSSQ0250\n",
      "Processing: SSSQ0252\n",
      "Processing: SSSQ0256\n",
      "Processing: SSSQ0257\n",
      "Processing: SSSQ0260\n",
      "Processing: SSSQ0262\n",
      "Processing: SSSQ0266\n",
      "Processing: SSSQ0270\n",
      "Processing: SSSQ0272\n",
      "Processing: SSSQ0274\n",
      "Processing: SSSQ0275\n",
      "Processing: SSSQ0276\n",
      "Processing: SSSQ0278\n",
      "Processing: SSSQ0280\n",
      "Processing: SSSQ0281\n",
      "Processing: SSSQ0283\n",
      "Processing: SSSQ0286\n",
      "Processing: SSSQ0289\n",
      "Processing: SSSQ0294\n",
      "Processing: SSSQ0295\n",
      "Processing: SSSQ0296\n",
      "Processing: SSSQ0298\n",
      "Data saved to D:\\Users\\selte\\Documents\\PycharmProjects\\Membership_Set_Paper\\Study_Likert/Data/Experimental/Processed/single_trial_results.pickle\n"
     ]
    }
   ],
   "execution_count": 6
  },
  {
   "cell_type": "markdown",
   "source": [
    "### Consolidating individual responses into a group and set level representation"
   ],
   "metadata": {
    "collapsed": false
   }
  },
  {
   "cell_type": "code",
   "source": [
    "%run \"Study_Likert/Scripts/b_Analysis/Group_Level_Set.py\""
   ],
   "metadata": {
    "collapsed": false,
    "ExecuteTime": {
     "end_time": "2024-12-13T21:37:28.926635Z",
     "start_time": "2024-12-13T21:37:26.766955Z"
    }
   },
   "outputs": [
    {
     "ename": "TypeError",
     "evalue": "could not convert string to float: 'likert'",
     "output_type": "error",
     "traceback": [
      "\u001B[1;31m---------------------------------------------------------------------------\u001B[0m",
      "\u001B[1;31mNotImplementedError\u001B[0m                       Traceback (most recent call last)",
      "File \u001B[1;32mD:\\Users\\selte\\anaconda3\\envs\\Scale_Studies\\lib\\site-packages\\pandas\\core\\groupby\\groupby.py:1490\u001B[0m, in \u001B[0;36mGroupBy._cython_agg_general.<locals>.array_func\u001B[1;34m(values)\u001B[0m\n\u001B[0;32m   1489\u001B[0m \u001B[38;5;28;01mtry\u001B[39;00m:\n\u001B[1;32m-> 1490\u001B[0m     result \u001B[38;5;241m=\u001B[39m \u001B[38;5;28;43mself\u001B[39;49m\u001B[38;5;241;43m.\u001B[39;49m\u001B[43mgrouper\u001B[49m\u001B[38;5;241;43m.\u001B[39;49m\u001B[43m_cython_operation\u001B[49m\u001B[43m(\u001B[49m\n\u001B[0;32m   1491\u001B[0m \u001B[43m        \u001B[49m\u001B[38;5;124;43m\"\u001B[39;49m\u001B[38;5;124;43maggregate\u001B[39;49m\u001B[38;5;124;43m\"\u001B[39;49m\u001B[43m,\u001B[49m\n\u001B[0;32m   1492\u001B[0m \u001B[43m        \u001B[49m\u001B[43mvalues\u001B[49m\u001B[43m,\u001B[49m\n\u001B[0;32m   1493\u001B[0m \u001B[43m        \u001B[49m\u001B[43mhow\u001B[49m\u001B[43m,\u001B[49m\n\u001B[0;32m   1494\u001B[0m \u001B[43m        \u001B[49m\u001B[43maxis\u001B[49m\u001B[38;5;241;43m=\u001B[39;49m\u001B[43mdata\u001B[49m\u001B[38;5;241;43m.\u001B[39;49m\u001B[43mndim\u001B[49m\u001B[43m \u001B[49m\u001B[38;5;241;43m-\u001B[39;49m\u001B[43m \u001B[49m\u001B[38;5;241;43m1\u001B[39;49m\u001B[43m,\u001B[49m\n\u001B[0;32m   1495\u001B[0m \u001B[43m        \u001B[49m\u001B[43mmin_count\u001B[49m\u001B[38;5;241;43m=\u001B[39;49m\u001B[43mmin_count\u001B[49m\u001B[43m,\u001B[49m\n\u001B[0;32m   1496\u001B[0m \u001B[43m        \u001B[49m\u001B[38;5;241;43m*\u001B[39;49m\u001B[38;5;241;43m*\u001B[39;49m\u001B[43mkwargs\u001B[49m\u001B[43m,\u001B[49m\n\u001B[0;32m   1497\u001B[0m \u001B[43m    \u001B[49m\u001B[43m)\u001B[49m\n\u001B[0;32m   1498\u001B[0m \u001B[38;5;28;01mexcept\u001B[39;00m \u001B[38;5;167;01mNotImplementedError\u001B[39;00m:\n\u001B[0;32m   1499\u001B[0m     \u001B[38;5;66;03m# generally if we have numeric_only=False\u001B[39;00m\n\u001B[0;32m   1500\u001B[0m     \u001B[38;5;66;03m# and non-applicable functions\u001B[39;00m\n\u001B[0;32m   1501\u001B[0m     \u001B[38;5;66;03m# try to python agg\u001B[39;00m\n\u001B[0;32m   1502\u001B[0m     \u001B[38;5;66;03m# TODO: shouldn't min_count matter?\u001B[39;00m\n",
      "File \u001B[1;32mD:\\Users\\selte\\anaconda3\\envs\\Scale_Studies\\lib\\site-packages\\pandas\\core\\groupby\\ops.py:959\u001B[0m, in \u001B[0;36mBaseGrouper._cython_operation\u001B[1;34m(self, kind, values, how, axis, min_count, **kwargs)\u001B[0m\n\u001B[0;32m    958\u001B[0m ngroups \u001B[38;5;241m=\u001B[39m \u001B[38;5;28mself\u001B[39m\u001B[38;5;241m.\u001B[39mngroups\n\u001B[1;32m--> 959\u001B[0m \u001B[38;5;28;01mreturn\u001B[39;00m \u001B[43mcy_op\u001B[49m\u001B[38;5;241;43m.\u001B[39;49m\u001B[43mcython_operation\u001B[49m\u001B[43m(\u001B[49m\n\u001B[0;32m    960\u001B[0m \u001B[43m    \u001B[49m\u001B[43mvalues\u001B[49m\u001B[38;5;241;43m=\u001B[39;49m\u001B[43mvalues\u001B[49m\u001B[43m,\u001B[49m\n\u001B[0;32m    961\u001B[0m \u001B[43m    \u001B[49m\u001B[43maxis\u001B[49m\u001B[38;5;241;43m=\u001B[39;49m\u001B[43maxis\u001B[49m\u001B[43m,\u001B[49m\n\u001B[0;32m    962\u001B[0m \u001B[43m    \u001B[49m\u001B[43mmin_count\u001B[49m\u001B[38;5;241;43m=\u001B[39;49m\u001B[43mmin_count\u001B[49m\u001B[43m,\u001B[49m\n\u001B[0;32m    963\u001B[0m \u001B[43m    \u001B[49m\u001B[43mcomp_ids\u001B[49m\u001B[38;5;241;43m=\u001B[39;49m\u001B[43mids\u001B[49m\u001B[43m,\u001B[49m\n\u001B[0;32m    964\u001B[0m \u001B[43m    \u001B[49m\u001B[43mngroups\u001B[49m\u001B[38;5;241;43m=\u001B[39;49m\u001B[43mngroups\u001B[49m\u001B[43m,\u001B[49m\n\u001B[0;32m    965\u001B[0m \u001B[43m    \u001B[49m\u001B[38;5;241;43m*\u001B[39;49m\u001B[38;5;241;43m*\u001B[39;49m\u001B[43mkwargs\u001B[49m\u001B[43m,\u001B[49m\n\u001B[0;32m    966\u001B[0m \u001B[43m\u001B[49m\u001B[43m)\u001B[49m\n",
      "File \u001B[1;32mD:\\Users\\selte\\anaconda3\\envs\\Scale_Studies\\lib\\site-packages\\pandas\\core\\groupby\\ops.py:657\u001B[0m, in \u001B[0;36mWrappedCythonOp.cython_operation\u001B[1;34m(self, values, axis, min_count, comp_ids, ngroups, **kwargs)\u001B[0m\n\u001B[0;32m    649\u001B[0m     \u001B[38;5;28;01mreturn\u001B[39;00m \u001B[38;5;28mself\u001B[39m\u001B[38;5;241m.\u001B[39m_ea_wrap_cython_operation(\n\u001B[0;32m    650\u001B[0m         values,\n\u001B[0;32m    651\u001B[0m         min_count\u001B[38;5;241m=\u001B[39mmin_count,\n\u001B[1;32m   (...)\u001B[0m\n\u001B[0;32m    654\u001B[0m         \u001B[38;5;241m*\u001B[39m\u001B[38;5;241m*\u001B[39mkwargs,\n\u001B[0;32m    655\u001B[0m     )\n\u001B[1;32m--> 657\u001B[0m \u001B[38;5;28;01mreturn\u001B[39;00m \u001B[38;5;28;43mself\u001B[39;49m\u001B[38;5;241;43m.\u001B[39;49m\u001B[43m_cython_op_ndim_compat\u001B[49m\u001B[43m(\u001B[49m\n\u001B[0;32m    658\u001B[0m \u001B[43m    \u001B[49m\u001B[43mvalues\u001B[49m\u001B[43m,\u001B[49m\n\u001B[0;32m    659\u001B[0m \u001B[43m    \u001B[49m\u001B[43mmin_count\u001B[49m\u001B[38;5;241;43m=\u001B[39;49m\u001B[43mmin_count\u001B[49m\u001B[43m,\u001B[49m\n\u001B[0;32m    660\u001B[0m \u001B[43m    \u001B[49m\u001B[43mngroups\u001B[49m\u001B[38;5;241;43m=\u001B[39;49m\u001B[43mngroups\u001B[49m\u001B[43m,\u001B[49m\n\u001B[0;32m    661\u001B[0m \u001B[43m    \u001B[49m\u001B[43mcomp_ids\u001B[49m\u001B[38;5;241;43m=\u001B[39;49m\u001B[43mcomp_ids\u001B[49m\u001B[43m,\u001B[49m\n\u001B[0;32m    662\u001B[0m \u001B[43m    \u001B[49m\u001B[43mmask\u001B[49m\u001B[38;5;241;43m=\u001B[39;49m\u001B[38;5;28;43;01mNone\u001B[39;49;00m\u001B[43m,\u001B[49m\n\u001B[0;32m    663\u001B[0m \u001B[43m    \u001B[49m\u001B[38;5;241;43m*\u001B[39;49m\u001B[38;5;241;43m*\u001B[39;49m\u001B[43mkwargs\u001B[49m\u001B[43m,\u001B[49m\n\u001B[0;32m    664\u001B[0m \u001B[43m\u001B[49m\u001B[43m)\u001B[49m\n",
      "File \u001B[1;32mD:\\Users\\selte\\anaconda3\\envs\\Scale_Studies\\lib\\site-packages\\pandas\\core\\groupby\\ops.py:497\u001B[0m, in \u001B[0;36mWrappedCythonOp._cython_op_ndim_compat\u001B[1;34m(self, values, min_count, ngroups, comp_ids, mask, result_mask, **kwargs)\u001B[0m\n\u001B[0;32m    495\u001B[0m     \u001B[38;5;28;01mreturn\u001B[39;00m res\u001B[38;5;241m.\u001B[39mT\n\u001B[1;32m--> 497\u001B[0m \u001B[38;5;28;01mreturn\u001B[39;00m \u001B[38;5;28;43mself\u001B[39;49m\u001B[38;5;241;43m.\u001B[39;49m\u001B[43m_call_cython_op\u001B[49m\u001B[43m(\u001B[49m\n\u001B[0;32m    498\u001B[0m \u001B[43m    \u001B[49m\u001B[43mvalues\u001B[49m\u001B[43m,\u001B[49m\n\u001B[0;32m    499\u001B[0m \u001B[43m    \u001B[49m\u001B[43mmin_count\u001B[49m\u001B[38;5;241;43m=\u001B[39;49m\u001B[43mmin_count\u001B[49m\u001B[43m,\u001B[49m\n\u001B[0;32m    500\u001B[0m \u001B[43m    \u001B[49m\u001B[43mngroups\u001B[49m\u001B[38;5;241;43m=\u001B[39;49m\u001B[43mngroups\u001B[49m\u001B[43m,\u001B[49m\n\u001B[0;32m    501\u001B[0m \u001B[43m    \u001B[49m\u001B[43mcomp_ids\u001B[49m\u001B[38;5;241;43m=\u001B[39;49m\u001B[43mcomp_ids\u001B[49m\u001B[43m,\u001B[49m\n\u001B[0;32m    502\u001B[0m \u001B[43m    \u001B[49m\u001B[43mmask\u001B[49m\u001B[38;5;241;43m=\u001B[39;49m\u001B[43mmask\u001B[49m\u001B[43m,\u001B[49m\n\u001B[0;32m    503\u001B[0m \u001B[43m    \u001B[49m\u001B[43mresult_mask\u001B[49m\u001B[38;5;241;43m=\u001B[39;49m\u001B[43mresult_mask\u001B[49m\u001B[43m,\u001B[49m\n\u001B[0;32m    504\u001B[0m \u001B[43m    \u001B[49m\u001B[38;5;241;43m*\u001B[39;49m\u001B[38;5;241;43m*\u001B[39;49m\u001B[43mkwargs\u001B[49m\u001B[43m,\u001B[49m\n\u001B[0;32m    505\u001B[0m \u001B[43m\u001B[49m\u001B[43m)\u001B[49m\n",
      "File \u001B[1;32mD:\\Users\\selte\\anaconda3\\envs\\Scale_Studies\\lib\\site-packages\\pandas\\core\\groupby\\ops.py:541\u001B[0m, in \u001B[0;36mWrappedCythonOp._call_cython_op\u001B[1;34m(self, values, min_count, ngroups, comp_ids, mask, result_mask, **kwargs)\u001B[0m\n\u001B[0;32m    540\u001B[0m out_shape \u001B[38;5;241m=\u001B[39m \u001B[38;5;28mself\u001B[39m\u001B[38;5;241m.\u001B[39m_get_output_shape(ngroups, values)\n\u001B[1;32m--> 541\u001B[0m func \u001B[38;5;241m=\u001B[39m \u001B[38;5;28;43mself\u001B[39;49m\u001B[38;5;241;43m.\u001B[39;49m\u001B[43m_get_cython_function\u001B[49m\u001B[43m(\u001B[49m\u001B[38;5;28;43mself\u001B[39;49m\u001B[38;5;241;43m.\u001B[39;49m\u001B[43mkind\u001B[49m\u001B[43m,\u001B[49m\u001B[43m \u001B[49m\u001B[38;5;28;43mself\u001B[39;49m\u001B[38;5;241;43m.\u001B[39;49m\u001B[43mhow\u001B[49m\u001B[43m,\u001B[49m\u001B[43m \u001B[49m\u001B[43mvalues\u001B[49m\u001B[38;5;241;43m.\u001B[39;49m\u001B[43mdtype\u001B[49m\u001B[43m,\u001B[49m\u001B[43m \u001B[49m\u001B[43mis_numeric\u001B[49m\u001B[43m)\u001B[49m\n\u001B[0;32m    542\u001B[0m values \u001B[38;5;241m=\u001B[39m \u001B[38;5;28mself\u001B[39m\u001B[38;5;241m.\u001B[39m_get_cython_vals(values)\n",
      "File \u001B[1;32mD:\\Users\\selte\\anaconda3\\envs\\Scale_Studies\\lib\\site-packages\\pandas\\core\\groupby\\ops.py:167\u001B[0m, in \u001B[0;36mWrappedCythonOp._get_cython_function\u001B[1;34m(cls, kind, how, dtype, is_numeric)\u001B[0m\n\u001B[0;32m    165\u001B[0m \u001B[38;5;28;01mif\u001B[39;00m how \u001B[38;5;129;01min\u001B[39;00m [\u001B[38;5;124m\"\u001B[39m\u001B[38;5;124mmedian\u001B[39m\u001B[38;5;124m\"\u001B[39m, \u001B[38;5;124m\"\u001B[39m\u001B[38;5;124mcumprod\u001B[39m\u001B[38;5;124m\"\u001B[39m]:\n\u001B[0;32m    166\u001B[0m     \u001B[38;5;66;03m# no fused types -> no __signatures__\u001B[39;00m\n\u001B[1;32m--> 167\u001B[0m     \u001B[38;5;28;01mraise\u001B[39;00m \u001B[38;5;167;01mNotImplementedError\u001B[39;00m(\n\u001B[0;32m    168\u001B[0m         \u001B[38;5;124mf\u001B[39m\u001B[38;5;124m\"\u001B[39m\u001B[38;5;124mfunction is not implemented for this dtype: \u001B[39m\u001B[38;5;124m\"\u001B[39m\n\u001B[0;32m    169\u001B[0m         \u001B[38;5;124mf\u001B[39m\u001B[38;5;124m\"\u001B[39m\u001B[38;5;124m[how->\u001B[39m\u001B[38;5;132;01m{\u001B[39;00mhow\u001B[38;5;132;01m}\u001B[39;00m\u001B[38;5;124m,dtype->\u001B[39m\u001B[38;5;132;01m{\u001B[39;00mdtype_str\u001B[38;5;132;01m}\u001B[39;00m\u001B[38;5;124m]\u001B[39m\u001B[38;5;124m\"\u001B[39m\n\u001B[0;32m    170\u001B[0m     )\n\u001B[0;32m    171\u001B[0m \u001B[38;5;28;01mif\u001B[39;00m \u001B[38;5;124m\"\u001B[39m\u001B[38;5;124mobject\u001B[39m\u001B[38;5;124m\"\u001B[39m \u001B[38;5;129;01mnot\u001B[39;00m \u001B[38;5;129;01min\u001B[39;00m f\u001B[38;5;241m.\u001B[39m__signatures__:\n\u001B[0;32m    172\u001B[0m     \u001B[38;5;66;03m# raise NotImplementedError here rather than TypeError later\u001B[39;00m\n",
      "\u001B[1;31mNotImplementedError\u001B[0m: function is not implemented for this dtype: [how->median,dtype->object]",
      "\nDuring handling of the above exception, another exception occurred:\n",
      "\u001B[1;31mValueError\u001B[0m                                Traceback (most recent call last)",
      "File \u001B[1;32mD:\\Users\\selte\\anaconda3\\envs\\Scale_Studies\\lib\\site-packages\\pandas\\core\\nanops.py:786\u001B[0m, in \u001B[0;36mnanmedian\u001B[1;34m(values, axis, skipna, mask)\u001B[0m\n\u001B[0;32m    785\u001B[0m \u001B[38;5;28;01mtry\u001B[39;00m:\n\u001B[1;32m--> 786\u001B[0m     values \u001B[38;5;241m=\u001B[39m \u001B[43mvalues\u001B[49m\u001B[38;5;241;43m.\u001B[39;49m\u001B[43mastype\u001B[49m\u001B[43m(\u001B[49m\u001B[38;5;124;43m\"\u001B[39;49m\u001B[38;5;124;43mf8\u001B[39;49m\u001B[38;5;124;43m\"\u001B[39;49m\u001B[43m)\u001B[49m\n\u001B[0;32m    787\u001B[0m \u001B[38;5;28;01mexcept\u001B[39;00m \u001B[38;5;167;01mValueError\u001B[39;00m \u001B[38;5;28;01mas\u001B[39;00m err:\n\u001B[0;32m    788\u001B[0m     \u001B[38;5;66;03m# e.g. \"could not convert string to float: 'a'\"\u001B[39;00m\n",
      "\u001B[1;31mValueError\u001B[0m: could not convert string to float: 'likert'",
      "\nThe above exception was the direct cause of the following exception:\n",
      "\u001B[1;31mTypeError\u001B[0m                                 Traceback (most recent call last)",
      "File \u001B[1;32mD:\\Users\\selte\\Documents\\PycharmProjects\\Membership_Set_Paper\\Study_Likert\\Scripts\\b_Analysis\\Group_Level_Set.py:130\u001B[0m\n\u001B[0;32m    125\u001B[0m     set_level[\u001B[38;5;124m'\u001B[39m\u001B[38;5;124mQ3\u001B[39m\u001B[38;5;124m'\u001B[39m] \u001B[38;5;241m=\u001B[39m GL\u001B[38;5;241m.\u001B[39mgroupby(\u001B[38;5;124m'\u001B[39m\u001B[38;5;124mset\u001B[39m\u001B[38;5;124m'\u001B[39m)\u001B[38;5;241m.\u001B[39mfirst()\u001B[38;5;241m.\u001B[39mreset_index()[\u001B[38;5;124m'\u001B[39m\u001B[38;5;124mQ3\u001B[39m\u001B[38;5;124m'\u001B[39m]\n\u001B[0;32m    128\u001B[0m     set_level\u001B[38;5;241m.\u001B[39mto_csv(processed_dir \u001B[38;5;241m+\u001B[39m \u001B[38;5;124m'\u001B[39m\u001B[38;5;124mset_level_results.csv\u001B[39m\u001B[38;5;124m'\u001B[39m)  \u001B[38;5;66;03m# Saving to file.\u001B[39;00m\n\u001B[1;32m--> 130\u001B[0m \u001B[43mcalc_group_level\u001B[49m\u001B[43m(\u001B[49m\u001B[43mprocessed_dir\u001B[49m\u001B[43m,\u001B[49m\u001B[43m \u001B[49m\u001B[43mprocessed_data_pickle_filename\u001B[49m\u001B[43m,\u001B[49m\u001B[43m \u001B[49m\u001B[43mqualtrics_processed_path\u001B[49m\u001B[43m)\u001B[49m\n",
      "File \u001B[1;32mD:\\Users\\selte\\Documents\\PycharmProjects\\Membership_Set_Paper\\Study_Likert\\Scripts\\b_Analysis\\Group_Level_Set.py:32\u001B[0m, in \u001B[0;36mcalc_group_level\u001B[1;34m(processed_dir, processed_data_pickle_filename, qualtrics_processed_path)\u001B[0m\n\u001B[0;32m     27\u001B[0m ATND \u001B[38;5;241m=\u001B[39m ATND\u001B[38;5;241m.\u001B[39mrename(columns\u001B[38;5;241m=\u001B[39m{\u001B[38;5;124m'\u001B[39m\u001B[38;5;124msona_x\u001B[39m\u001B[38;5;124m'\u001B[39m: \u001B[38;5;124m'\u001B[39m\u001B[38;5;124msona\u001B[39m\u001B[38;5;124m'\u001B[39m})\n\u001B[0;32m     30\u001B[0m \u001B[38;5;66;03m# Starts a new dataframe called \"GL\" which will store the group-level calculated fields. The following line\u001B[39;00m\n\u001B[0;32m     31\u001B[0m \u001B[38;5;66;03m# keeps the median of the response\u001B[39;00m\n\u001B[1;32m---> 32\u001B[0m GL \u001B[38;5;241m=\u001B[39m \u001B[43mATND\u001B[49m\u001B[38;5;241;43m.\u001B[39;49m\u001B[43mgroupby\u001B[49m\u001B[43m(\u001B[49m\u001B[43m[\u001B[49m\u001B[38;5;124;43m'\u001B[39;49m\u001B[38;5;124;43msona\u001B[39;49m\u001B[38;5;124;43m'\u001B[39;49m\u001B[43m,\u001B[49m\u001B[38;5;124;43m'\u001B[39;49m\u001B[38;5;124;43msubject\u001B[39;49m\u001B[38;5;124;43m'\u001B[39;49m\u001B[43m,\u001B[49m\u001B[43m \u001B[49m\u001B[38;5;124;43m'\u001B[39;49m\u001B[38;5;124;43mset\u001B[39;49m\u001B[38;5;124;43m'\u001B[39;49m\u001B[43m,\u001B[49m\u001B[43m \u001B[49m\u001B[38;5;124;43m'\u001B[39;49m\u001B[38;5;124;43mstimulus\u001B[39;49m\u001B[38;5;124;43m'\u001B[39;49m\u001B[43m]\u001B[49m\u001B[43m)\u001B[49m\u001B[38;5;241;43m.\u001B[39;49m\u001B[43mmedian\u001B[49m\u001B[43m(\u001B[49m\u001B[43m)\u001B[49m\u001B[38;5;241m.\u001B[39mreset_index()\n\u001B[0;32m     34\u001B[0m GL \u001B[38;5;241m=\u001B[39m GL\u001B[38;5;241m.\u001B[39miloc[:, :\u001B[38;5;241m3\u001B[39m]  \u001B[38;5;66;03m# Selects only the first 3 columns\u001B[39;00m\n\u001B[0;32m     37\u001B[0m \u001B[38;5;66;03m# Take median response\u001B[39;00m\n",
      "File \u001B[1;32mD:\\Users\\selte\\anaconda3\\envs\\Scale_Studies\\lib\\site-packages\\pandas\\core\\groupby\\groupby.py:1883\u001B[0m, in \u001B[0;36mGroupBy.median\u001B[1;34m(self, numeric_only)\u001B[0m\n\u001B[0;32m   1862\u001B[0m \u001B[38;5;129m@final\u001B[39m\n\u001B[0;32m   1863\u001B[0m \u001B[38;5;28;01mdef\u001B[39;00m \u001B[38;5;21mmedian\u001B[39m(\u001B[38;5;28mself\u001B[39m, numeric_only: \u001B[38;5;28mbool\u001B[39m \u001B[38;5;241m=\u001B[39m \u001B[38;5;28;01mFalse\u001B[39;00m):\n\u001B[0;32m   1864\u001B[0m \u001B[38;5;250m    \u001B[39m\u001B[38;5;124;03m\"\"\"\u001B[39;00m\n\u001B[0;32m   1865\u001B[0m \u001B[38;5;124;03m    Compute median of groups, excluding missing values.\u001B[39;00m\n\u001B[0;32m   1866\u001B[0m \n\u001B[1;32m   (...)\u001B[0m\n\u001B[0;32m   1881\u001B[0m \u001B[38;5;124;03m        Median of values within each group.\u001B[39;00m\n\u001B[0;32m   1882\u001B[0m \u001B[38;5;124;03m    \"\"\"\u001B[39;00m\n\u001B[1;32m-> 1883\u001B[0m     result \u001B[38;5;241m=\u001B[39m \u001B[38;5;28;43mself\u001B[39;49m\u001B[38;5;241;43m.\u001B[39;49m\u001B[43m_cython_agg_general\u001B[49m\u001B[43m(\u001B[49m\n\u001B[0;32m   1884\u001B[0m \u001B[43m        \u001B[49m\u001B[38;5;124;43m\"\u001B[39;49m\u001B[38;5;124;43mmedian\u001B[39;49m\u001B[38;5;124;43m\"\u001B[39;49m\u001B[43m,\u001B[49m\n\u001B[0;32m   1885\u001B[0m \u001B[43m        \u001B[49m\u001B[43malt\u001B[49m\u001B[38;5;241;43m=\u001B[39;49m\u001B[38;5;28;43;01mlambda\u001B[39;49;00m\u001B[43m \u001B[49m\u001B[43mx\u001B[49m\u001B[43m:\u001B[49m\u001B[43m \u001B[49m\u001B[43mSeries\u001B[49m\u001B[43m(\u001B[49m\u001B[43mx\u001B[49m\u001B[43m)\u001B[49m\u001B[38;5;241;43m.\u001B[39;49m\u001B[43mmedian\u001B[49m\u001B[43m(\u001B[49m\u001B[43mnumeric_only\u001B[49m\u001B[38;5;241;43m=\u001B[39;49m\u001B[43mnumeric_only\u001B[49m\u001B[43m)\u001B[49m\u001B[43m,\u001B[49m\n\u001B[0;32m   1886\u001B[0m \u001B[43m        \u001B[49m\u001B[43mnumeric_only\u001B[49m\u001B[38;5;241;43m=\u001B[39;49m\u001B[43mnumeric_only\u001B[49m\u001B[43m,\u001B[49m\n\u001B[0;32m   1887\u001B[0m \u001B[43m    \u001B[49m\u001B[43m)\u001B[49m\n\u001B[0;32m   1888\u001B[0m     \u001B[38;5;28;01mreturn\u001B[39;00m result\u001B[38;5;241m.\u001B[39m__finalize__(\u001B[38;5;28mself\u001B[39m\u001B[38;5;241m.\u001B[39mobj, method\u001B[38;5;241m=\u001B[39m\u001B[38;5;124m\"\u001B[39m\u001B[38;5;124mgroupby\u001B[39m\u001B[38;5;124m\"\u001B[39m)\n",
      "File \u001B[1;32mD:\\Users\\selte\\anaconda3\\envs\\Scale_Studies\\lib\\site-packages\\pandas\\core\\groupby\\groupby.py:1507\u001B[0m, in \u001B[0;36mGroupBy._cython_agg_general\u001B[1;34m(self, how, alt, numeric_only, min_count, **kwargs)\u001B[0m\n\u001B[0;32m   1503\u001B[0m         result \u001B[38;5;241m=\u001B[39m \u001B[38;5;28mself\u001B[39m\u001B[38;5;241m.\u001B[39m_agg_py_fallback(values, ndim\u001B[38;5;241m=\u001B[39mdata\u001B[38;5;241m.\u001B[39mndim, alt\u001B[38;5;241m=\u001B[39malt)\n\u001B[0;32m   1505\u001B[0m     \u001B[38;5;28;01mreturn\u001B[39;00m result\n\u001B[1;32m-> 1507\u001B[0m new_mgr \u001B[38;5;241m=\u001B[39m \u001B[43mdata\u001B[49m\u001B[38;5;241;43m.\u001B[39;49m\u001B[43mgrouped_reduce\u001B[49m\u001B[43m(\u001B[49m\u001B[43marray_func\u001B[49m\u001B[43m)\u001B[49m\n\u001B[0;32m   1508\u001B[0m res \u001B[38;5;241m=\u001B[39m \u001B[38;5;28mself\u001B[39m\u001B[38;5;241m.\u001B[39m_wrap_agged_manager(new_mgr)\n\u001B[0;32m   1509\u001B[0m out \u001B[38;5;241m=\u001B[39m \u001B[38;5;28mself\u001B[39m\u001B[38;5;241m.\u001B[39m_wrap_aggregated_output(res)\n",
      "File \u001B[1;32mD:\\Users\\selte\\anaconda3\\envs\\Scale_Studies\\lib\\site-packages\\pandas\\core\\internals\\managers.py:1503\u001B[0m, in \u001B[0;36mBlockManager.grouped_reduce\u001B[1;34m(self, func)\u001B[0m\n\u001B[0;32m   1499\u001B[0m \u001B[38;5;28;01mif\u001B[39;00m blk\u001B[38;5;241m.\u001B[39mis_object:\n\u001B[0;32m   1500\u001B[0m     \u001B[38;5;66;03m# split on object-dtype blocks bc some columns may raise\u001B[39;00m\n\u001B[0;32m   1501\u001B[0m     \u001B[38;5;66;03m#  while others do not.\u001B[39;00m\n\u001B[0;32m   1502\u001B[0m     \u001B[38;5;28;01mfor\u001B[39;00m sb \u001B[38;5;129;01min\u001B[39;00m blk\u001B[38;5;241m.\u001B[39m_split():\n\u001B[1;32m-> 1503\u001B[0m         applied \u001B[38;5;241m=\u001B[39m \u001B[43msb\u001B[49m\u001B[38;5;241;43m.\u001B[39;49m\u001B[43mapply\u001B[49m\u001B[43m(\u001B[49m\u001B[43mfunc\u001B[49m\u001B[43m)\u001B[49m\n\u001B[0;32m   1504\u001B[0m         result_blocks \u001B[38;5;241m=\u001B[39m extend_blocks(applied, result_blocks)\n\u001B[0;32m   1505\u001B[0m \u001B[38;5;28;01melse\u001B[39;00m:\n",
      "File \u001B[1;32mD:\\Users\\selte\\anaconda3\\envs\\Scale_Studies\\lib\\site-packages\\pandas\\core\\internals\\blocks.py:329\u001B[0m, in \u001B[0;36mBlock.apply\u001B[1;34m(self, func, **kwargs)\u001B[0m\n\u001B[0;32m    323\u001B[0m \u001B[38;5;129m@final\u001B[39m\n\u001B[0;32m    324\u001B[0m \u001B[38;5;28;01mdef\u001B[39;00m \u001B[38;5;21mapply\u001B[39m(\u001B[38;5;28mself\u001B[39m, func, \u001B[38;5;241m*\u001B[39m\u001B[38;5;241m*\u001B[39mkwargs) \u001B[38;5;241m-\u001B[39m\u001B[38;5;241m>\u001B[39m \u001B[38;5;28mlist\u001B[39m[Block]:\n\u001B[0;32m    325\u001B[0m \u001B[38;5;250m    \u001B[39m\u001B[38;5;124;03m\"\"\"\u001B[39;00m\n\u001B[0;32m    326\u001B[0m \u001B[38;5;124;03m    apply the function to my values; return a block if we are not\u001B[39;00m\n\u001B[0;32m    327\u001B[0m \u001B[38;5;124;03m    one\u001B[39;00m\n\u001B[0;32m    328\u001B[0m \u001B[38;5;124;03m    \"\"\"\u001B[39;00m\n\u001B[1;32m--> 329\u001B[0m     result \u001B[38;5;241m=\u001B[39m \u001B[43mfunc\u001B[49m\u001B[43m(\u001B[49m\u001B[38;5;28;43mself\u001B[39;49m\u001B[38;5;241;43m.\u001B[39;49m\u001B[43mvalues\u001B[49m\u001B[43m,\u001B[49m\u001B[43m \u001B[49m\u001B[38;5;241;43m*\u001B[39;49m\u001B[38;5;241;43m*\u001B[39;49m\u001B[43mkwargs\u001B[49m\u001B[43m)\u001B[49m\n\u001B[0;32m    331\u001B[0m     \u001B[38;5;28;01mreturn\u001B[39;00m \u001B[38;5;28mself\u001B[39m\u001B[38;5;241m.\u001B[39m_split_op_result(result)\n",
      "File \u001B[1;32mD:\\Users\\selte\\anaconda3\\envs\\Scale_Studies\\lib\\site-packages\\pandas\\core\\groupby\\groupby.py:1503\u001B[0m, in \u001B[0;36mGroupBy._cython_agg_general.<locals>.array_func\u001B[1;34m(values)\u001B[0m\n\u001B[0;32m   1490\u001B[0m     result \u001B[38;5;241m=\u001B[39m \u001B[38;5;28mself\u001B[39m\u001B[38;5;241m.\u001B[39mgrouper\u001B[38;5;241m.\u001B[39m_cython_operation(\n\u001B[0;32m   1491\u001B[0m         \u001B[38;5;124m\"\u001B[39m\u001B[38;5;124maggregate\u001B[39m\u001B[38;5;124m\"\u001B[39m,\n\u001B[0;32m   1492\u001B[0m         values,\n\u001B[1;32m   (...)\u001B[0m\n\u001B[0;32m   1496\u001B[0m         \u001B[38;5;241m*\u001B[39m\u001B[38;5;241m*\u001B[39mkwargs,\n\u001B[0;32m   1497\u001B[0m     )\n\u001B[0;32m   1498\u001B[0m \u001B[38;5;28;01mexcept\u001B[39;00m \u001B[38;5;167;01mNotImplementedError\u001B[39;00m:\n\u001B[0;32m   1499\u001B[0m     \u001B[38;5;66;03m# generally if we have numeric_only=False\u001B[39;00m\n\u001B[0;32m   1500\u001B[0m     \u001B[38;5;66;03m# and non-applicable functions\u001B[39;00m\n\u001B[0;32m   1501\u001B[0m     \u001B[38;5;66;03m# try to python agg\u001B[39;00m\n\u001B[0;32m   1502\u001B[0m     \u001B[38;5;66;03m# TODO: shouldn't min_count matter?\u001B[39;00m\n\u001B[1;32m-> 1503\u001B[0m     result \u001B[38;5;241m=\u001B[39m \u001B[38;5;28;43mself\u001B[39;49m\u001B[38;5;241;43m.\u001B[39;49m\u001B[43m_agg_py_fallback\u001B[49m\u001B[43m(\u001B[49m\u001B[43mvalues\u001B[49m\u001B[43m,\u001B[49m\u001B[43m \u001B[49m\u001B[43mndim\u001B[49m\u001B[38;5;241;43m=\u001B[39;49m\u001B[43mdata\u001B[49m\u001B[38;5;241;43m.\u001B[39;49m\u001B[43mndim\u001B[49m\u001B[43m,\u001B[49m\u001B[43m \u001B[49m\u001B[43malt\u001B[49m\u001B[38;5;241;43m=\u001B[39;49m\u001B[43malt\u001B[49m\u001B[43m)\u001B[49m\n\u001B[0;32m   1505\u001B[0m \u001B[38;5;28;01mreturn\u001B[39;00m result\n",
      "File \u001B[1;32mD:\\Users\\selte\\anaconda3\\envs\\Scale_Studies\\lib\\site-packages\\pandas\\core\\groupby\\groupby.py:1457\u001B[0m, in \u001B[0;36mGroupBy._agg_py_fallback\u001B[1;34m(self, values, ndim, alt)\u001B[0m\n\u001B[0;32m   1452\u001B[0m     ser \u001B[38;5;241m=\u001B[39m df\u001B[38;5;241m.\u001B[39miloc[:, \u001B[38;5;241m0\u001B[39m]\n\u001B[0;32m   1454\u001B[0m \u001B[38;5;66;03m# We do not get here with UDFs, so we know that our dtype\u001B[39;00m\n\u001B[0;32m   1455\u001B[0m \u001B[38;5;66;03m#  should always be preserved by the implemented aggregations\u001B[39;00m\n\u001B[0;32m   1456\u001B[0m \u001B[38;5;66;03m# TODO: Is this exactly right; see WrappedCythonOp get_result_dtype?\u001B[39;00m\n\u001B[1;32m-> 1457\u001B[0m res_values \u001B[38;5;241m=\u001B[39m \u001B[38;5;28;43mself\u001B[39;49m\u001B[38;5;241;43m.\u001B[39;49m\u001B[43mgrouper\u001B[49m\u001B[38;5;241;43m.\u001B[39;49m\u001B[43magg_series\u001B[49m\u001B[43m(\u001B[49m\u001B[43mser\u001B[49m\u001B[43m,\u001B[49m\u001B[43m \u001B[49m\u001B[43malt\u001B[49m\u001B[43m,\u001B[49m\u001B[43m \u001B[49m\u001B[43mpreserve_dtype\u001B[49m\u001B[38;5;241;43m=\u001B[39;49m\u001B[38;5;28;43;01mTrue\u001B[39;49;00m\u001B[43m)\u001B[49m\n\u001B[0;32m   1459\u001B[0m \u001B[38;5;28;01mif\u001B[39;00m \u001B[38;5;28misinstance\u001B[39m(values, Categorical):\n\u001B[0;32m   1460\u001B[0m     \u001B[38;5;66;03m# Because we only get here with known dtype-preserving\u001B[39;00m\n\u001B[0;32m   1461\u001B[0m     \u001B[38;5;66;03m#  reductions, we cast back to Categorical.\u001B[39;00m\n\u001B[0;32m   1462\u001B[0m     \u001B[38;5;66;03m# TODO: if we ever get \"rank\" working, exclude it here.\u001B[39;00m\n\u001B[0;32m   1463\u001B[0m     res_values \u001B[38;5;241m=\u001B[39m \u001B[38;5;28mtype\u001B[39m(values)\u001B[38;5;241m.\u001B[39m_from_sequence(res_values, dtype\u001B[38;5;241m=\u001B[39mvalues\u001B[38;5;241m.\u001B[39mdtype)\n",
      "File \u001B[1;32mD:\\Users\\selte\\anaconda3\\envs\\Scale_Studies\\lib\\site-packages\\pandas\\core\\groupby\\ops.py:994\u001B[0m, in \u001B[0;36mBaseGrouper.agg_series\u001B[1;34m(self, obj, func, preserve_dtype)\u001B[0m\n\u001B[0;32m    987\u001B[0m \u001B[38;5;28;01mif\u001B[39;00m \u001B[38;5;28mlen\u001B[39m(obj) \u001B[38;5;241m>\u001B[39m \u001B[38;5;241m0\u001B[39m \u001B[38;5;129;01mand\u001B[39;00m \u001B[38;5;129;01mnot\u001B[39;00m \u001B[38;5;28misinstance\u001B[39m(obj\u001B[38;5;241m.\u001B[39m_values, np\u001B[38;5;241m.\u001B[39mndarray):\n\u001B[0;32m    988\u001B[0m     \u001B[38;5;66;03m# we can preserve a little bit more aggressively with EA dtype\u001B[39;00m\n\u001B[0;32m    989\u001B[0m     \u001B[38;5;66;03m#  because maybe_cast_pointwise_result will do a try/except\u001B[39;00m\n\u001B[0;32m    990\u001B[0m     \u001B[38;5;66;03m#  with _from_sequence.  NB we are assuming here that _from_sequence\u001B[39;00m\n\u001B[0;32m    991\u001B[0m     \u001B[38;5;66;03m#  is sufficiently strict that it casts appropriately.\u001B[39;00m\n\u001B[0;32m    992\u001B[0m     preserve_dtype \u001B[38;5;241m=\u001B[39m \u001B[38;5;28;01mTrue\u001B[39;00m\n\u001B[1;32m--> 994\u001B[0m result \u001B[38;5;241m=\u001B[39m \u001B[38;5;28;43mself\u001B[39;49m\u001B[38;5;241;43m.\u001B[39;49m\u001B[43m_aggregate_series_pure_python\u001B[49m\u001B[43m(\u001B[49m\u001B[43mobj\u001B[49m\u001B[43m,\u001B[49m\u001B[43m \u001B[49m\u001B[43mfunc\u001B[49m\u001B[43m)\u001B[49m\n\u001B[0;32m    996\u001B[0m npvalues \u001B[38;5;241m=\u001B[39m lib\u001B[38;5;241m.\u001B[39mmaybe_convert_objects(result, try_float\u001B[38;5;241m=\u001B[39m\u001B[38;5;28;01mFalse\u001B[39;00m)\n\u001B[0;32m    997\u001B[0m \u001B[38;5;28;01mif\u001B[39;00m preserve_dtype:\n",
      "File \u001B[1;32mD:\\Users\\selte\\anaconda3\\envs\\Scale_Studies\\lib\\site-packages\\pandas\\core\\groupby\\ops.py:1015\u001B[0m, in \u001B[0;36mBaseGrouper._aggregate_series_pure_python\u001B[1;34m(self, obj, func)\u001B[0m\n\u001B[0;32m   1012\u001B[0m splitter \u001B[38;5;241m=\u001B[39m \u001B[38;5;28mself\u001B[39m\u001B[38;5;241m.\u001B[39m_get_splitter(obj, axis\u001B[38;5;241m=\u001B[39m\u001B[38;5;241m0\u001B[39m)\n\u001B[0;32m   1014\u001B[0m \u001B[38;5;28;01mfor\u001B[39;00m i, group \u001B[38;5;129;01min\u001B[39;00m \u001B[38;5;28menumerate\u001B[39m(splitter):\n\u001B[1;32m-> 1015\u001B[0m     res \u001B[38;5;241m=\u001B[39m \u001B[43mfunc\u001B[49m\u001B[43m(\u001B[49m\u001B[43mgroup\u001B[49m\u001B[43m)\u001B[49m\n\u001B[0;32m   1016\u001B[0m     res \u001B[38;5;241m=\u001B[39m libreduction\u001B[38;5;241m.\u001B[39mextract_result(res)\n\u001B[0;32m   1018\u001B[0m     \u001B[38;5;28;01mif\u001B[39;00m \u001B[38;5;129;01mnot\u001B[39;00m initialized:\n\u001B[0;32m   1019\u001B[0m         \u001B[38;5;66;03m# We only do this validation on the first iteration\u001B[39;00m\n",
      "File \u001B[1;32mD:\\Users\\selte\\anaconda3\\envs\\Scale_Studies\\lib\\site-packages\\pandas\\core\\groupby\\groupby.py:1885\u001B[0m, in \u001B[0;36mGroupBy.median.<locals>.<lambda>\u001B[1;34m(x)\u001B[0m\n\u001B[0;32m   1862\u001B[0m \u001B[38;5;129m@final\u001B[39m\n\u001B[0;32m   1863\u001B[0m \u001B[38;5;28;01mdef\u001B[39;00m \u001B[38;5;21mmedian\u001B[39m(\u001B[38;5;28mself\u001B[39m, numeric_only: \u001B[38;5;28mbool\u001B[39m \u001B[38;5;241m=\u001B[39m \u001B[38;5;28;01mFalse\u001B[39;00m):\n\u001B[0;32m   1864\u001B[0m \u001B[38;5;250m    \u001B[39m\u001B[38;5;124;03m\"\"\"\u001B[39;00m\n\u001B[0;32m   1865\u001B[0m \u001B[38;5;124;03m    Compute median of groups, excluding missing values.\u001B[39;00m\n\u001B[0;32m   1866\u001B[0m \n\u001B[1;32m   (...)\u001B[0m\n\u001B[0;32m   1881\u001B[0m \u001B[38;5;124;03m        Median of values within each group.\u001B[39;00m\n\u001B[0;32m   1882\u001B[0m \u001B[38;5;124;03m    \"\"\"\u001B[39;00m\n\u001B[0;32m   1883\u001B[0m     result \u001B[38;5;241m=\u001B[39m \u001B[38;5;28mself\u001B[39m\u001B[38;5;241m.\u001B[39m_cython_agg_general(\n\u001B[0;32m   1884\u001B[0m         \u001B[38;5;124m\"\u001B[39m\u001B[38;5;124mmedian\u001B[39m\u001B[38;5;124m\"\u001B[39m,\n\u001B[1;32m-> 1885\u001B[0m         alt\u001B[38;5;241m=\u001B[39m\u001B[38;5;28;01mlambda\u001B[39;00m x: \u001B[43mSeries\u001B[49m\u001B[43m(\u001B[49m\u001B[43mx\u001B[49m\u001B[43m)\u001B[49m\u001B[38;5;241;43m.\u001B[39;49m\u001B[43mmedian\u001B[49m\u001B[43m(\u001B[49m\u001B[43mnumeric_only\u001B[49m\u001B[38;5;241;43m=\u001B[39;49m\u001B[43mnumeric_only\u001B[49m\u001B[43m)\u001B[49m,\n\u001B[0;32m   1886\u001B[0m         numeric_only\u001B[38;5;241m=\u001B[39mnumeric_only,\n\u001B[0;32m   1887\u001B[0m     )\n\u001B[0;32m   1888\u001B[0m     \u001B[38;5;28;01mreturn\u001B[39;00m result\u001B[38;5;241m.\u001B[39m__finalize__(\u001B[38;5;28mself\u001B[39m\u001B[38;5;241m.\u001B[39mobj, method\u001B[38;5;241m=\u001B[39m\u001B[38;5;124m\"\u001B[39m\u001B[38;5;124mgroupby\u001B[39m\u001B[38;5;124m\"\u001B[39m)\n",
      "File \u001B[1;32mD:\\Users\\selte\\anaconda3\\envs\\Scale_Studies\\lib\\site-packages\\pandas\\core\\generic.py:11623\u001B[0m, in \u001B[0;36mNDFrame._add_numeric_operations.<locals>.median\u001B[1;34m(self, axis, skipna, numeric_only, **kwargs)\u001B[0m\n\u001B[0;32m  11606\u001B[0m \u001B[38;5;129m@doc\u001B[39m(\n\u001B[0;32m  11607\u001B[0m     _num_doc,\n\u001B[0;32m  11608\u001B[0m     desc\u001B[38;5;241m=\u001B[39m\u001B[38;5;124m\"\u001B[39m\u001B[38;5;124mReturn the median of the values over the requested axis.\u001B[39m\u001B[38;5;124m\"\u001B[39m,\n\u001B[1;32m   (...)\u001B[0m\n\u001B[0;32m  11621\u001B[0m     \u001B[38;5;241m*\u001B[39m\u001B[38;5;241m*\u001B[39mkwargs,\n\u001B[0;32m  11622\u001B[0m ):\n\u001B[1;32m> 11623\u001B[0m     \u001B[38;5;28;01mreturn\u001B[39;00m \u001B[43mNDFrame\u001B[49m\u001B[38;5;241;43m.\u001B[39;49m\u001B[43mmedian\u001B[49m\u001B[43m(\u001B[49m\u001B[38;5;28;43mself\u001B[39;49m\u001B[43m,\u001B[49m\u001B[43m \u001B[49m\u001B[43maxis\u001B[49m\u001B[43m,\u001B[49m\u001B[43m \u001B[49m\u001B[43mskipna\u001B[49m\u001B[43m,\u001B[49m\u001B[43m \u001B[49m\u001B[43mnumeric_only\u001B[49m\u001B[43m,\u001B[49m\u001B[43m \u001B[49m\u001B[38;5;241;43m*\u001B[39;49m\u001B[38;5;241;43m*\u001B[39;49m\u001B[43mkwargs\u001B[49m\u001B[43m)\u001B[49m\n",
      "File \u001B[1;32mD:\\Users\\selte\\anaconda3\\envs\\Scale_Studies\\lib\\site-packages\\pandas\\core\\generic.py:11212\u001B[0m, in \u001B[0;36mNDFrame.median\u001B[1;34m(self, axis, skipna, numeric_only, **kwargs)\u001B[0m\n\u001B[0;32m  11205\u001B[0m \u001B[38;5;28;01mdef\u001B[39;00m \u001B[38;5;21mmedian\u001B[39m(\n\u001B[0;32m  11206\u001B[0m     \u001B[38;5;28mself\u001B[39m,\n\u001B[0;32m  11207\u001B[0m     axis: Axis \u001B[38;5;241m|\u001B[39m \u001B[38;5;28;01mNone\u001B[39;00m \u001B[38;5;241m=\u001B[39m \u001B[38;5;241m0\u001B[39m,\n\u001B[1;32m   (...)\u001B[0m\n\u001B[0;32m  11210\u001B[0m     \u001B[38;5;241m*\u001B[39m\u001B[38;5;241m*\u001B[39mkwargs,\n\u001B[0;32m  11211\u001B[0m ) \u001B[38;5;241m-\u001B[39m\u001B[38;5;241m>\u001B[39m Series \u001B[38;5;241m|\u001B[39m \u001B[38;5;28mfloat\u001B[39m:\n\u001B[1;32m> 11212\u001B[0m     \u001B[38;5;28;01mreturn\u001B[39;00m \u001B[38;5;28;43mself\u001B[39;49m\u001B[38;5;241;43m.\u001B[39;49m\u001B[43m_stat_function\u001B[49m\u001B[43m(\u001B[49m\n\u001B[0;32m  11213\u001B[0m \u001B[43m        \u001B[49m\u001B[38;5;124;43m\"\u001B[39;49m\u001B[38;5;124;43mmedian\u001B[39;49m\u001B[38;5;124;43m\"\u001B[39;49m\u001B[43m,\u001B[49m\u001B[43m \u001B[49m\u001B[43mnanops\u001B[49m\u001B[38;5;241;43m.\u001B[39;49m\u001B[43mnanmedian\u001B[49m\u001B[43m,\u001B[49m\u001B[43m \u001B[49m\u001B[43maxis\u001B[49m\u001B[43m,\u001B[49m\u001B[43m \u001B[49m\u001B[43mskipna\u001B[49m\u001B[43m,\u001B[49m\u001B[43m \u001B[49m\u001B[43mnumeric_only\u001B[49m\u001B[43m,\u001B[49m\u001B[43m \u001B[49m\u001B[38;5;241;43m*\u001B[39;49m\u001B[38;5;241;43m*\u001B[39;49m\u001B[43mkwargs\u001B[49m\n\u001B[0;32m  11214\u001B[0m \u001B[43m    \u001B[49m\u001B[43m)\u001B[49m\n",
      "File \u001B[1;32mD:\\Users\\selte\\anaconda3\\envs\\Scale_Studies\\lib\\site-packages\\pandas\\core\\generic.py:11158\u001B[0m, in \u001B[0;36mNDFrame._stat_function\u001B[1;34m(self, name, func, axis, skipna, numeric_only, **kwargs)\u001B[0m\n\u001B[0;32m  11154\u001B[0m     nv\u001B[38;5;241m.\u001B[39mvalidate_stat_func((), kwargs, fname\u001B[38;5;241m=\u001B[39mname)\n\u001B[0;32m  11156\u001B[0m validate_bool_kwarg(skipna, \u001B[38;5;124m\"\u001B[39m\u001B[38;5;124mskipna\u001B[39m\u001B[38;5;124m\"\u001B[39m, none_allowed\u001B[38;5;241m=\u001B[39m\u001B[38;5;28;01mFalse\u001B[39;00m)\n\u001B[1;32m> 11158\u001B[0m \u001B[38;5;28;01mreturn\u001B[39;00m \u001B[38;5;28;43mself\u001B[39;49m\u001B[38;5;241;43m.\u001B[39;49m\u001B[43m_reduce\u001B[49m\u001B[43m(\u001B[49m\n\u001B[0;32m  11159\u001B[0m \u001B[43m    \u001B[49m\u001B[43mfunc\u001B[49m\u001B[43m,\u001B[49m\u001B[43m \u001B[49m\u001B[43mname\u001B[49m\u001B[38;5;241;43m=\u001B[39;49m\u001B[43mname\u001B[49m\u001B[43m,\u001B[49m\u001B[43m \u001B[49m\u001B[43maxis\u001B[49m\u001B[38;5;241;43m=\u001B[39;49m\u001B[43maxis\u001B[49m\u001B[43m,\u001B[49m\u001B[43m \u001B[49m\u001B[43mskipna\u001B[49m\u001B[38;5;241;43m=\u001B[39;49m\u001B[43mskipna\u001B[49m\u001B[43m,\u001B[49m\u001B[43m \u001B[49m\u001B[43mnumeric_only\u001B[49m\u001B[38;5;241;43m=\u001B[39;49m\u001B[43mnumeric_only\u001B[49m\n\u001B[0;32m  11160\u001B[0m \u001B[43m\u001B[49m\u001B[43m)\u001B[49m\n",
      "File \u001B[1;32mD:\\Users\\selte\\anaconda3\\envs\\Scale_Studies\\lib\\site-packages\\pandas\\core\\series.py:4670\u001B[0m, in \u001B[0;36mSeries._reduce\u001B[1;34m(self, op, name, axis, skipna, numeric_only, filter_type, **kwds)\u001B[0m\n\u001B[0;32m   4665\u001B[0m     \u001B[38;5;28;01mraise\u001B[39;00m \u001B[38;5;167;01mTypeError\u001B[39;00m(\n\u001B[0;32m   4666\u001B[0m         \u001B[38;5;124mf\u001B[39m\u001B[38;5;124m\"\u001B[39m\u001B[38;5;124mSeries.\u001B[39m\u001B[38;5;132;01m{\u001B[39;00mname\u001B[38;5;132;01m}\u001B[39;00m\u001B[38;5;124m does not allow \u001B[39m\u001B[38;5;132;01m{\u001B[39;00mkwd_name\u001B[38;5;132;01m}\u001B[39;00m\u001B[38;5;124m=\u001B[39m\u001B[38;5;132;01m{\u001B[39;00mnumeric_only\u001B[38;5;132;01m}\u001B[39;00m\u001B[38;5;124m \u001B[39m\u001B[38;5;124m\"\u001B[39m\n\u001B[0;32m   4667\u001B[0m         \u001B[38;5;124m\"\u001B[39m\u001B[38;5;124mwith non-numeric dtypes.\u001B[39m\u001B[38;5;124m\"\u001B[39m\n\u001B[0;32m   4668\u001B[0m     )\n\u001B[0;32m   4669\u001B[0m \u001B[38;5;28;01mwith\u001B[39;00m np\u001B[38;5;241m.\u001B[39merrstate(\u001B[38;5;28mall\u001B[39m\u001B[38;5;241m=\u001B[39m\u001B[38;5;124m\"\u001B[39m\u001B[38;5;124mignore\u001B[39m\u001B[38;5;124m\"\u001B[39m):\n\u001B[1;32m-> 4670\u001B[0m     \u001B[38;5;28;01mreturn\u001B[39;00m \u001B[43mop\u001B[49m\u001B[43m(\u001B[49m\u001B[43mdelegate\u001B[49m\u001B[43m,\u001B[49m\u001B[43m \u001B[49m\u001B[43mskipna\u001B[49m\u001B[38;5;241;43m=\u001B[39;49m\u001B[43mskipna\u001B[49m\u001B[43m,\u001B[49m\u001B[43m \u001B[49m\u001B[38;5;241;43m*\u001B[39;49m\u001B[38;5;241;43m*\u001B[39;49m\u001B[43mkwds\u001B[49m\u001B[43m)\u001B[49m\n",
      "File \u001B[1;32mD:\\Users\\selte\\anaconda3\\envs\\Scale_Studies\\lib\\site-packages\\pandas\\core\\nanops.py:158\u001B[0m, in \u001B[0;36mbottleneck_switch.__call__.<locals>.f\u001B[1;34m(values, axis, skipna, **kwds)\u001B[0m\n\u001B[0;32m    156\u001B[0m         result \u001B[38;5;241m=\u001B[39m alt(values, axis\u001B[38;5;241m=\u001B[39maxis, skipna\u001B[38;5;241m=\u001B[39mskipna, \u001B[38;5;241m*\u001B[39m\u001B[38;5;241m*\u001B[39mkwds)\n\u001B[0;32m    157\u001B[0m \u001B[38;5;28;01melse\u001B[39;00m:\n\u001B[1;32m--> 158\u001B[0m     result \u001B[38;5;241m=\u001B[39m \u001B[43malt\u001B[49m\u001B[43m(\u001B[49m\u001B[43mvalues\u001B[49m\u001B[43m,\u001B[49m\u001B[43m \u001B[49m\u001B[43maxis\u001B[49m\u001B[38;5;241;43m=\u001B[39;49m\u001B[43maxis\u001B[49m\u001B[43m,\u001B[49m\u001B[43m \u001B[49m\u001B[43mskipna\u001B[49m\u001B[38;5;241;43m=\u001B[39;49m\u001B[43mskipna\u001B[49m\u001B[43m,\u001B[49m\u001B[43m \u001B[49m\u001B[38;5;241;43m*\u001B[39;49m\u001B[38;5;241;43m*\u001B[39;49m\u001B[43mkwds\u001B[49m\u001B[43m)\u001B[49m\n\u001B[0;32m    160\u001B[0m \u001B[38;5;28;01mreturn\u001B[39;00m result\n",
      "File \u001B[1;32mD:\\Users\\selte\\anaconda3\\envs\\Scale_Studies\\lib\\site-packages\\pandas\\core\\nanops.py:789\u001B[0m, in \u001B[0;36mnanmedian\u001B[1;34m(values, axis, skipna, mask)\u001B[0m\n\u001B[0;32m    786\u001B[0m         values \u001B[38;5;241m=\u001B[39m values\u001B[38;5;241m.\u001B[39mastype(\u001B[38;5;124m\"\u001B[39m\u001B[38;5;124mf8\u001B[39m\u001B[38;5;124m\"\u001B[39m)\n\u001B[0;32m    787\u001B[0m     \u001B[38;5;28;01mexcept\u001B[39;00m \u001B[38;5;167;01mValueError\u001B[39;00m \u001B[38;5;28;01mas\u001B[39;00m err:\n\u001B[0;32m    788\u001B[0m         \u001B[38;5;66;03m# e.g. \"could not convert string to float: 'a'\"\u001B[39;00m\n\u001B[1;32m--> 789\u001B[0m         \u001B[38;5;28;01mraise\u001B[39;00m \u001B[38;5;167;01mTypeError\u001B[39;00m(\u001B[38;5;28mstr\u001B[39m(err)) \u001B[38;5;28;01mfrom\u001B[39;00m \u001B[38;5;21;01merr\u001B[39;00m\n\u001B[0;32m    790\u001B[0m \u001B[38;5;28;01mif\u001B[39;00m mask \u001B[38;5;129;01mis\u001B[39;00m \u001B[38;5;129;01mnot\u001B[39;00m \u001B[38;5;28;01mNone\u001B[39;00m:\n\u001B[0;32m    791\u001B[0m     values[mask] \u001B[38;5;241m=\u001B[39m np\u001B[38;5;241m.\u001B[39mnan\n",
      "\u001B[1;31mTypeError\u001B[0m: could not convert string to float: 'likert'"
     ]
    }
   ],
   "execution_count": 7
  },
  {
   "cell_type": "markdown",
   "source": [
    "## Uniform sets - Preprocessing\n",
    "### Processing the pre-downloaded subject data files"
   ],
   "metadata": {
    "collapsed": false
   }
  },
  {
   "cell_type": "code",
   "source": [
    "%run \"Study_Uniform/Scripts/a_Preprocessing/c_Preprocess_Raw.py\""
   ],
   "metadata": {
    "collapsed": false,
    "ExecuteTime": {
     "end_time": "2024-12-13T21:37:35.213316Z",
     "start_time": "2024-12-13T21:37:34.696069Z"
    }
   },
   "outputs": [
    {
     "name": "stdout",
     "output_type": "stream",
     "text": [
      "Processing: ATONB0004\n",
      "Processing: ATONB0005\n",
      "Processing: ATONB0006\n",
      "Processing: ATONB0007\n",
      "Processing: ATONB0009\n",
      "Processing: ATONB0010\n",
      "Processing: ATONB0011\n",
      "Processing: ATONB0015\n",
      "Processing: ATONB0016\n",
      "Processing: ATONB0017\n",
      "Processing: ATONB0018\n",
      "Processing: ATONB0020\n",
      "Processing: ATONB0022\n",
      "Processing: ATONB0023\n",
      "Processing: ATONB0026\n",
      "Processing: ATONB0027\n",
      "Processing: ATONB0028\n",
      "Processing: ATONB0035\n",
      "Processing: ATONB0036\n",
      "Processing: ATONB0037\n",
      "Processing: ATONB0039\n",
      "Processing: ATONB0041\n",
      "Processing: ATONB0042\n",
      "Processing: ATONB0048\n",
      "Processing: ATONB0054\n",
      "Processing: ATONB0055\n",
      "Processing: ATONB0065\n",
      "Processing: ATONB0066\n",
      "Processing: ATONB0068\n",
      "Processing: ATONB0069\n",
      "Processing: ATONB0071\n",
      "Processing: ATONB0073\n",
      "Processing: ATONB0074\n",
      "Processing: ATONB0075\n",
      "Processing: ATONB0076\n",
      "Processing: ATONB0077\n",
      "Processing: ATONB0078\n",
      "Processing: ATONB0079\n",
      "Processing: ATONB0082\n",
      "Processing: ATONB0084\n",
      "Processing: ATONB0085\n",
      "Processing: ATONB0087\n",
      "Processing: ATONB0088\n",
      "Processing: ATONB0089\n",
      "Processing: ATONB0093\n",
      "Processing: ATONB0102\n",
      "Processing: ATONB0103\n",
      "Processing: ATONB0104\n",
      "Processing: ATONB0106\n",
      "Processing: ATONB0108\n",
      "Processing: ATONB0109\n",
      "Processing: ATONB0110\n",
      "Processing: ATONB0112\n",
      "Processing: ATONB0114\n",
      "Processing: ATONB0118\n",
      "Processing: ATONB0119\n",
      "Processing: ATONB0120\n",
      "Data saved to D:\\Users\\selte\\Documents\\PycharmProjects\\Membership_Set_Paper\\Study_Uniform/Data/Experimental/Processed/single_trial_results.pickle\n",
      "Counting I7\n",
      "Counting I5\n",
      "Counting I1\n",
      "Counting I11\n",
      "Adding set features\n",
      "Preprocessing complete.\n"
     ]
    }
   ],
   "execution_count": 8
  },
  {
   "cell_type": "markdown",
   "source": [
    "### Consolidating individual responses into a group and set level representation"
   ],
   "metadata": {
    "collapsed": false
   }
  },
  {
   "cell_type": "code",
   "source": [
    "%run \"Study_Uniform/Scripts/b_Analysis/Group_Level_Set.py\""
   ],
   "metadata": {
    "collapsed": false,
    "ExecuteTime": {
     "end_time": "2024-12-13T21:37:37.231234Z",
     "start_time": "2024-12-13T21:37:37.095207Z"
    }
   },
   "outputs": [
    {
     "name": "stderr",
     "output_type": "stream",
     "text": [
      "D:\\Users\\selte\\Documents\\PycharmProjects\\Membership_Set_Paper\\Shared_Scripts\\Group_Level_Set.py:74: SettingWithCopyWarning: \n",
      "A value is trying to be set on a copy of a slice from a DataFrame.\n",
      "Try using .loc[row_indexer,col_indexer] = value instead\n",
      "\n",
      "See the caveats in the documentation: https://pandas.pydata.org/pandas-docs/stable/user_guide/indexing.html#returning-a-view-versus-a-copy\n",
      "  choices['response'] = choices['response'].str.replace('1st','A')\n",
      "D:\\Users\\selte\\Documents\\PycharmProjects\\Membership_Set_Paper\\Shared_Scripts\\Group_Level_Set.py:75: SettingWithCopyWarning: \n",
      "A value is trying to be set on a copy of a slice from a DataFrame.\n",
      "Try using .loc[row_indexer,col_indexer] = value instead\n",
      "\n",
      "See the caveats in the documentation: https://pandas.pydata.org/pandas-docs/stable/user_guide/indexing.html#returning-a-view-versus-a-copy\n",
      "  choices['response'] = choices['response'].str.replace('2nd','B')\n"
     ]
    }
   ],
   "execution_count": 9
  },
  {
   "metadata": {},
   "cell_type": "markdown",
   "source": [
    "## Tritave - Uniform sets - Preprocessing\n",
    "### Processing the pre-downloaded subject data files"
   ]
  },
  {
   "metadata": {
    "ExecuteTime": {
     "end_time": "2024-12-13T21:37:39.290449Z",
     "start_time": "2024-12-13T21:37:39.031899Z"
    }
   },
   "cell_type": "code",
   "source": "%run \"Study_Tritave_Uniform/Scripts/a_Preprocessing/c_Preprocess_Raw.py\"",
   "outputs": [
    {
     "name": "stdout",
     "output_type": "stream",
     "text": [
      "Processing: BPA0006\n",
      "Processing: BPA0007\n",
      "Processing: BPA0008\n",
      "Processing: BPA0010\n",
      "Processing: BPA0011\n",
      "Processing: BPA0014\n",
      "Processing: BPA0015\n",
      "Processing: BPA0016\n",
      "Processing: BPA0017\n",
      "Processing: BPA0018\n",
      "Processing: BPA0019\n",
      "Processing: BPA0020\n",
      "Processing: BPA0021\n",
      "Processing: BPA0024\n",
      "Processing: BPA0026\n",
      "Processing: BPA0027\n",
      "Processing: BPA0029\n",
      "Processing: BPA0031\n",
      "Processing: BPA0033\n",
      "Processing: BPA0034\n",
      "Processing: BPA0035\n",
      "Processing: BPA0036\n",
      "Processing: BPA0037\n",
      "Processing: BPA0039\n",
      "Processing: BPA0040\n",
      "Processing: BPA0043\n",
      "Processing: BPA0046\n",
      "Processing: BPA0047\n",
      "Processing: BPA0051\n",
      "Data saved to D:\\Users\\selte\\Documents\\PycharmProjects\\Membership_Set_Paper\\Study_Tritave_Uniform/Data/Experimental/Processed/single_trial_results.pickle\n",
      "Preprocessing complete.\n"
     ]
    }
   ],
   "execution_count": 10
  },
  {
   "metadata": {},
   "cell_type": "markdown",
   "source": "### Consolidating individual responses into a group and set level representation"
  },
  {
   "metadata": {
    "ExecuteTime": {
     "end_time": "2024-12-13T21:37:40.997641Z",
     "start_time": "2024-12-13T21:37:40.911606Z"
    }
   },
   "cell_type": "code",
   "source": "%run \"Study_Tritave_Uniform/Scripts/b_Analysis/Group_Level_Set.py\"",
   "outputs": [
    {
     "name": "stderr",
     "output_type": "stream",
     "text": [
      "D:\\Users\\selte\\Documents\\PycharmProjects\\Membership_Set_Paper\\Shared_Scripts\\Group_Level_Set.py:74: SettingWithCopyWarning: \n",
      "A value is trying to be set on a copy of a slice from a DataFrame.\n",
      "Try using .loc[row_indexer,col_indexer] = value instead\n",
      "\n",
      "See the caveats in the documentation: https://pandas.pydata.org/pandas-docs/stable/user_guide/indexing.html#returning-a-view-versus-a-copy\n",
      "  choices['response'] = choices['response'].str.replace('1st','A')\n",
      "D:\\Users\\selte\\Documents\\PycharmProjects\\Membership_Set_Paper\\Shared_Scripts\\Group_Level_Set.py:75: SettingWithCopyWarning: \n",
      "A value is trying to be set on a copy of a slice from a DataFrame.\n",
      "Try using .loc[row_indexer,col_indexer] = value instead\n",
      "\n",
      "See the caveats in the documentation: https://pandas.pydata.org/pandas-docs/stable/user_guide/indexing.html#returning-a-view-versus-a-copy\n",
      "  choices['response'] = choices['response'].str.replace('2nd','B')\n"
     ]
    }
   ],
   "execution_count": 11
  },
  {
   "metadata": {},
   "cell_type": "markdown",
   "source": ""
  },
  {
   "metadata": {
    "ExecuteTime": {
     "end_time": "2024-12-13T21:37:43.132628Z",
     "start_time": "2024-12-13T21:37:43.129631Z"
    }
   },
   "cell_type": "code",
   "source": [
    "## Tritave - Pentachord sets - Preprocessing\n",
    "### Processing the pre-downloaded subject data files"
   ],
   "outputs": [],
   "execution_count": 12
  },
  {
   "metadata": {
    "ExecuteTime": {
     "end_time": "2024-12-13T21:37:44.437192Z",
     "start_time": "2024-12-13T21:37:44.029609Z"
    }
   },
   "cell_type": "code",
   "source": "%run \"Study_Tritave_pentachords/Scripts/a_Preprocessing/c_Preprocess_Raw.py\"",
   "outputs": [
    {
     "name": "stdout",
     "output_type": "stream",
     "text": [
      "Processing: BPB0003\n",
      "Processing: BPB0004\n",
      "Processing: BPB0005\n",
      "Processing: BPB0007\n",
      "Processing: BPB0010\n",
      "Processing: BPB0011\n",
      "Processing: BPB0013\n",
      "Processing: BPB0014\n",
      "Processing: BPB0015\n",
      "Processing: BPB0016\n",
      "Processing: BPB0017\n",
      "Processing: BPB0018\n",
      "Processing: BPB0019\n",
      "Processing: BPB0020\n",
      "Processing: BPB0021\n",
      "Processing: BPB0022\n",
      "Processing: BPB0023\n",
      "Processing: BPB0024\n",
      "Processing: BPB0025\n",
      "Processing: BPB0026\n",
      "Processing: BPB0027\n",
      "Processing: BPB0028\n",
      "Processing: BPB0029\n",
      "Processing: BPB0031\n",
      "Processing: BPB0033\n",
      "Processing: BPB0034\n",
      "Processing: BPB0035\n",
      "Processing: BPB0036\n",
      "Processing: BPB0039\n",
      "Processing: BPB0040\n",
      "Processing: BPB0041\n",
      "Processing: BPB0042\n",
      "Processing: BPB0043\n",
      "Processing: BPB0047\n",
      "Processing: BPB0049\n",
      "Processing: BPB0054\n",
      "Processing: BPB0055\n",
      "Processing: BPB0057\n",
      "Processing: BPB0058\n",
      "Processing: BPB0059\n",
      "Data saved to D:\\Users\\selte\\Documents\\PycharmProjects\\Membership_Set_Paper\\Study_Tritave_pentachords/Data/Experimental/Processed/single_trial_results.pickle\n",
      "Preprocessing complete.\n"
     ]
    }
   ],
   "execution_count": 13
  },
  {
   "metadata": {},
   "cell_type": "markdown",
   "source": "### Consolidating individual responses into a group and set level representation"
  },
  {
   "metadata": {
    "ExecuteTime": {
     "end_time": "2024-12-13T21:37:46.201005Z",
     "start_time": "2024-12-13T21:37:46.100898Z"
    }
   },
   "cell_type": "code",
   "source": "%run \"Study_Tritave_pentachords/Scripts/b_Analysis/Group_Level_Set.py\"",
   "outputs": [
    {
     "name": "stderr",
     "output_type": "stream",
     "text": [
      "D:\\Users\\selte\\Documents\\PycharmProjects\\Membership_Set_Paper\\Shared_Scripts\\Group_Level_Set.py:74: SettingWithCopyWarning: \n",
      "A value is trying to be set on a copy of a slice from a DataFrame.\n",
      "Try using .loc[row_indexer,col_indexer] = value instead\n",
      "\n",
      "See the caveats in the documentation: https://pandas.pydata.org/pandas-docs/stable/user_guide/indexing.html#returning-a-view-versus-a-copy\n",
      "  choices['response'] = choices['response'].str.replace('1st','A')\n",
      "D:\\Users\\selte\\Documents\\PycharmProjects\\Membership_Set_Paper\\Shared_Scripts\\Group_Level_Set.py:75: SettingWithCopyWarning: \n",
      "A value is trying to be set on a copy of a slice from a DataFrame.\n",
      "Try using .loc[row_indexer,col_indexer] = value instead\n",
      "\n",
      "See the caveats in the documentation: https://pandas.pydata.org/pandas-docs/stable/user_guide/indexing.html#returning-a-view-versus-a-copy\n",
      "  choices['response'] = choices['response'].str.replace('2nd','B')\n"
     ]
    }
   ],
   "execution_count": 14
  },
  {
   "metadata": {},
   "cell_type": "code",
   "outputs": [],
   "execution_count": null,
   "source": ""
  }
 ],
 "metadata": {
  "kernelspec": {
   "display_name": "Python 3",
   "language": "python",
   "name": "python3"
  },
  "language_info": {
   "codemirror_mode": {
    "name": "ipython",
    "version": 2
   },
   "file_extension": ".py",
   "mimetype": "text/x-python",
   "name": "python",
   "nbconvert_exporter": "python",
   "pygments_lexer": "ipython2",
   "version": "2.7.6"
  }
 },
 "nbformat": 4,
 "nbformat_minor": 0
}
