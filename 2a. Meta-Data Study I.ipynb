{
 "cells": [
  {
   "cell_type": "markdown",
   "source": [
    "# Meta-Data - Study I\n",
    "## Imports"
   ],
   "metadata": {
    "collapsed": false
   }
  },
  {
   "cell_type": "code",
   "source": [
    "# load dependencies\n",
    "import seaborn as sns\n",
    "import StudyI_Pentatonic_vs_Chromatic.paths as StudyI_paths\n",
    "import pandas as pd\n",
    "import matplotlib.pyplot as plt"
   ],
   "metadata": {
    "collapsed": false,
    "pycharm": {
     "name": "#%%\n"
    },
    "ExecuteTime": {
     "end_time": "2024-05-08T23:01:12.553083Z",
     "start_time": "2024-05-08T23:01:12.548079Z"
    }
   },
   "execution_count": 1,
   "outputs": []
  },
  {
   "cell_type": "code",
   "source": [
    "# Load data\n",
    "studyI_GL = pd.read_pickle(StudyI_paths.processed_dir + StudyI_paths.post_exclusion_data_pickle_filename) # Study I: Post-exclusion group-level data"
   ],
   "metadata": {
    "collapsed": false,
    "pycharm": {
     "name": "#%%\n"
    },
    "ExecuteTime": {
     "end_time": "2024-05-08T23:01:14.288137Z",
     "start_time": "2024-05-08T23:01:14.282625Z"
    }
   },
   "execution_count": 2,
   "outputs": []
  },
  {
   "cell_type": "markdown",
   "source": [
    "### Demographics"
   ],
   "metadata": {
    "collapsed": false
   }
  },
  {
   "cell_type": "code",
   "source": [
    "temp = studyI_GL\n",
    "\n",
    "temp = temp.groupby(['sona','length','subject']).first().reset_index()\n",
    "\n",
    "# group total subjects by length\n",
    "temp = temp.groupby(['length', 'subject_gender']).count().reset_index()\n",
    "# plot\n",
    "# sns.catplot(y=\"sona\", x=\"length\", kind=\"bar\", hue=\"subject_gender\", data=temp)\n",
    "\n",
    "# Print number of subjects for each melody length\n",
    "print(\"Number of subjects per melody length:\")\n",
    "print(temp[['length','sona','subject_gender']])\n"
   ],
   "metadata": {
    "collapsed": false,
    "ExecuteTime": {
     "end_time": "2024-05-08T23:01:16.598330Z",
     "start_time": "2024-05-08T23:01:16.580673Z"
    }
   },
   "execution_count": 3,
   "outputs": []
  },
  {
   "metadata": {
    "ExecuteTime": {
     "end_time": "2024-05-08T23:01:18.025537Z",
     "start_time": "2024-05-08T23:01:18.023531Z"
    }
   },
   "cell_type": "code",
   "source": "",
   "execution_count": 3,
   "outputs": []
  },
  {
   "cell_type": "code",
   "source": [
    "temp = studyI_GL\n",
    "# group total subjects by length\n",
    "temp = temp.groupby(['sona','length','subject']).count().reset_index()\n",
    "\n",
    "# Get average age and range of ages for each melody length\n",
    "temp = studyI_GL.groupby(['length']).agg({'subject_age': ['mean', 'min', 'max']}).reset_index()\n",
    "temp.columns = ['length', 'mean', 'min', 'max']\n",
    "# round to 2 decimal places\n",
    "temp = temp.round(decimals=2)\n",
    "print(\"Average age and range of ages for each melody length:\")\n",
    "print(temp)\n",
    "\n"
   ],
   "metadata": {
    "collapsed": false,
    "ExecuteTime": {
     "end_time": "2024-05-08T23:01:33.898327Z",
     "start_time": "2024-05-08T23:01:33.886313Z"
    }
   },
   "execution_count": 4,
   "outputs": []
  },
  {
   "cell_type": "code",
   "execution_count": 33,
   "source": [
    "# number of subjects with 0 years of musical training 12+16 notes\n",
    "temp = studyI_GL[(studyI_GL['length'] >= 12)]\n",
    "temp = temp[temp['How many years of formal musical training do you have?'] == \"0\"]\n",
    "temp = temp.groupby(['sona','length','subject']).first().reset_index()\n",
    "# group total subjects by length\n",
    "temp = temp.groupby(['length', 'subject_gender']).count().reset_index()\n",
    "\n",
    "print(temp[['length','sona','subject_gender']])\n"
   ],
   "metadata": {
    "collapsed": false,
    "ExecuteTime": {
     "end_time": "2024-02-01T18:37:57.780067300Z",
     "start_time": "2024-02-01T18:37:57.773019400Z"
    }
   },
   "outputs": []
  },
  {
   "cell_type": "markdown",
   "source": [
    "## Plots\n",
    "### Number of subjects per any given melody length"
   ],
   "metadata": {
    "collapsed": false
   }
  },
  {
   "cell_type": "code",
   "execution_count": 5,
   "source": [
    "temp = studyI_GL.groupby(['length']).count().reset_index()\n",
    "temp = temp.rename(columns={'subject':'Number of subjects'})\n",
    "sns.catplot(y=\"Number of subjects\", x=\"length\", kind=\"bar\", data=temp)\n",
    "plt.savefig(StudyI_paths.plots_dir + \"subjects_per_set.svg\")"
   ],
   "metadata": {
    "collapsed": false,
    "pycharm": {
     "name": "#%%\n"
    },
    "ExecuteTime": {
     "end_time": "2023-10-05T18:26:33.879861800Z",
     "start_time": "2023-10-05T18:26:33.688945700Z"
    }
   },
   "outputs": []
  },
  {
   "cell_type": "markdown",
   "source": [
    "### Distribution of button presses\n",
    "1st - left button\n",
    "neither - middle button\n",
    "2nd - right button"
   ],
   "metadata": {
    "collapsed": false
   }
  },
  {
   "cell_type": "code",
   "execution_count": 6,
   "source": [
    "# Study I: Distribution of button presses\n",
    "temp = studyI_GL[['subject', 'rate pressed neither (task)','rate pressed 1st (task)','rate pressed 2nd (task)']]\n",
    "temp = temp.rename(columns={'rate pressed neither (task)':'neither','rate pressed 1st (task)':'1st','rate pressed 2nd (task)':'2nd'})\n",
    "temp = temp.groupby('subject').mean().stack().reset_index()\n",
    "temp = temp.rename(columns={'level_1':'pressed',0:'rate'})\n",
    "sns.displot(data=temp, x=\"rate\", hue=\"pressed\",kind='kde')\n",
    "plt.savefig(StudyI_paths.plots_dir + \"dist_of_buttons.svg\")"
   ],
   "metadata": {
    "collapsed": false,
    "pycharm": {
     "name": "#%%\n"
    },
    "ExecuteTime": {
     "end_time": "2023-10-05T18:26:36.667117Z",
     "start_time": "2023-10-05T18:26:36.398874500Z"
    }
   },
   "outputs": []
  },
  {
   "cell_type": "markdown",
   "source": [
    "### Distribution of amount of \"neither\" presses across the task\n"
   ],
   "metadata": {
    "collapsed": false
   }
  },
  {
   "cell_type": "code",
   "execution_count": 7,
   "source": [
    "sns.displot(data=studyI_GL, x=\"# neither\")\n",
    "plt.savefig(StudyI_paths.plots_dir + \"dist_of_neithers.svg\")"
   ],
   "metadata": {
    "collapsed": false,
    "pycharm": {
     "name": "#%%\n"
    },
    "ExecuteTime": {
     "end_time": "2023-10-05T18:26:38.642937500Z",
     "start_time": "2023-10-05T18:26:38.456263500Z"
    }
   },
   "outputs": []
  },
  {
   "cell_type": "code",
   "execution_count": null,
   "source": [],
   "metadata": {
    "collapsed": false
   },
   "outputs": []
  }
 ],
 "metadata": {
  "kernelspec": {
   "display_name": "Python 3",
   "language": "python",
   "name": "python3"
  },
  "language_info": {
   "codemirror_mode": {
    "name": "ipython",
    "version": 2
   },
   "file_extension": ".py",
   "mimetype": "text/x-python",
   "name": "python",
   "nbconvert_exporter": "python",
   "pygments_lexer": "ipython2",
   "version": "2.7.6"
  }
 },
 "nbformat": 4,
 "nbformat_minor": 0
}
